{
 "cells": [
  {
   "cell_type": "markdown",
   "metadata": {
    "id": "x3rUdKNmL3VQ"
   },
   "source": [
    "# Imports"
   ]
  },
  {
   "cell_type": "code",
   "execution_count": null,
   "metadata": {
    "id": "DGSd0R5JfEnD"
   },
   "outputs": [],
   "source": [
    "import time\n",
    "import pandas as pd\n",
    "import numpy as np\n",
    "from matplotlib import pyplot as plt"
   ]
  },
  {
   "cell_type": "code",
   "execution_count": null,
   "metadata": {
    "colab": {
     "base_uri": "https://localhost:8080/"
    },
    "executionInfo": {
     "elapsed": 1074,
     "status": "ok",
     "timestamp": 1619509783183,
     "user": {
      "displayName": "Marat Bekmyrza",
      "photoUrl": "https://lh3.googleusercontent.com/a-/AOh14Gib-0tD7WjH3aGtX_5Rj6vIsFhVEXlrGvZoOgMH=s64",
      "userId": "16583475954751235795"
     },
     "user_tz": -360
    },
    "id": "NzfLDRtzfHwp",
    "outputId": "ebbe8f31-bc32-403f-b010-d6ca084fe0be"
   },
   "outputs": [
    {
     "name": "stdout",
     "output_type": "stream",
     "text": [
      "Drive already mounted at /content/drive; to attempt to forcibly remount, call drive.mount(\"/content/drive\", force_remount=True).\n"
     ]
    }
   ],
   "source": [
    "from google.colab import drive\n",
    "drive.mount('/content/drive')"
   ]
  },
  {
   "cell_type": "code",
   "execution_count": null,
   "metadata": {
    "colab": {
     "base_uri": "https://localhost:8080/"
    },
    "executionInfo": {
     "elapsed": 1072,
     "status": "ok",
     "timestamp": 1619509783184,
     "user": {
      "displayName": "Marat Bekmyrza",
      "photoUrl": "https://lh3.googleusercontent.com/a-/AOh14Gib-0tD7WjH3aGtX_5Rj6vIsFhVEXlrGvZoOgMH=s64",
      "userId": "16583475954751235795"
     },
     "user_tz": -360
    },
    "id": "dEtx5tDnfpaB",
    "outputId": "d2f311b8-08a5-4cb7-cefa-47f03ac9ba34"
   },
   "outputs": [
    {
     "name": "stdout",
     "output_type": "stream",
     "text": [
      "/content/drive/MyDrive/Research/Capstone/data\n"
     ]
    }
   ],
   "source": [
    "import os\n",
    "os.chdir('/content/drive/MyDrive/Research/Capstone/data')\n",
    "!pwd"
   ]
  },
  {
   "cell_type": "markdown",
   "metadata": {
    "id": "xYUxuJuYKgvW"
   },
   "source": [
    "# Data Processing"
   ]
  },
  {
   "cell_type": "code",
   "execution_count": null,
   "metadata": {
    "colab": {
     "base_uri": "https://localhost:8080/",
     "height": 343
    },
    "executionInfo": {
     "elapsed": 1214,
     "status": "ok",
     "timestamp": 1619509788760,
     "user": {
      "displayName": "Marat Bekmyrza",
      "photoUrl": "https://lh3.googleusercontent.com/a-/AOh14Gib-0tD7WjH3aGtX_5Rj6vIsFhVEXlrGvZoOgMH=s64",
      "userId": "16583475954751235795"
     },
     "user_tz": -360
    },
    "id": "cM25ZJ7xfvPx",
    "outputId": "34247c01-fb22-4849-df1b-e56518ca8bca"
   },
   "outputs": [
    {
     "data": {
      "text/html": [
       "<div>\n",
       "<style scoped>\n",
       "    .dataframe tbody tr th:only-of-type {\n",
       "        vertical-align: middle;\n",
       "    }\n",
       "\n",
       "    .dataframe tbody tr th {\n",
       "        vertical-align: top;\n",
       "    }\n",
       "\n",
       "    .dataframe thead th {\n",
       "        text-align: right;\n",
       "    }\n",
       "</style>\n",
       "<table border=\"1\" class=\"dataframe\">\n",
       "  <thead>\n",
       "    <tr style=\"text-align: right;\">\n",
       "      <th></th>\n",
       "      <th>Date Time</th>\n",
       "      <th>p (mbar)</th>\n",
       "      <th>T (degC)</th>\n",
       "      <th>Tpot (K)</th>\n",
       "      <th>Tdew (degC)</th>\n",
       "      <th>rh (%)</th>\n",
       "      <th>VPmax (mbar)</th>\n",
       "      <th>VPact (mbar)</th>\n",
       "      <th>VPdef (mbar)</th>\n",
       "      <th>sh (g/kg)</th>\n",
       "      <th>H2OC (mmol/mol)</th>\n",
       "      <th>rho (g/m**3)</th>\n",
       "      <th>wv (m/s)</th>\n",
       "      <th>max. wv (m/s)</th>\n",
       "      <th>wd (deg)</th>\n",
       "    </tr>\n",
       "  </thead>\n",
       "  <tbody>\n",
       "    <tr>\n",
       "      <th>0</th>\n",
       "      <td>01.01.2009 00:10:00</td>\n",
       "      <td>996.52</td>\n",
       "      <td>-8.02</td>\n",
       "      <td>265.40</td>\n",
       "      <td>-8.90</td>\n",
       "      <td>93.3</td>\n",
       "      <td>3.33</td>\n",
       "      <td>3.11</td>\n",
       "      <td>0.22</td>\n",
       "      <td>1.94</td>\n",
       "      <td>3.12</td>\n",
       "      <td>1307.75</td>\n",
       "      <td>1.03</td>\n",
       "      <td>1.75</td>\n",
       "      <td>152.3</td>\n",
       "    </tr>\n",
       "    <tr>\n",
       "      <th>1</th>\n",
       "      <td>01.01.2009 00:20:00</td>\n",
       "      <td>996.57</td>\n",
       "      <td>-8.41</td>\n",
       "      <td>265.01</td>\n",
       "      <td>-9.28</td>\n",
       "      <td>93.4</td>\n",
       "      <td>3.23</td>\n",
       "      <td>3.02</td>\n",
       "      <td>0.21</td>\n",
       "      <td>1.89</td>\n",
       "      <td>3.03</td>\n",
       "      <td>1309.80</td>\n",
       "      <td>0.72</td>\n",
       "      <td>1.50</td>\n",
       "      <td>136.1</td>\n",
       "    </tr>\n",
       "    <tr>\n",
       "      <th>2</th>\n",
       "      <td>01.01.2009 00:30:00</td>\n",
       "      <td>996.53</td>\n",
       "      <td>-8.51</td>\n",
       "      <td>264.91</td>\n",
       "      <td>-9.31</td>\n",
       "      <td>93.9</td>\n",
       "      <td>3.21</td>\n",
       "      <td>3.01</td>\n",
       "      <td>0.20</td>\n",
       "      <td>1.88</td>\n",
       "      <td>3.02</td>\n",
       "      <td>1310.24</td>\n",
       "      <td>0.19</td>\n",
       "      <td>0.63</td>\n",
       "      <td>171.6</td>\n",
       "    </tr>\n",
       "    <tr>\n",
       "      <th>3</th>\n",
       "      <td>01.01.2009 00:40:00</td>\n",
       "      <td>996.51</td>\n",
       "      <td>-8.31</td>\n",
       "      <td>265.12</td>\n",
       "      <td>-9.07</td>\n",
       "      <td>94.2</td>\n",
       "      <td>3.26</td>\n",
       "      <td>3.07</td>\n",
       "      <td>0.19</td>\n",
       "      <td>1.92</td>\n",
       "      <td>3.08</td>\n",
       "      <td>1309.19</td>\n",
       "      <td>0.34</td>\n",
       "      <td>0.50</td>\n",
       "      <td>198.0</td>\n",
       "    </tr>\n",
       "    <tr>\n",
       "      <th>4</th>\n",
       "      <td>01.01.2009 00:50:00</td>\n",
       "      <td>996.51</td>\n",
       "      <td>-8.27</td>\n",
       "      <td>265.15</td>\n",
       "      <td>-9.04</td>\n",
       "      <td>94.1</td>\n",
       "      <td>3.27</td>\n",
       "      <td>3.08</td>\n",
       "      <td>0.19</td>\n",
       "      <td>1.92</td>\n",
       "      <td>3.09</td>\n",
       "      <td>1309.00</td>\n",
       "      <td>0.32</td>\n",
       "      <td>0.63</td>\n",
       "      <td>214.3</td>\n",
       "    </tr>\n",
       "  </tbody>\n",
       "</table>\n",
       "</div>"
      ],
      "text/plain": [
       "             Date Time  p (mbar)  T (degC)  ...  wv (m/s)  max. wv (m/s)  wd (deg)\n",
       "0  01.01.2009 00:10:00    996.52     -8.02  ...      1.03           1.75     152.3\n",
       "1  01.01.2009 00:20:00    996.57     -8.41  ...      0.72           1.50     136.1\n",
       "2  01.01.2009 00:30:00    996.53     -8.51  ...      0.19           0.63     171.6\n",
       "3  01.01.2009 00:40:00    996.51     -8.31  ...      0.34           0.50     198.0\n",
       "4  01.01.2009 00:50:00    996.51     -8.27  ...      0.32           0.63     214.3\n",
       "\n",
       "[5 rows x 15 columns]"
      ]
     },
     "execution_count": 10,
     "metadata": {
      "tags": []
     },
     "output_type": "execute_result"
    }
   ],
   "source": [
    "# data\n",
    "df = pd.read_csv('jena.csv')\n",
    "df.head()"
   ]
  },
  {
   "cell_type": "code",
   "execution_count": null,
   "metadata": {
    "colab": {
     "base_uri": "https://localhost:8080/"
    },
    "executionInfo": {
     "elapsed": 1211,
     "status": "ok",
     "timestamp": 1619509788762,
     "user": {
      "displayName": "Marat Bekmyrza",
      "photoUrl": "https://lh3.googleusercontent.com/a-/AOh14Gib-0tD7WjH3aGtX_5Rj6vIsFhVEXlrGvZoOgMH=s64",
      "userId": "16583475954751235795"
     },
     "user_tz": -360
    },
    "id": "81Srxpuzz4yu",
    "outputId": "b4d1805a-63a5-44f4-d5f7-6ed8822374f1"
   },
   "outputs": [
    {
     "name": "stdout",
     "output_type": "stream",
     "text": [
      "Start:  01.01.2009 00:10:00\n",
      "End:  31.12.2016 23:50:00\n"
     ]
    }
   ],
   "source": [
    "print('Start: ', df.iloc[0]['Date Time'])\n",
    "print('End: ', df.iloc[-2]['Date Time'])"
   ]
  },
  {
   "cell_type": "code",
   "execution_count": null,
   "metadata": {
    "colab": {
     "base_uri": "https://localhost:8080/",
     "height": 54
    },
    "executionInfo": {
     "elapsed": 1738,
     "status": "ok",
     "timestamp": 1619509789292,
     "user": {
      "displayName": "Marat Bekmyrza",
      "photoUrl": "https://lh3.googleusercontent.com/a-/AOh14Gib-0tD7WjH3aGtX_5Rj6vIsFhVEXlrGvZoOgMH=s64",
      "userId": "16583475954751235795"
     },
     "user_tz": -360
    },
    "id": "jqb4VXevr_MQ",
    "outputId": "0759f153-08e0-413b-e13a-1c493cf293de"
   },
   "outputs": [
    {
     "data": {
      "image/png": "[encoded data removed]",
      "text/plain": [
       "<Figure size 432x288 with 1 Axes>"
      ]
     },
     "metadata": {
      "needs_background": "light",
      "tags": []
     },
     "output_type": "display_data"
    }
   ],
   "source": [
    "# Plot temperature\n",
    "plt.figure()\n",
    "plt.plot(df['T (degC)'], 'b')\n",
    "plt.xlabel('Time points'), plt.ylabel('Temperature value')\n",
    "plt.show()"
   ]
  },
  {
   "cell_type": "code",
   "execution_count": null,
   "metadata": {
    "colab": {
     "base_uri": "https://localhost:8080/",
     "height": 54
    },
    "executionInfo": {
     "elapsed": 2446,
     "status": "ok",
     "timestamp": 1619509790003,
     "user": {
      "displayName": "Marat Bekmyrza",
      "photoUrl": "https://lh3.googleusercontent.com/a-/AOh14Gib-0tD7WjH3aGtX_5Rj6vIsFhVEXlrGvZoOgMH=s64",
      "userId": "16583475954751235795"
     },
     "user_tz": -360
    },
    "id": "7qObubtxsZSC",
    "outputId": "6f4dd29e-5485-4dcb-911c-25ec56f65403"
   },
   "outputs": [
    {
     "data": {
      "image/png": "[encoded data removed]",
      "text/plain": [
       "<Figure size 432x288 with 1 Axes>"
      ]
     },
     "metadata": {
      "needs_background": "light",
      "tags": []
     },
     "output_type": "display_data"
    }
   ],
   "source": [
    "# Plot temperature\n",
    "plt.figure()\n",
    "plt.plot(np.arange(len(df)//8), df['T (degC)'][:len(df)//8], 'b', label='2009')\n",
    "plt.plot(np.arange(len(df)//8), df['T (degC)'][len(df)//8:2*len(df)//8], 'r', label='2010')\n",
    "plt.legend()\n",
    "plt.xlabel('Time points'), plt.ylabel('Temperature value')\n",
    "plt.show()"
   ]
  },
  {
   "cell_type": "code",
   "execution_count": null,
   "metadata": {
    "colab": {
     "base_uri": "https://localhost:8080/"
    },
    "executionInfo": {
     "elapsed": 2443,
     "status": "ok",
     "timestamp": 1619509790004,
     "user": {
      "displayName": "Marat Bekmyrza",
      "photoUrl": "https://lh3.googleusercontent.com/a-/AOh14Gib-0tD7WjH3aGtX_5Rj6vIsFhVEXlrGvZoOgMH=s64",
      "userId": "16583475954751235795"
     },
     "user_tz": -360
    },
    "id": "ITcpunTESoY9",
    "outputId": "aee4c6aa-72c3-4477-882b-a7755c9e5555"
   },
   "outputs": [
    {
     "data": {
      "text/plain": [
       "p (mbar)            8.359454\n",
       "T (degC)            8.423685\n",
       "Tpot (K)            8.504820\n",
       "Tdew (degC)         6.730411\n",
       "rh (%)             16.477126\n",
       "VPmax (mbar)        7.739481\n",
       "VPact (mbar)        4.183895\n",
       "VPdef (mbar)        4.897270\n",
       "sh (g/kg)           2.655973\n",
       "H2OC (mmol/mol)     4.235130\n",
       "rho (g/m**3)       39.977065\n",
       "wv (m/s)            1.541830\n",
       "max. wv (m/s)       2.340482\n",
       "wd (deg)           86.675965\n",
       "dtype: float64"
      ]
     },
     "execution_count": 14,
     "metadata": {
      "tags": []
     },
     "output_type": "execute_result"
    }
   ],
   "source": [
    "df.std()"
   ]
  },
  {
   "cell_type": "code",
   "execution_count": null,
   "metadata": {
    "colab": {
     "base_uri": "https://localhost:8080/",
     "height": 524
    },
    "executionInfo": {
     "elapsed": 2440,
     "status": "ok",
     "timestamp": 1619509790004,
     "user": {
      "displayName": "Marat Bekmyrza",
      "photoUrl": "https://lh3.googleusercontent.com/a-/AOh14Gib-0tD7WjH3aGtX_5Rj6vIsFhVEXlrGvZoOgMH=s64",
      "userId": "16583475954751235795"
     },
     "user_tz": -360
    },
    "id": "xrVzX0gDtEjm",
    "outputId": "efb6b1d6-4bd4-4467-be3f-c98c1b38e8ea"
   },
   "outputs": [
    {
     "data": {
      "text/html": [
       "<div>\n",
       "<style scoped>\n",
       "    .dataframe tbody tr th:only-of-type {\n",
       "        vertical-align: middle;\n",
       "    }\n",
       "\n",
       "    .dataframe tbody tr th {\n",
       "        vertical-align: top;\n",
       "    }\n",
       "\n",
       "    .dataframe thead th {\n",
       "        text-align: right;\n",
       "    }\n",
       "</style>\n",
       "<table border=\"1\" class=\"dataframe\">\n",
       "  <thead>\n",
       "    <tr style=\"text-align: right;\">\n",
       "      <th></th>\n",
       "      <th>p (mbar)</th>\n",
       "      <th>T (degC)</th>\n",
       "      <th>Tpot (K)</th>\n",
       "      <th>Tdew (degC)</th>\n",
       "      <th>rh (%)</th>\n",
       "      <th>VPmax (mbar)</th>\n",
       "      <th>VPact (mbar)</th>\n",
       "      <th>VPdef (mbar)</th>\n",
       "      <th>sh (g/kg)</th>\n",
       "      <th>H2OC (mmol/mol)</th>\n",
       "      <th>rho (g/m**3)</th>\n",
       "      <th>wv (m/s)</th>\n",
       "      <th>max. wv (m/s)</th>\n",
       "      <th>wd (deg)</th>\n",
       "    </tr>\n",
       "  </thead>\n",
       "  <tbody>\n",
       "    <tr>\n",
       "      <th>0</th>\n",
       "      <td>0.874159</td>\n",
       "      <td>-2.073744</td>\n",
       "      <td>-2.127168</td>\n",
       "      <td>-2.058420</td>\n",
       "      <td>1.049513</td>\n",
       "      <td>-1.323744</td>\n",
       "      <td>-1.535058</td>\n",
       "      <td>-0.780533</td>\n",
       "      <td>-1.536774</td>\n",
       "      <td>-1.539264</td>\n",
       "      <td>2.293318</td>\n",
       "      <td>-0.713638</td>\n",
       "      <td>-0.761544</td>\n",
       "      <td>-0.258736</td>\n",
       "    </tr>\n",
       "    <tr>\n",
       "      <th>1</th>\n",
       "      <td>0.880140</td>\n",
       "      <td>-2.120042</td>\n",
       "      <td>-2.173024</td>\n",
       "      <td>-2.114880</td>\n",
       "      <td>1.055582</td>\n",
       "      <td>-1.336664</td>\n",
       "      <td>-1.556569</td>\n",
       "      <td>-0.782575</td>\n",
       "      <td>-1.555599</td>\n",
       "      <td>-1.560514</td>\n",
       "      <td>2.344597</td>\n",
       "      <td>-0.914698</td>\n",
       "      <td>-0.868360</td>\n",
       "      <td>-0.445639</td>\n",
       "    </tr>\n",
       "    <tr>\n",
       "      <th>2</th>\n",
       "      <td>0.875355</td>\n",
       "      <td>-2.131913</td>\n",
       "      <td>-2.184782</td>\n",
       "      <td>-2.119337</td>\n",
       "      <td>1.085927</td>\n",
       "      <td>-1.339249</td>\n",
       "      <td>-1.558960</td>\n",
       "      <td>-0.784617</td>\n",
       "      <td>-1.559364</td>\n",
       "      <td>-1.562876</td>\n",
       "      <td>2.355604</td>\n",
       "      <td>-1.258446</td>\n",
       "      <td>-1.240078</td>\n",
       "      <td>-0.036067</td>\n",
       "    </tr>\n",
       "    <tr>\n",
       "      <th>3</th>\n",
       "      <td>0.872963</td>\n",
       "      <td>-2.108171</td>\n",
       "      <td>-2.160091</td>\n",
       "      <td>-2.083678</td>\n",
       "      <td>1.104134</td>\n",
       "      <td>-1.332788</td>\n",
       "      <td>-1.544619</td>\n",
       "      <td>-0.786659</td>\n",
       "      <td>-1.544304</td>\n",
       "      <td>-1.548708</td>\n",
       "      <td>2.329339</td>\n",
       "      <td>-1.161159</td>\n",
       "      <td>-1.295622</td>\n",
       "      <td>0.268515</td>\n",
       "    </tr>\n",
       "    <tr>\n",
       "      <th>4</th>\n",
       "      <td>0.872963</td>\n",
       "      <td>-2.103422</td>\n",
       "      <td>-2.156563</td>\n",
       "      <td>-2.079221</td>\n",
       "      <td>1.098065</td>\n",
       "      <td>-1.331496</td>\n",
       "      <td>-1.542229</td>\n",
       "      <td>-0.786659</td>\n",
       "      <td>-1.544304</td>\n",
       "      <td>-1.546347</td>\n",
       "      <td>2.324586</td>\n",
       "      <td>-1.174130</td>\n",
       "      <td>-1.240078</td>\n",
       "      <td>0.456572</td>\n",
       "    </tr>\n",
       "    <tr>\n",
       "      <th>...</th>\n",
       "      <td>...</td>\n",
       "      <td>...</td>\n",
       "      <td>...</td>\n",
       "      <td>...</td>\n",
       "      <td>...</td>\n",
       "      <td>...</td>\n",
       "      <td>...</td>\n",
       "      <td>...</td>\n",
       "      <td>...</td>\n",
       "      <td>...</td>\n",
       "      <td>...</td>\n",
       "      <td>...</td>\n",
       "      <td>...</td>\n",
       "      <td>...</td>\n",
       "    </tr>\n",
       "    <tr>\n",
       "      <th>420446</th>\n",
       "      <td>1.298828</td>\n",
       "      <td>-1.602454</td>\n",
       "      <td>-1.692121</td>\n",
       "      <td>-1.944014</td>\n",
       "      <td>-0.176429</td>\n",
       "      <td>-1.169987</td>\n",
       "      <td>-1.489646</td>\n",
       "      <td>-0.576338</td>\n",
       "      <td>-1.491593</td>\n",
       "      <td>-1.496762</td>\n",
       "      <td>1.923856</td>\n",
       "      <td>-0.947127</td>\n",
       "      <td>-0.859815</td>\n",
       "      <td>0.753079</td>\n",
       "    </tr>\n",
       "    <tr>\n",
       "      <th>420447</th>\n",
       "      <td>1.282080</td>\n",
       "      <td>-1.519355</td>\n",
       "      <td>-1.608639</td>\n",
       "      <td>-1.933613</td>\n",
       "      <td>-0.382169</td>\n",
       "      <td>-1.137685</td>\n",
       "      <td>-1.484866</td>\n",
       "      <td>-0.531415</td>\n",
       "      <td>-1.487827</td>\n",
       "      <td>-1.492040</td>\n",
       "      <td>1.835305</td>\n",
       "      <td>-0.642295</td>\n",
       "      <td>-0.688910</td>\n",
       "      <td>0.687317</td>\n",
       "    </tr>\n",
       "    <tr>\n",
       "      <th>420448</th>\n",
       "      <td>1.268922</td>\n",
       "      <td>-1.496799</td>\n",
       "      <td>-1.585122</td>\n",
       "      <td>-1.955900</td>\n",
       "      <td>-0.491411</td>\n",
       "      <td>-1.128640</td>\n",
       "      <td>-1.494426</td>\n",
       "      <td>-0.508953</td>\n",
       "      <td>-1.495358</td>\n",
       "      <td>-1.501484</td>\n",
       "      <td>1.809040</td>\n",
       "      <td>-0.681209</td>\n",
       "      <td>-0.654729</td>\n",
       "      <td>0.466956</td>\n",
       "    </tr>\n",
       "    <tr>\n",
       "      <th>420449</th>\n",
       "      <td>1.267725</td>\n",
       "      <td>-1.623822</td>\n",
       "      <td>-1.710933</td>\n",
       "      <td>-2.003445</td>\n",
       "      <td>-0.255326</td>\n",
       "      <td>-1.177739</td>\n",
       "      <td>-1.513547</td>\n",
       "      <td>-0.568170</td>\n",
       "      <td>-1.517948</td>\n",
       "      <td>-1.520374</td>\n",
       "      <td>1.938364</td>\n",
       "      <td>-0.415292</td>\n",
       "      <td>-0.586367</td>\n",
       "      <td>0.589250</td>\n",
       "    </tr>\n",
       "    <tr>\n",
       "      <th>420450</th>\n",
       "      <td>1.268922</td>\n",
       "      <td>-1.693863</td>\n",
       "      <td>-1.779130</td>\n",
       "      <td>-1.987102</td>\n",
       "      <td>-0.018635</td>\n",
       "      <td>-1.202288</td>\n",
       "      <td>-1.506377</td>\n",
       "      <td>-0.613093</td>\n",
       "      <td>-1.510418</td>\n",
       "      <td>-1.513290</td>\n",
       "      <td>2.008905</td>\n",
       "      <td>-0.583922</td>\n",
       "      <td>-0.671819</td>\n",
       "      <td>0.117378</td>\n",
       "    </tr>\n",
       "  </tbody>\n",
       "</table>\n",
       "<p>420451 rows × 14 columns</p>\n",
       "</div>"
      ],
      "text/plain": [
       "        p (mbar)  T (degC)  Tpot (K)  ...  wv (m/s)  max. wv (m/s)  wd (deg)\n",
       "0       0.874159 -2.073744 -2.127168  ... -0.713638      -0.761544 -0.258736\n",
       "1       0.880140 -2.120042 -2.173024  ... -0.914698      -0.868360 -0.445639\n",
       "2       0.875355 -2.131913 -2.184782  ... -1.258446      -1.240078 -0.036067\n",
       "3       0.872963 -2.108171 -2.160091  ... -1.161159      -1.295622  0.268515\n",
       "4       0.872963 -2.103422 -2.156563  ... -1.174130      -1.240078  0.456572\n",
       "...          ...       ...       ...  ...       ...            ...       ...\n",
       "420446  1.298828 -1.602454 -1.692121  ... -0.947127      -0.859815  0.753079\n",
       "420447  1.282080 -1.519355 -1.608639  ... -0.642295      -0.688910  0.687317\n",
       "420448  1.268922 -1.496799 -1.585122  ... -0.681209      -0.654729  0.466956\n",
       "420449  1.267725 -1.623822 -1.710933  ... -0.415292      -0.586367  0.589250\n",
       "420450  1.268922 -1.693863 -1.779130  ... -0.583922      -0.671819  0.117378\n",
       "\n",
       "[420451 rows x 14 columns]"
      ]
     },
     "execution_count": 15,
     "metadata": {
      "tags": []
     },
     "output_type": "execute_result"
    }
   ],
   "source": [
    "# dropping the date column\n",
    "df.drop('Date Time', inplace=True, axis=1)\n",
    "# data standardization\n",
    "df = (df - df.mean()) / df.std()\n",
    "df"
   ]
  },
  {
   "cell_type": "code",
   "execution_count": null,
   "metadata": {
    "id": "t3V1PGVigBsG"
   },
   "outputs": [],
   "source": [
    "# def data_generator(data_frame, lookback, delay, min_index, max_index, shuffle=False, step=6, batch_size=128):\n",
    "#     \"\"\"\n",
    "#     generates 1 batch of inputs\n",
    "#     1 batch = 128 sequences\n",
    "#     1 sequence = 120 time points / samples\n",
    "#     1 sample = 14 feature values\n",
    "#     inputs shape: (128, 120, 14) or (batch_size, seq_len, num_features)\n",
    "#     targets shape: (128, 1), 1 target valaue for each sequence, many-to-one architecture\n",
    "#     \"\"\"\n",
    "#     seq_len = lookback // step # sequence length, is equal to 720 / 6 = 120\n",
    "#     num_features = data_frame.shape[-1] # number of features, is equal to 14\n",
    "#     start = min_index + lookback # where to start drawing inputs, incremented by batch size\n",
    "#     inputs, targets = {}, {}\n",
    "#     while True:\n",
    "#         if shuffle: # random sampling from the whole data\n",
    "#             rows = np.random.randint(low=min_index+lookback, high=max_index, size=batch_size) # starting indices\n",
    "#         else: # sequentially drawing from the data\n",
    "#             rows = np.arange(start, start+batch_size)\n",
    "#             start += batch_size\n",
    "#         for i in range(batch_size):\n",
    "#             indices = np.arange(rows[i]-lookback, rows[i], step)\n",
    "#             inputs[i] = data_frame.iloc[indices].to_numpy().reshape(-1, num_features, 1)\n",
    "#             targets[i] = data_frame.iloc[rows[i] + delay]['T (degC)']\n",
    "#         yield inputs, targets"
   ]
  },
  {
   "cell_type": "code",
   "execution_count": null,
   "metadata": {
    "id": "AHrm5QiG9t1I"
   },
   "outputs": [],
   "source": [
    "def data_generator(data_frame, lookback, delay, min_index, max_index, step=6, batch_size=128, steps=50):\n",
    "    \"\"\"\n",
    "    generates 1 batch of inputs\n",
    "    1 batch = 128 sequences\n",
    "    1 sequence = 120 time points / samples\n",
    "    1 sample = 14 feature values\n",
    "    inputs shape: (128, 120, 14) or (batch_size, seq_len, num_features)\n",
    "    targets shape: (128, 1), 1 target valaue for each sequence, many-to-one architecture\n",
    "    \"\"\"\n",
    "    inputs, targets = {}, {}\n",
    "    num_features = data_frame.shape[-1] # number of features, is equal to 14\n",
    "    rows = np.random.randint(low=min_index+lookback, high=max_index, size=(steps,batch_size)) # starting indices\n",
    "    idx = 0\n",
    "    while True:\n",
    "        if idx >= steps:\n",
    "            idx = 0\n",
    "        row = rows[idx]\n",
    "        for i in range(batch_size):\n",
    "            indices = np.arange(row[i]-lookback, row[i], step)\n",
    "            inputs[i] = data_frame.iloc[indices].to_numpy().reshape(-1, num_features, 1)\n",
    "            targets[i] = data_frame.iloc[row[i] + delay]['T (degC)']\n",
    "        idx += 1\n",
    "        yield inputs, targets"
   ]
  },
  {
   "cell_type": "code",
   "execution_count": null,
   "metadata": {
    "id": "DQiAMXA9gS5s"
   },
   "outputs": [],
   "source": [
    "# lookback = 1440\n",
    "# step = 6\n",
    "# delay = 144\n",
    "# batch_size = 64\n",
    "\n",
    "# train_gen = data_generator(df, lookback=lookback, delay=delay, min_index=0, max_index=200000,\n",
    "#                     shuffle=True, step=step, batch_size=batch_size)\n",
    "# val_gen = data_generator(df, lookback=lookback, delay=delay, min_index=200001, max_index=300000,\n",
    "#                     shuffle=True, step=step, batch_size=batch_size)\n",
    "# test_gen = data_generator(df, lookback=lookback, delay=delay, min_index=300001, max_index=len(df)-delay-1,\n",
    "#                     shuffle=True, step=step, batch_size=batch_size)"
   ]
  },
  {
   "cell_type": "code",
   "execution_count": null,
   "metadata": {
    "id": "UsyZcavy9ygl"
   },
   "outputs": [],
   "source": [
    "# lookback = 1440/10\n",
    "# step = 6\n",
    "# delay = 144\n",
    "# batch_size = 64\n",
    "# train_steps, val_steps, test_steps = 50, 20, 100\n",
    "\n",
    "# train_gen = data_generator(df, lookback=lookback, delay=delay, min_index=0, max_index=200000,\n",
    "#                     step=step, batch_size=batch_size, steps=train_steps)\n",
    "# val_gen = data_generator(df, lookback=lookback, delay=delay, min_index=200001, max_index=300000,\n",
    "#                     step=step, batch_size=batch_size, steps=val_steps)\n",
    "# test_gen = data_generator(df, lookback=lookback, delay=delay, min_index=300001, max_index=len(df)-delay-1,\n",
    "#                     step=step, batch_size=batch_size, steps=test_steps)"
   ]
  },
  {
   "cell_type": "code",
   "execution_count": null,
   "metadata": {
    "id": "FNNp6vrsBSlc"
   },
   "outputs": [],
   "source": [
    "# seq_len = lookback/step\n",
    "# seq_len"
   ]
  },
  {
   "cell_type": "markdown",
   "metadata": {
    "id": "6s-wPxb-KxQh"
   },
   "source": [
    "# Functions"
   ]
  },
  {
   "cell_type": "code",
   "execution_count": null,
   "metadata": {
    "id": "o7AxZvwBsWFJ"
   },
   "outputs": [],
   "source": [
    "def init_orthogonal(rows, cols):\n",
    "    param = np.random.randn(rows, cols)\n",
    "    \n",
    "    if rows < cols: \n",
    "      param = param.T\n",
    "    q, r = np.linalg.qr(param) # Compute QR factorization\n",
    "    \n",
    "    # Make Q uniform according to https://arxiv.org/pdf/math-ph/0609050.pdf\n",
    "    d = np.diag(r)\n",
    "    ph = np.sign(d)\n",
    "    q *= ph\n",
    "\n",
    "    if rows < cols: \n",
    "      q = q.T\n",
    "    return q"
   ]
  },
  {
   "cell_type": "code",
   "execution_count": null,
   "metadata": {
    "id": "ppYto7CcgOMh"
   },
   "outputs": [],
   "source": [
    "def gradient_clip(grads, max_norm, order=1):\n",
    "    total_norm = 0.0\n",
    "    if order > 1:\n",
    "        for i in range(order):\n",
    "            total_norm += np.linalg.norm(grads[0][-i-1])\n",
    "    else:\n",
    "        total_norm += np.linalg.norm(grads[0])\n",
    "    for i in range(1, len(grads[1:])):\n",
    "        total_norm += np.linalg.norm(grads[i])\n",
    "    \n",
    "    total_norm = np.sqrt(total_norm)\n",
    "    if total_norm > max_norm:\n",
    "        if order > 1:\n",
    "            for i in range(order):\n",
    "                grads[0][-i-1] *= max_norm / total_norm\n",
    "        else:\n",
    "            grads[0] *= max_norm / total_norm\n",
    "        for i in range(1, len(grads[1:])):\n",
    "            grads[i] *= max_norm / total_norm\n",
    "    \"\"\"\n",
    "    # andrej\n",
    "    for i in range(len(grads)):\n",
    "        np.clip(grads[i], -5, 5, out=grads[i]) # clip to mitigate exploding gradients\n",
    "    \"\"\"\n",
    "    return grads"
   ]
  },
  {
   "cell_type": "code",
   "execution_count": null,
   "metadata": {
    "id": "NY7BJZhMgPfA"
   },
   "outputs": [],
   "source": [
    "def find_loss(outputs, targets):\n",
    "    loss = 0.0\n",
    "    for n in range(len(outputs)):\n",
    "        #loss += (targets[n] - outputs[n].item())**2\n",
    "        loss += abs(targets[n] - outputs[n])\n",
    "    loss /= len(outputs)\n",
    "    return loss"
   ]
  },
  {
   "cell_type": "code",
   "execution_count": null,
   "metadata": {
    "id": "HyAaJChygQoQ"
   },
   "outputs": [],
   "source": [
    "def update_parameters(params, grads, lr, order=0):\n",
    "    if order > 1:\n",
    "        for i in range(order):\n",
    "            params[0][-i-1] -= grads[0][-i-1] * lr\n",
    "    else:\n",
    "        params[0] -= grads[0] * lr\n",
    "    for i in range(1, len(params[1:])):\n",
    "        params[i] -= grads[i] * lr\n",
    "    return params"
   ]
  },
  {
   "cell_type": "markdown",
   "metadata": {
    "id": "fSTxIiBDLMu_"
   },
   "source": [
    "# Vanilla RNN"
   ]
  },
  {
   "cell_type": "code",
   "execution_count": null,
   "metadata": {
    "id": "ANLJkBOOgRyy"
   },
   "outputs": [],
   "source": [
    "class RNN():\n",
    "    def __init__(self, hidden_size, input_size, out_size):\n",
    "        V = np.random.randn(hidden_size, hidden_size)*0.1 # W_hh\n",
    "        U = np.random.randn(hidden_size, input_size)*0.1  # W_hx\n",
    "        W = np.random.randn(out_size, hidden_size)*0.1    # W_hy\n",
    "        b_hidden = np.zeros((hidden_size, 1))              # b_h\n",
    "        b_out = np.zeros((out_size, 1))                    # b_y\n",
    "        self.params = [V, U, W, b_hidden, b_out]\n",
    "        self.best = [V, U, W, b_hidden, b_out]\n",
    "    \n",
    "    def forward(self, inputs, hidden_state, best=False):\n",
    "        if best: \n",
    "            V, U, W, b_hidden, b_out = self.best    \n",
    "        else: \n",
    "            V, U, W, b_hidden, b_out = self.params\n",
    "        V, U, W, b_hidden, b_out = self.params\n",
    "        outputs, hidden_states = {}, {}\n",
    "        for n in range(len(inputs)):\n",
    "            hidden_states[n] = {}\n",
    "            hidden_states[n][-1] = np.copy(hidden_state)\n",
    "            for t in range(len(inputs[n])):\n",
    "                hidden_states[n][t] = np.tanh(np.dot(U, inputs[n][t]) + np.dot(V, hidden_states[n][t-1]) + b_hidden)\n",
    "            outputs[n] = np.copy((np.dot(W, hidden_states[n][t]) + b_out).item())\n",
    "        return outputs, hidden_states\n",
    "\n",
    "    def backward(self, inputs, outputs, hidden_states, targets, clip_norm):\n",
    "        V, U, W, b_hidden, b_out = self.params\n",
    "        dV, dU, dW = np.zeros_like(V), np.zeros_like(U), np.zeros_like(W)\n",
    "        db_hidden, db_out = np.zeros_like(b_hidden), np.zeros_like(b_out)\n",
    "        loss = 0.0\n",
    "        N, T = len(inputs), len(inputs[0])\n",
    "        for n in range(N): # iterate over sequences in a batch, 128\n",
    "            #loss += (outputs[n] - targets[n])**2\n",
    "            loss += abs(outputs[n] - targets[n])\n",
    "            #do = (outputs[n] - targets[n])*2\n",
    "            do = 1.0 if outputs[n] >= targets[n] else -1.0\n",
    "            dW += np.dot(do, hidden_states[n][T-1].T)\n",
    "            db_out += do\n",
    "            dh = np.dot(W.T, do)\n",
    "            for t in reversed(range(T)):\n",
    "                df = (1 - hidden_states[n][t]*hidden_states[n][t]) * dh\n",
    "                db_hidden += df\n",
    "                dU += np.dot(df, inputs[n][t].T)\n",
    "                dV += np.dot(df, hidden_states[n][t-1].T)\n",
    "                dh = np.dot(V.T, df)    \n",
    "        loss /= N\n",
    "        dV, dU, dW, db_hidden, db_out = dV/N, dU/N, dW/N, db_hidden/N, db_out/N\n",
    "        grads = [dV, dU, dW, db_hidden, db_out]\n",
    "        grads = gradient_clip(grads, clip_norm)\n",
    "        return loss, grads\n",
    "\n",
    "    def train(self, train_set, valid_set, hidden_state, num_epochs, lr, clip_norm, train_steps=100, val_steps=100):\n",
    "        training_loss, validation_loss = [], []\n",
    "        for epoch in range(num_epochs):\n",
    "            epoch_training_loss = 0.0\n",
    "            epoch_validation_loss = 0.0\n",
    "            min_valid_loss = 1e6\n",
    "\n",
    "            for train_step in range(train_steps):\n",
    "                inputs, targets = next(train_set)\n",
    "                outputs, hidden_states = self.forward(inputs, hidden_state)\n",
    "                loss, grads = self.backward(inputs, outputs, hidden_states, targets, clip_norm)\n",
    "                self.params = update_parameters(self.params, grads, lr)\n",
    "                epoch_training_loss += loss\n",
    "            \n",
    "            for val_step in range(val_steps):\n",
    "                inputs, targets = next(valid_set)\n",
    "                outputs, _ = self.forward(inputs, hidden_state)\n",
    "                loss = find_loss(outputs, targets)\n",
    "                if loss < min_valid_loss:\n",
    "                    self.best = self.params.copy()\n",
    "                    min_valid_loss = loss\n",
    "                epoch_validation_loss += loss\n",
    "                    \n",
    "            training_loss.append(epoch_training_loss/train_steps)\n",
    "            validation_loss.append(epoch_validation_loss/val_steps)\n",
    "\n",
    "            if epoch % 2 == 0:\n",
    "                print(f'Epoch {epoch}, training loss: {training_loss[-1]}, validation loss: {validation_loss[-1]}')\n",
    "        return training_loss, validation_loss\n",
    "\n",
    "    def test(self, test_set, hidden_state, test_steps=100):\n",
    "        test_loss = 0.0\n",
    "        for test_step in range(test_steps):\n",
    "            inputs, targets = next(test_set)\n",
    "            outputs, _ = self.forward(inputs, hidden_state, best=True)\n",
    "            test_loss += find_loss(outputs, targets)\n",
    "        test_loss /= test_steps\n",
    "        print(\"Test loss: \", test_loss)\n",
    "        return test_loss"
   ]
  },
  {
   "cell_type": "code",
   "execution_count": null,
   "metadata": {
    "colab": {
     "base_uri": "https://localhost:8080/",
     "height": 1000
    },
    "executionInfo": {
     "elapsed": 2978137,
     "status": "ok",
     "timestamp": 1619475471862,
     "user": {
      "displayName": "Marat Bekmyrza",
      "photoUrl": "https://lh3.googleusercontent.com/a-/AOh14Gib-0tD7WjH3aGtX_5Rj6vIsFhVEXlrGvZoOgMH=s64",
      "userId": "16583475954751235795"
     },
     "user_tz": -360
    },
    "id": "fs2xH95VEmtx",
    "outputId": "86529ca8-74af-4633-8184-d55d71d2ed56"
   },
   "outputs": [
    {
     "name": "stdout",
     "output_type": "stream",
     "text": [
      "Experiment: 0\n",
      "Epoch 0, training loss: 0.6801830995886471, validation loss: 0.4399087892648705\n",
      "Epoch 2, training loss: 0.35468553992781915, validation loss: 0.31127997647541006\n",
      "Epoch 4, training loss: 0.34358934068970315, validation loss: 0.30459750047842266\n",
      "Epoch 6, training loss: 0.3388561411989576, validation loss: 0.30226213262884516\n",
      "Epoch 8, training loss: 0.3357932713606149, validation loss: 0.30114464753245296\n",
      "Epoch 10, training loss: 0.33345597087610895, validation loss: 0.30028632140325245\n",
      "Epoch 12, training loss: 0.33137173181780377, validation loss: 0.2993507007994286\n",
      "Epoch 14, training loss: 0.32952300300808696, validation loss: 0.2984800765557071\n",
      "Epoch 16, training loss: 0.3277838683210061, validation loss: 0.29794033318578006\n",
      "Epoch 18, training loss: 0.32624949348367216, validation loss: 0.29764966686929817\n",
      "Epoch 20, training loss: 0.3248994982321037, validation loss: 0.29721612229954697\n",
      "Epoch 22, training loss: 0.32378792343363344, validation loss: 0.2972157873331899\n",
      "Epoch 24, training loss: 0.3230119748538003, validation loss: 0.29703695400536373\n",
      "Epoch 26, training loss: 0.32238585176733847, validation loss: 0.29724788516709943\n",
      "Epoch 28, training loss: 0.3217491439329465, validation loss: 0.2975564942248388\n",
      "Test loss:  0.30587457591477824\n",
      "Experiment: 1\n",
      "Epoch 0, training loss: 0.6469385258022368, validation loss: 0.4163506097062129\n",
      "Epoch 2, training loss: 0.3567267586027568, validation loss: 0.3168210064492726\n",
      "Epoch 4, training loss: 0.3456776197953526, validation loss: 0.3102626347884184\n",
      "Epoch 6, training loss: 0.33990204482004605, validation loss: 0.3064240088412391\n",
      "Epoch 8, training loss: 0.3358668271318709, validation loss: 0.30429510333817655\n",
      "Epoch 10, training loss: 0.33284626625050123, validation loss: 0.3025981839426174\n",
      "Epoch 12, training loss: 0.33057200948471854, validation loss: 0.30114835792433825\n",
      "Epoch 14, training loss: 0.32850407846152835, validation loss: 0.3003239404680736\n",
      "Epoch 16, training loss: 0.32684557068385006, validation loss: 0.30004327812016446\n",
      "Epoch 18, training loss: 0.32562317749746694, validation loss: 0.30034162215329474\n",
      "Epoch 20, training loss: 0.32475622409783583, validation loss: 0.29959930708808163\n",
      "Epoch 22, training loss: 0.3239351168571965, validation loss: 0.29933317073425936\n",
      "Epoch 24, training loss: 0.32322574941984406, validation loss: 0.2995726969449427\n",
      "Epoch 26, training loss: 0.32256842368144917, validation loss: 0.29924334397138397\n",
      "Epoch 28, training loss: 0.32204843264784033, validation loss: 0.299426588730498\n",
      "Test loss:  0.3081778401385656\n",
      "Experiment: 2\n",
      "Epoch 0, training loss: 0.5208782830428328, validation loss: 0.3481939866011989\n",
      "Epoch 2, training loss: 0.3514852660755628, validation loss: 0.31301464501656134\n",
      "Epoch 4, training loss: 0.3438687591248499, validation loss: 0.30763712275895283\n",
      "Epoch 6, training loss: 0.33912397674340083, validation loss: 0.30450311625604\n",
      "Epoch 8, training loss: 0.3357812495910112, validation loss: 0.30244976457546413\n",
      "Epoch 10, training loss: 0.3331753388044417, validation loss: 0.30060252375982466\n",
      "Epoch 12, training loss: 0.330962321895159, validation loss: 0.2997045853596946\n",
      "Epoch 14, training loss: 0.3290950387212004, validation loss: 0.2992825296467046\n",
      "Epoch 16, training loss: 0.3275586607082252, validation loss: 0.29858457590226556\n",
      "Epoch 18, training loss: 0.3260112912757811, validation loss: 0.29862730213093036\n",
      "Epoch 20, training loss: 0.32476571441237545, validation loss: 0.29865795300373627\n",
      "Epoch 22, training loss: 0.32371884640591636, validation loss: 0.2979949809061227\n",
      "Epoch 24, training loss: 0.32270331561415255, validation loss: 0.2982774126641191\n",
      "Epoch 26, training loss: 0.32181838730074114, validation loss: 0.29843026058324307\n",
      "Epoch 28, training loss: 0.32115173521545254, validation loss: 0.29835111094906586\n",
      "Test loss:  0.3075248938906236\n",
      "Experiment: 3\n",
      "Epoch 0, training loss: 0.6859848090949341, validation loss: 0.496137703586106\n",
      "Epoch 2, training loss: 0.3555086040770993, validation loss: 0.312302453621771\n",
      "Epoch 4, training loss: 0.34271079560179113, validation loss: 0.30583838432393057\n",
      "Epoch 6, training loss: 0.33810048216185024, validation loss: 0.30271047096523873\n",
      "Epoch 8, training loss: 0.33524174697655146, validation loss: 0.3008666622721213\n",
      "Epoch 10, training loss: 0.3330461226131964, validation loss: 0.29940660024465415\n",
      "Epoch 12, training loss: 0.3310144272449933, validation loss: 0.2986876982278534\n",
      "Epoch 14, training loss: 0.32904905572516796, validation loss: 0.2976097697517198\n",
      "Epoch 16, training loss: 0.3272623314312035, validation loss: 0.2971775850597883\n",
      "Epoch 18, training loss: 0.3255506785443161, validation loss: 0.29683981683285887\n",
      "Epoch 20, training loss: 0.324185998765209, validation loss: 0.29617067811255404\n",
      "Epoch 22, training loss: 0.3228390782454113, validation loss: 0.2967900474168948\n",
      "Epoch 24, training loss: 0.32204067307429673, validation loss: 0.29605782794580693\n",
      "Epoch 26, training loss: 0.32134787261899933, validation loss: 0.29587917931640184\n",
      "Epoch 28, training loss: 0.32070161994401225, validation loss: 0.29588344326054505\n",
      "Test loss:  0.30649400585864045\n",
      "Experiment: 4\n",
      "Epoch 0, training loss: 0.6791819053231941, validation loss: 0.4738842215231653\n",
      "Epoch 2, training loss: 0.35806695648767467, validation loss: 0.3131050613268024\n",
      "Epoch 4, training loss: 0.34447721618236943, validation loss: 0.3059130834394958\n",
      "Epoch 6, training loss: 0.33867669830120045, validation loss: 0.30250478005634107\n",
      "Epoch 8, training loss: 0.3347022629443551, validation loss: 0.30013558629799175\n",
      "Epoch 10, training loss: 0.3315228097320743, validation loss: 0.2985916495970359\n",
      "Epoch 12, training loss: 0.3287628657879286, validation loss: 0.297107639088385\n",
      "Epoch 14, training loss: 0.32630193832341947, validation loss: 0.29636586233346246\n",
      "Epoch 16, training loss: 0.32418985770063485, validation loss: 0.29570662699846173\n",
      "Epoch 18, training loss: 0.3226441741108139, validation loss: 0.29485897848646225\n",
      "Epoch 20, training loss: 0.32146470693401996, validation loss: 0.29465742051706806\n",
      "Epoch 22, training loss: 0.3206253824049876, validation loss: 0.29467888569414086\n",
      "Epoch 24, training loss: 0.31991289425531755, validation loss: 0.2948128203430152\n",
      "Epoch 26, training loss: 0.3193999135340386, validation loss: 0.2948512051093156\n",
      "Epoch 28, training loss: 0.3188808956355054, validation loss: 0.29472131818500813\n",
      "Test loss:  0.3060091314175296\n",
      "Average jena test loss: seq_len: 240.0, hs: 16, 0.30681608944402755\n"
     ]
    },
    {
     "data": {
      "image/png": "[encoded data removed]",
      "text/plain": [
       "<Figure size 432x288 with 1 Axes>"
      ]
     },
     "metadata": {
      "needs_background": "light",
      "tags": []
     },
     "output_type": "display_data"
    },
    {
     "data": {
      "image/png": "[encoded data removed]",
      "text/plain": [
       "<Figure size 432x288 with 1 Axes>"
      ]
     },
     "metadata": {
      "needs_background": "light",
      "tags": []
     },
     "output_type": "display_data"
    },
    {
     "data": {
      "image/png": "[encoded data removed]",
      "text/plain": [
       "<Figure size 432x288 with 1 Axes>"
      ]
     },
     "metadata": {
      "needs_background": "light",
      "tags": []
     },
     "output_type": "display_data"
    },
    {
     "data": {
      "image/png": "[encoded data removed]",
      "text/plain": [
       "<Figure size 432x288 with 1 Axes>"
      ]
     },
     "metadata": {
      "needs_background": "light",
      "tags": []
     },
     "output_type": "display_data"
    },
    {
     "data": {
      "image/png": "[encoded data removed]",
      "text/plain": [
       "<Figure size 432x288 with 1 Axes>"
      ]
     },
     "metadata": {
      "needs_background": "light",
      "tags": []
     },
     "output_type": "display_data"
    }
   ],
   "source": [
    "### Train Vanilla RNN ###\n",
    "# Hyperparameters\n",
    "hidden_size = 16\n",
    "gradient_clip_norm = 1.0\n",
    "learning_rate = 0.01\n",
    "num_epochs = 30\n",
    "\n",
    "# experiments with Vanilla RNN\n",
    "num_exp = 5 # number of experiments\n",
    "train_results, val_results, test_loss_results = [], [], []\n",
    "for n in range(num_exp):\n",
    "    print('Experiment:', n)\n",
    "    rnn_model = RNN(hidden_size=hidden_size, input_size=14, out_size=1)\n",
    "    hidden_state = np.zeros((hidden_size, 1))  # Initial hidden_state\n",
    "    train_loss, valid_loss = rnn_model.train(train_set=train_gen, valid_set=val_gen, \n",
    "                                            hidden_state=hidden_state, num_epochs=num_epochs, \n",
    "                                            lr=learning_rate, clip_norm=gradient_clip_norm, \n",
    "                                            train_steps=train_steps, val_steps=val_steps)\n",
    "    test_loss = rnn_model.test(test_set=test_gen, hidden_state=hidden_state, test_steps=test_steps)\n",
    "    train_results.append(train_loss)\n",
    "    val_results.append(valid_loss)\n",
    "    test_loss_results.append(test_loss)\n",
    "    # Plot training and validation loss\n",
    "    epoch = np.arange(len(train_loss))\n",
    "    plt.figure()\n",
    "    plt.plot(epoch, train_loss, 'r', label='Training loss',)\n",
    "    plt.plot(epoch, valid_loss, 'b', label='Validation loss')\n",
    "    plt.legend()\n",
    "    plt.xlabel('Epoch'), plt.ylabel('Loss')\n",
    "    plt.savefig(f'jena_{seq_len}_exp_{n}_rnn_h{hidden_size}.png')\n",
    "print(f'Average jena test loss: seq_len: {seq_len}, hs: {hidden_size}, {np.average(test_loss_results)}')"
   ]
  },
  {
   "cell_type": "markdown",
   "metadata": {
    "id": "5pUXQkLDLg8N"
   },
   "source": [
    "# HORNN"
   ]
  },
  {
   "cell_type": "code",
   "execution_count": null,
   "metadata": {
    "id": "XnbLFbNbLjHx"
   },
   "outputs": [],
   "source": [
    "class HORNN():\n",
    "    def __init__(self, hidden_size, input_size, out_size, order):\n",
    "        self.order = order\n",
    "        V = {}\n",
    "        for i in range(self.order):\n",
    "            V[-i-1] = np.random.randn(hidden_size, hidden_size)*0.1 # W_hh\n",
    "        U = np.random.randn(hidden_size, input_size)*0.1            # W_hx\n",
    "        W = np.random.randn(out_size, hidden_size)*0.1              # W_hy\n",
    "        b_hidden = np.zeros((hidden_size, 1))                        # b_h\n",
    "        b_out = np.zeros((out_size, 1))                              # b_y\n",
    "        self.params = [V, U, W, b_hidden, b_out]\n",
    "        self.best = [V, U, W, b_hidden, b_out]\n",
    "\n",
    "    def forward(self, inputs, hidden_state, best=False):\n",
    "        if best: \n",
    "            V, U, W, b_hidden, b_out = self.best    \n",
    "        else: \n",
    "            V, U, W, b_hidden, b_out = self.params\n",
    "        outputs, hidden_states = {}, {}\n",
    "        for n in range(len(inputs)):\n",
    "            hidden_states[n] = {}\n",
    "            for i in range(self.order): # for the history window\n",
    "                hidden_states[n][-i-1] = np.copy(hidden_state)\n",
    "            for t in range(len(inputs[n])):\n",
    "                s = np.zeros_like(hidden_state)\n",
    "                for i in range(self.order): # order = 3: -1, -2, -3; \n",
    "                    s += np.dot(V[-i-1], hidden_states[n][t-i-1])\n",
    "                hidden_states[n][t] = np.tanh(np.dot(U, inputs[n][t]) + s + b_hidden)\n",
    "            outputs[n] = np.copy((np.dot(W, hidden_states[n][t]) + b_out).item())\n",
    "        return outputs, hidden_states\n",
    "    \n",
    "    def backward(self, inputs, outputs, hidden_states, targets, clip_norm):\n",
    "        V, U, W, b_hidden, b_out = self.params\n",
    "        dV = {}\n",
    "        for i in range(self.order):\n",
    "            dV[-i-1] = np.zeros_like(V[-i-1])\n",
    "        dU, dW = np.zeros_like(U), np.zeros_like(W)\n",
    "        db_hidden, db_out = np.zeros_like(b_hidden), np.zeros_like(b_out)\n",
    "        \n",
    "        loss = 0.0\n",
    "        N, T = len(inputs), len(inputs[0])\n",
    "        for n in range(N):\n",
    "            #loss += (targets[n] - outputs[n].item())**2\n",
    "            loss += abs(targets[n] - outputs[n].item())\n",
    "            #do = (outputs[n] - targets[n])*2\n",
    "            do = 1.0 if outputs[n] >= targets[n] else -1.0\n",
    "            dW += np.dot(do, hidden_states[n][T-1].T)    # uses only last hidden state\n",
    "            db_out += do\n",
    "            \n",
    "            # HORNN update\n",
    "            #########################\n",
    "            arrayOfM, arrayOfs = {}, {}\n",
    "            for i in range(self.order):\n",
    "                arrayOfM[i], arrayOfs[i] = 0.0, 0.0\n",
    "\n",
    "            l = np.dot(W.T, do)\n",
    "            one = 1.0\n",
    "            for t in reversed(range(T)):\n",
    "                M = arrayOfM[0]\n",
    "                for i in range(self.order-1):\n",
    "                    M = M * arrayOfs[i] + arrayOfM[i+1]\n",
    "                \n",
    "                M = M * arrayOfs[self.order-1] + one  # M update, one = 1 only at t + T\n",
    "                M *= l                                # l is 1 after t = T\n",
    "                for i in range(self.order-1):\n",
    "                    arrayOfM[i] = arrayOfM[i+1]\n",
    "                arrayOfM[self.order-1] = M\n",
    "\n",
    "                df = (1 - hidden_states[n][t] * hidden_states[n][t])\n",
    "                r = df * M\n",
    "                for i in range(self.order):\n",
    "                    dV[-i-1] += np.dot(r, hidden_states[n][t-i-1].T)\n",
    "                db_hidden += r\n",
    "                dU += np.dot(r, inputs[n][t].T)\n",
    "\n",
    "                for s in range(self.order-1):                   \n",
    "                    arrayOfs[s] = arrayOfs[s+1] \n",
    "                arrayOfs[self.order-1] = np.dot(V[-1].T, df)\n",
    "                \n",
    "                one, l = 0.0, 1.0\n",
    "            #########################\n",
    "        \n",
    "        loss /= N\n",
    "        for i in range(self.order):\n",
    "            dV[-i-1] /= N\n",
    "        dU, dW, db_hidden, db_out = dU/N, dW/N, db_hidden/N, db_out/N\n",
    "        grads = [dV, dU, dW, db_hidden, db_out]\n",
    "        grads = gradient_clip(grads, clip_norm, self.order)\n",
    "        return loss, grads\n",
    "    \n",
    "    def train(self, train_set, valid_set, hidden_state, num_epochs, lr, clip_norm, train_steps=100, val_steps=100):\n",
    "        training_loss, validation_loss = [], []\n",
    "\n",
    "        for epoch in range(num_epochs):\n",
    "            epoch_training_loss, epoch_validation_loss = 0.0, 0.0\n",
    "            min_valid_loss = 1e6\n",
    "            \n",
    "            for train_step in range(train_steps):\n",
    "                inputs, targets = next(train_set)\n",
    "                outputs, hidden_states = self.forward(inputs, hidden_state)\n",
    "                loss, grads = self.backward(inputs, outputs, hidden_states, targets, clip_norm)\n",
    "                self.params = update_parameters(self.params, grads, lr, self.order)\n",
    "                epoch_training_loss += loss\n",
    "\n",
    "            for val_step in range(val_steps):\n",
    "                inputs, targets = next(valid_set)\n",
    "                outputs, _ = self.forward(inputs, hidden_state)\n",
    "                loss = find_loss(outputs, targets)\n",
    "                if loss < min_valid_loss:\n",
    "                    self.best = self.params.copy()\n",
    "                epoch_validation_loss += loss\n",
    "\n",
    "            training_loss.append(epoch_training_loss/train_steps)\n",
    "            validation_loss.append(epoch_validation_loss/val_steps)\n",
    "\n",
    "            if epoch % 10 == 0:\n",
    "                print(f'Epoch {epoch}, training loss: {training_loss[-1]}, validation loss: {validation_loss[-1]}')        \n",
    "        \n",
    "        return training_loss, validation_loss\n",
    "\n",
    "    def test(self, test_set, hidden_state, test_steps=100):\n",
    "        test_loss = 0.0\n",
    "        for test_step in range(test_steps):\n",
    "            inputs, targets = next(test_set)\n",
    "            outputs, _ = self.forward(inputs, hidden_state, best=True)\n",
    "            test_loss += find_loss(outputs, targets)\n",
    "        test_loss /= test_steps\n",
    "        print(\"Test loss: \", test_loss)\n",
    "        return test_loss"
   ]
  },
  {
   "cell_type": "markdown",
   "metadata": {
    "id": "a1C0LtMwS5NN"
   },
   "source": [
    "## Train HORNN"
   ]
  },
  {
   "cell_type": "code",
   "execution_count": null,
   "metadata": {
    "id": "EPeOw5cUB2S8"
   },
   "outputs": [],
   "source": [
    "### Train HORNN ###\n",
    "# Hyperparameters\n",
    "hidden_size = 16\n",
    "gradient_clip_norm = 1.0\n",
    "learning_rate = 0.01\n",
    "num_epochs = 30\n",
    "num_exp = 3\n",
    "batch_size = 64\n",
    "step = 6\n",
    "delay = 144\n",
    "train_steps, val_steps, test_steps = 50, 20, 100\n",
    "# orders = [2, 3, 5]\n",
    "# seq_lens = [24, 120, 240]\n",
    "orders = [5]\n",
    "seq_lens = [240]"
   ]
  },
  {
   "cell_type": "code",
   "execution_count": null,
   "metadata": {
    "colab": {
     "base_uri": "https://localhost:8080/",
     "height": 841
    },
    "executionInfo": {
     "elapsed": 2772176,
     "status": "error",
     "timestamp": 1619513332208,
     "user": {
      "displayName": "Marat Bekmyrza",
      "photoUrl": "https://lh3.googleusercontent.com/a-/AOh14Gib-0tD7WjH3aGtX_5Rj6vIsFhVEXlrGvZoOgMH=s64",
      "userId": "16583475954751235795"
     },
     "user_tz": -360
    },
    "id": "VmGMLRWrB9CD",
    "outputId": "5f927a24-f7a7-4e82-e3f9-6e8aefd7bac3"
   },
   "outputs": [
    {
     "name": "stdout",
     "output_type": "stream",
     "text": [
      "HORNN 5 Experiment: 0; seq_len: 240\n",
      "Epoch 0, training loss: 0.5474072039317697, validation loss: 0.43473479514243374\n",
      "Epoch 10, training loss: 0.34992945659043484, validation loss: 0.30408733909881486\n",
      "Epoch 20, training loss: 0.3357064020631435, validation loss: 0.29633882844886705\n",
      "Test loss:  0.31755938413194623\n",
      "HORNN 5 Experiment: 1; seq_len: 240\n",
      "Epoch 0, training loss: 0.6311679008842346, validation loss: 0.5202315629234772\n"
     ]
    },
    {
     "ename": "KeyboardInterrupt",
     "evalue": "ignored",
     "output_type": "error",
     "traceback": [
      "\u001b[0;31m---------------------------------------------------------------------------\u001b[0m",
      "\u001b[0;31mKeyboardInterrupt\u001b[0m                         Traceback (most recent call last)",
      "\u001b[0;32m<ipython-input-29-d5dd119134f7>\u001b[0m in \u001b[0;36m<module>\u001b[0;34m()\u001b[0m\n\u001b[1;32m     21\u001b[0m                                                     \u001b[0mhidden_state\u001b[0m\u001b[0;34m=\u001b[0m\u001b[0mhidden_state\u001b[0m\u001b[0;34m,\u001b[0m \u001b[0mnum_epochs\u001b[0m\u001b[0;34m=\u001b[0m\u001b[0mnum_epochs\u001b[0m\u001b[0;34m,\u001b[0m\u001b[0;34m\u001b[0m\u001b[0;34m\u001b[0m\u001b[0m\n\u001b[1;32m     22\u001b[0m                                                     \u001b[0mlr\u001b[0m\u001b[0;34m=\u001b[0m\u001b[0mlearning_rate\u001b[0m\u001b[0;34m,\u001b[0m \u001b[0mclip_norm\u001b[0m\u001b[0;34m=\u001b[0m\u001b[0mgradient_clip_norm\u001b[0m\u001b[0;34m,\u001b[0m\u001b[0;34m\u001b[0m\u001b[0;34m\u001b[0m\u001b[0m\n\u001b[0;32m---> 23\u001b[0;31m                                                     train_steps=train_steps, val_steps=val_steps)\n\u001b[0m\u001b[1;32m     24\u001b[0m             \u001b[0mhornn_test_loss\u001b[0m \u001b[0;34m=\u001b[0m \u001b[0mhornn_model\u001b[0m\u001b[0;34m.\u001b[0m\u001b[0mtest\u001b[0m\u001b[0;34m(\u001b[0m\u001b[0mtest_set\u001b[0m\u001b[0;34m=\u001b[0m\u001b[0mtest_gen\u001b[0m\u001b[0;34m,\u001b[0m \u001b[0mhidden_state\u001b[0m\u001b[0;34m=\u001b[0m\u001b[0mhidden_state\u001b[0m\u001b[0;34m,\u001b[0m \u001b[0mtest_steps\u001b[0m\u001b[0;34m=\u001b[0m\u001b[0mtest_steps\u001b[0m\u001b[0;34m)\u001b[0m\u001b[0;34m\u001b[0m\u001b[0;34m\u001b[0m\u001b[0m\n\u001b[1;32m     25\u001b[0m             \u001b[0mtest_loss_results\u001b[0m\u001b[0;34m.\u001b[0m\u001b[0mappend\u001b[0m\u001b[0;34m(\u001b[0m\u001b[0mhornn_test_loss\u001b[0m\u001b[0;34m)\u001b[0m\u001b[0;34m\u001b[0m\u001b[0;34m\u001b[0m\u001b[0m\n",
      "\u001b[0;32m<ipython-input-25-106431c6b8ad>\u001b[0m in \u001b[0;36mtrain\u001b[0;34m(self, train_set, valid_set, hidden_state, num_epochs, lr, clip_norm, train_steps, val_steps)\u001b[0m\n\u001b[1;32m    105\u001b[0m             \u001b[0;32mfor\u001b[0m \u001b[0mval_step\u001b[0m \u001b[0;32min\u001b[0m \u001b[0mrange\u001b[0m\u001b[0;34m(\u001b[0m\u001b[0mval_steps\u001b[0m\u001b[0;34m)\u001b[0m\u001b[0;34m:\u001b[0m\u001b[0;34m\u001b[0m\u001b[0;34m\u001b[0m\u001b[0m\n\u001b[1;32m    106\u001b[0m                 \u001b[0minputs\u001b[0m\u001b[0;34m,\u001b[0m \u001b[0mtargets\u001b[0m \u001b[0;34m=\u001b[0m \u001b[0mnext\u001b[0m\u001b[0;34m(\u001b[0m\u001b[0mvalid_set\u001b[0m\u001b[0;34m)\u001b[0m\u001b[0;34m\u001b[0m\u001b[0;34m\u001b[0m\u001b[0m\n\u001b[0;32m--> 107\u001b[0;31m                 \u001b[0moutputs\u001b[0m\u001b[0;34m,\u001b[0m \u001b[0m_\u001b[0m \u001b[0;34m=\u001b[0m \u001b[0mself\u001b[0m\u001b[0;34m.\u001b[0m\u001b[0mforward\u001b[0m\u001b[0;34m(\u001b[0m\u001b[0minputs\u001b[0m\u001b[0;34m,\u001b[0m \u001b[0mhidden_state\u001b[0m\u001b[0;34m)\u001b[0m\u001b[0;34m\u001b[0m\u001b[0;34m\u001b[0m\u001b[0m\n\u001b[0m\u001b[1;32m    108\u001b[0m                 \u001b[0mloss\u001b[0m \u001b[0;34m=\u001b[0m \u001b[0mfind_loss\u001b[0m\u001b[0;34m(\u001b[0m\u001b[0moutputs\u001b[0m\u001b[0;34m,\u001b[0m \u001b[0mtargets\u001b[0m\u001b[0;34m)\u001b[0m\u001b[0;34m\u001b[0m\u001b[0;34m\u001b[0m\u001b[0m\n\u001b[1;32m    109\u001b[0m                 \u001b[0;32mif\u001b[0m \u001b[0mloss\u001b[0m \u001b[0;34m<\u001b[0m \u001b[0mmin_valid_loss\u001b[0m\u001b[0;34m:\u001b[0m\u001b[0;34m\u001b[0m\u001b[0;34m\u001b[0m\u001b[0m\n",
      "\u001b[0;32m<ipython-input-25-106431c6b8ad>\u001b[0m in \u001b[0;36mforward\u001b[0;34m(self, inputs, hidden_state, best)\u001b[0m\n\u001b[1;32m     23\u001b[0m                 \u001b[0mhidden_states\u001b[0m\u001b[0;34m[\u001b[0m\u001b[0mn\u001b[0m\u001b[0;34m]\u001b[0m\u001b[0;34m[\u001b[0m\u001b[0;34m-\u001b[0m\u001b[0mi\u001b[0m\u001b[0;34m-\u001b[0m\u001b[0;36m1\u001b[0m\u001b[0;34m]\u001b[0m \u001b[0;34m=\u001b[0m \u001b[0mnp\u001b[0m\u001b[0;34m.\u001b[0m\u001b[0mcopy\u001b[0m\u001b[0;34m(\u001b[0m\u001b[0mhidden_state\u001b[0m\u001b[0;34m)\u001b[0m\u001b[0;34m\u001b[0m\u001b[0;34m\u001b[0m\u001b[0m\n\u001b[1;32m     24\u001b[0m             \u001b[0;32mfor\u001b[0m \u001b[0mt\u001b[0m \u001b[0;32min\u001b[0m \u001b[0mrange\u001b[0m\u001b[0;34m(\u001b[0m\u001b[0mlen\u001b[0m\u001b[0;34m(\u001b[0m\u001b[0minputs\u001b[0m\u001b[0;34m[\u001b[0m\u001b[0mn\u001b[0m\u001b[0;34m]\u001b[0m\u001b[0;34m)\u001b[0m\u001b[0;34m)\u001b[0m\u001b[0;34m:\u001b[0m\u001b[0;34m\u001b[0m\u001b[0;34m\u001b[0m\u001b[0m\n\u001b[0;32m---> 25\u001b[0;31m                 \u001b[0ms\u001b[0m \u001b[0;34m=\u001b[0m \u001b[0mnp\u001b[0m\u001b[0;34m.\u001b[0m\u001b[0mzeros_like\u001b[0m\u001b[0;34m(\u001b[0m\u001b[0mhidden_state\u001b[0m\u001b[0;34m)\u001b[0m\u001b[0;34m\u001b[0m\u001b[0;34m\u001b[0m\u001b[0m\n\u001b[0m\u001b[1;32m     26\u001b[0m                 \u001b[0;32mfor\u001b[0m \u001b[0mi\u001b[0m \u001b[0;32min\u001b[0m \u001b[0mrange\u001b[0m\u001b[0;34m(\u001b[0m\u001b[0mself\u001b[0m\u001b[0;34m.\u001b[0m\u001b[0morder\u001b[0m\u001b[0;34m)\u001b[0m\u001b[0;34m:\u001b[0m \u001b[0;31m# order = 3: -1, -2, -3;\u001b[0m\u001b[0;34m\u001b[0m\u001b[0;34m\u001b[0m\u001b[0m\n\u001b[1;32m     27\u001b[0m                     \u001b[0ms\u001b[0m \u001b[0;34m+=\u001b[0m \u001b[0mnp\u001b[0m\u001b[0;34m.\u001b[0m\u001b[0mdot\u001b[0m\u001b[0;34m(\u001b[0m\u001b[0mV\u001b[0m\u001b[0;34m[\u001b[0m\u001b[0;34m-\u001b[0m\u001b[0mi\u001b[0m\u001b[0;34m-\u001b[0m\u001b[0;36m1\u001b[0m\u001b[0;34m]\u001b[0m\u001b[0;34m,\u001b[0m \u001b[0mhidden_states\u001b[0m\u001b[0;34m[\u001b[0m\u001b[0mn\u001b[0m\u001b[0;34m]\u001b[0m\u001b[0;34m[\u001b[0m\u001b[0mt\u001b[0m\u001b[0;34m-\u001b[0m\u001b[0mi\u001b[0m\u001b[0;34m-\u001b[0m\u001b[0;36m1\u001b[0m\u001b[0;34m]\u001b[0m\u001b[0;34m)\u001b[0m\u001b[0;34m\u001b[0m\u001b[0;34m\u001b[0m\u001b[0m\n",
      "\u001b[0;32m<__array_function__ internals>\u001b[0m in \u001b[0;36mzeros_like\u001b[0;34m(*args, **kwargs)\u001b[0m\n",
      "\u001b[0;32m/usr/local/lib/python3.7/dist-packages/numpy/core/numeric.py\u001b[0m in \u001b[0;36mzeros_like\u001b[0;34m(a, dtype, order, subok, shape)\u001b[0m\n\u001b[1;32m    135\u001b[0m \u001b[0;34m\u001b[0m\u001b[0m\n\u001b[1;32m    136\u001b[0m     \"\"\"\n\u001b[0;32m--> 137\u001b[0;31m     \u001b[0mres\u001b[0m \u001b[0;34m=\u001b[0m \u001b[0mempty_like\u001b[0m\u001b[0;34m(\u001b[0m\u001b[0ma\u001b[0m\u001b[0;34m,\u001b[0m \u001b[0mdtype\u001b[0m\u001b[0;34m=\u001b[0m\u001b[0mdtype\u001b[0m\u001b[0;34m,\u001b[0m \u001b[0morder\u001b[0m\u001b[0;34m=\u001b[0m\u001b[0morder\u001b[0m\u001b[0;34m,\u001b[0m \u001b[0msubok\u001b[0m\u001b[0;34m=\u001b[0m\u001b[0msubok\u001b[0m\u001b[0;34m,\u001b[0m \u001b[0mshape\u001b[0m\u001b[0;34m=\u001b[0m\u001b[0mshape\u001b[0m\u001b[0;34m)\u001b[0m\u001b[0;34m\u001b[0m\u001b[0;34m\u001b[0m\u001b[0m\n\u001b[0m\u001b[1;32m    138\u001b[0m     \u001b[0;31m# needed instead of a 0 to get same result as zeros for for string dtypes\u001b[0m\u001b[0;34m\u001b[0m\u001b[0;34m\u001b[0m\u001b[0;34m\u001b[0m\u001b[0m\n\u001b[1;32m    139\u001b[0m     \u001b[0mz\u001b[0m \u001b[0;34m=\u001b[0m \u001b[0mzeros\u001b[0m\u001b[0;34m(\u001b[0m\u001b[0;36m1\u001b[0m\u001b[0;34m,\u001b[0m \u001b[0mdtype\u001b[0m\u001b[0;34m=\u001b[0m\u001b[0mres\u001b[0m\u001b[0;34m.\u001b[0m\u001b[0mdtype\u001b[0m\u001b[0;34m)\u001b[0m\u001b[0;34m\u001b[0m\u001b[0;34m\u001b[0m\u001b[0m\n",
      "\u001b[0;32m<__array_function__ internals>\u001b[0m in \u001b[0;36mempty_like\u001b[0;34m(*args, **kwargs)\u001b[0m\n",
      "\u001b[0;31mKeyboardInterrupt\u001b[0m: "
     ]
    },
    {
     "data": {
      "image/png": "[encoded data removed]",
      "text/plain": [
       "<Figure size 432x288 with 1 Axes>"
      ]
     },
     "metadata": {
      "needs_background": "light",
      "tags": []
     },
     "output_type": "display_data"
    }
   ],
   "source": [
    "hornn_test_results = {}\n",
    "for seq_len in seq_lens:\n",
    "    lookback = seq_len*step\n",
    "\n",
    "    train_gen = data_generator(df, lookback=lookback, delay=delay, min_index=0, max_index=200000,\n",
    "                        step=step, batch_size=batch_size, steps=train_steps)\n",
    "    val_gen = data_generator(df, lookback=lookback, delay=delay, min_index=200001, max_index=300000,\n",
    "                        step=step, batch_size=batch_size, steps=val_steps)\n",
    "    test_gen = data_generator(df, lookback=lookback, delay=delay, min_index=300001, max_index=len(df)-delay-1,\n",
    "                        step=step, batch_size=batch_size, steps=test_steps)\n",
    "\n",
    "    hornn_test_results[seq_len] = {}\n",
    "    for order in orders:\n",
    "        hornn_test_results[seq_len][order] = {}\n",
    "        test_loss_results, test_acc_results = [], []\n",
    "        for n in range(num_exp):\n",
    "            print(f'HORNN {order} Experiment: {n}; seq_len: {seq_len}')\n",
    "            hornn_model = HORNN(hidden_size, input_size=14, out_size=1, order=order)\n",
    "            hidden_state = np.zeros((hidden_size, 1))  # Initial hidden_state\n",
    "            hornn_train_loss, hornn_valid_loss = hornn_model.train(train_set=train_gen, valid_set=val_gen, \n",
    "                                                    hidden_state=hidden_state, num_epochs=num_epochs, \n",
    "                                                    lr=learning_rate, clip_norm=gradient_clip_norm, \n",
    "                                                    train_steps=train_steps, val_steps=val_steps)\n",
    "            hornn_test_loss = hornn_model.test(test_set=test_gen, hidden_state=hidden_state, test_steps=test_steps)\n",
    "            test_loss_results.append(hornn_test_loss)\n",
    "            # Plot training and validation loss\n",
    "            epoch = np.arange(len(hornn_train_loss))\n",
    "            plt.figure()\n",
    "            plt.plot(epoch, hornn_train_loss, 'r', label='Training loss',)\n",
    "            plt.plot(epoch, hornn_valid_loss, 'b', label='Validation loss')\n",
    "            plt.legend()\n",
    "            plt.xlabel('Epoch'), plt.ylabel('Loss')\n",
    "            plt.savefig(f'jena_{seq_len}__hornn{order}_exp_{n}.png')\n",
    "        \n",
    "        print(f'Seq_len: {seq_len}; HORNN-{order} average char test loss: {np.average(test_loss_results)}')\n",
    "        hornn_test_results[seq_len][order]['loss'] = np.average(test_loss_results)\n",
    "        hornn_test_results[seq_len][order]['all_loss'] = test_loss_results.copy()"
   ]
  },
  {
   "cell_type": "code",
   "execution_count": null,
   "metadata": {
    "id": "WZGkFV9tRxjb"
   },
   "outputs": [],
   "source": []
  }
 ],
 "metadata": {
  "colab": {
   "authorship_tag": "ABX9TyOdWSs3P9FyGhkoSIrx/usO",
   "collapsed_sections": [
    "x3rUdKNmL3VQ",
    "xYUxuJuYKgvW",
    "6s-wPxb-KxQh"
   ],
   "name": "jena.ipynb",
   "provenance": [],
   "toc_visible": true
  },
  "kernelspec": {
   "display_name": "Python 3",
   "language": "python",
   "name": "python3"
  },
  "language_info": {
   "codemirror_mode": {
    "name": "ipython",
    "version": 3
   },
   "file_extension": ".py",
   "mimetype": "text/x-python",
   "name": "python",
   "nbconvert_exporter": "python",
   "pygments_lexer": "ipython3",
   "version": "3.7.2"
  }
 },
 "nbformat": 4,
 "nbformat_minor": 1
}
