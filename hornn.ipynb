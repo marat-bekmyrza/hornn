{
 "cells": [
  {
   "cell_type": "markdown",
   "metadata": {
    "id": "lkP5rcMDv6QA"
   },
   "source": [
    "# **Dataset Preparation**"
   ]
  },
  {
   "cell_type": "code",
   "execution_count": 39,
   "metadata": {
    "executionInfo": {
     "elapsed": 1147,
     "status": "ok",
     "timestamp": 1607015153086,
     "user": {
      "displayName": "Marat Bekmyrza",
      "photoUrl": "https://lh3.googleusercontent.com/a-/AOh14Gib-0tD7WjH3aGtX_5Rj6vIsFhVEXlrGvZoOgMH=s64",
      "userId": "16583475954751235795"
     },
     "user_tz": -360
    },
    "id": "vZnui4IG0xUD"
   },
   "outputs": [],
   "source": [
    "import numpy as np\n",
    "import re\n",
    "from torch.utils import data"
   ]
  },
  {
   "cell_type": "code",
   "execution_count": 40,
   "metadata": {
    "executionInfo": {
     "elapsed": 1813,
     "status": "ok",
     "timestamp": 1607015153758,
     "user": {
      "displayName": "Marat Bekmyrza",
      "photoUrl": "https://lh3.googleusercontent.com/a-/AOh14Gib-0tD7WjH3aGtX_5Rj6vIsFhVEXlrGvZoOgMH=s64",
      "userId": "16583475954751235795"
     },
     "user_tz": -360
    },
    "id": "wHorfXG2BCRA"
   },
   "outputs": [],
   "source": [
    "# loading dataset\n",
    "train_data = open('train.txt', 'r').read()\n",
    "test_data = open('test.txt', 'r').read()\n",
    "valid_data = open('valid.txt', 'r').read()"
   ]
  },
  {
   "cell_type": "code",
   "execution_count": 41,
   "metadata": {
    "executionInfo": {
     "elapsed": 1810,
     "status": "ok",
     "timestamp": 1607015153758,
     "user": {
      "displayName": "Marat Bekmyrza",
      "photoUrl": "https://lh3.googleusercontent.com/a-/AOh14Gib-0tD7WjH3aGtX_5Rj6vIsFhVEXlrGvZoOgMH=s64",
      "userId": "16583475954751235795"
     },
     "user_tz": -360
    },
    "id": "mKTmYg0FBFCD"
   },
   "outputs": [],
   "source": [
    "# clean data by removing unnecessary substrings\n",
    "def clean_data(data):\n",
    "  data = data.replace('< u n k >', '').replace('\\n', '_').replace(' ', '')\n",
    "  data = re.sub(r'[^a-z_]', '', data)\n",
    "  data = re.sub('_{2,}', '_', data)\n",
    "  return data\n",
    "\n",
    "def save_data(data, name):\n",
    "  f = open(name, \"w\")\n",
    "  f.write(data)\n",
    "  f.close()\n",
    "\n",
    "train_data = clean_data(train_data)\n",
    "test_data = clean_data(test_data)\n",
    "valid_data = clean_data(valid_data)\n",
    "\n",
    "save_data(train_data, \"train_data_clean.txt\")\n",
    "save_data(test_data, \"test_data_clean.txt\")\n",
    "save_data(valid_data, \"valid_data_clean.txt\")"
   ]
  },
  {
   "cell_type": "code",
   "execution_count": 42,
   "metadata": {
    "colab": {
     "base_uri": "https://localhost:8080/"
    },
    "executionInfo": {
     "elapsed": 1807,
     "status": "ok",
     "timestamp": 1607015153759,
     "user": {
      "displayName": "Marat Bekmyrza",
      "photoUrl": "https://lh3.googleusercontent.com/a-/AOh14Gib-0tD7WjH3aGtX_5Rj6vIsFhVEXlrGvZoOgMH=s64",
      "userId": "16583475954751235795"
     },
     "user_tz": -360
    },
    "id": "yBbz5rlCjcWg",
    "outputId": "b54ab85f-46f0-40ce-fc95-f9aa89ada20b"
   },
   "outputs": [
    {
     "name": "stdout",
     "output_type": "stream",
     "text": [
      "Number of unique characters is 27\n"
     ]
    }
   ],
   "source": [
    "vocab_chars = list(set(train_data))\n",
    "vocab_size = len(vocab_chars)\n",
    "print(f'Number of unique characters is {vocab_size}')\n",
    "\n",
    "char2idx = { ch:i for i,ch in enumerate(vocab_chars) }\n",
    "idx2char = { i:ch for i,ch in enumerate(vocab_chars) }"
   ]
  },
  {
   "cell_type": "code",
   "execution_count": 43,
   "metadata": {
    "colab": {
     "base_uri": "https://localhost:8080/"
    },
    "executionInfo": {
     "elapsed": 1804,
     "status": "ok",
     "timestamp": 1607015153759,
     "user": {
      "displayName": "Marat Bekmyrza",
      "photoUrl": "https://lh3.googleusercontent.com/a-/AOh14Gib-0tD7WjH3aGtX_5Rj6vIsFhVEXlrGvZoOgMH=s64",
      "userId": "16583475954751235795"
     },
     "user_tz": -360
    },
    "id": "SWQKi9SQ_cIW",
    "outputId": "80f7efce-56e9-4ea2-e7c7-3cbc0dfdf00a"
   },
   "outputs": [
    {
     "name": "stdout",
     "output_type": "stream",
     "text": [
      "Number of input and target sequences for train: 228\n",
      "Number of input and target sequences for test: 19\n",
      "Number of input and target sequences for validation: 18\n"
     ]
    }
   ],
   "source": [
    "class Dataset(data.Dataset):\n",
    "    def __init__(self, inputs, targets):\n",
    "        self.inputs = inputs\n",
    "        self.targets = targets\n",
    "\n",
    "    def __len__(self):\n",
    "        return len(self.targets)\n",
    "\n",
    "    def __getitem__(self, index):\n",
    "        x = self.inputs[index]\n",
    "        y = self.targets[index]\n",
    "        return x, y\n",
    "\n",
    "def get_inputs_targets(data, sequence_length):\n",
    "  inputs, targets = [], []\n",
    "\n",
    "  # inputs and targets contain L-1 chars of a sequence of length L\n",
    "  # but targets are shifted right by one so that we can predict the next char\n",
    "  sequence_length += 1\n",
    "  for i in range(sequence_length, len(data), sequence_length):\n",
    "      sequence = data[i-sequence_length:i]\n",
    "      inputs.append(sequence[:-1])\n",
    "      targets.append(sequence[1:])\n",
    "      \n",
    "  return inputs, targets\n",
    "\n",
    "sequence_length = 100  # Hyperparameter\n",
    "inputs_train, targets_train = get_inputs_targets(train_data, sequence_length)\n",
    "inputs_val, targets_val = get_inputs_targets(test_data, sequence_length)\n",
    "inputs_test, targets_test = get_inputs_targets(valid_data, sequence_length)\n",
    "\n",
    "train_set = Dataset(inputs_train, targets_train)\n",
    "test_set = Dataset(inputs_test, targets_test)\n",
    "valid_set = Dataset(inputs_val, targets_val)\n",
    "\n",
    "print(f'Number of input and target sequences for train: {len(train_set)}')\n",
    "print(f'Number of input and target sequences for test: {len(test_set)}')\n",
    "print(f'Number of input and target sequences for validation: {len(valid_set)}')"
   ]
  },
  {
   "cell_type": "code",
   "execution_count": 44,
   "metadata": {
    "colab": {
     "base_uri": "https://localhost:8080/"
    },
    "executionInfo": {
     "elapsed": 1801,
     "status": "ok",
     "timestamp": 1607015153760,
     "user": {
      "displayName": "Marat Bekmyrza",
      "photoUrl": "https://lh3.googleusercontent.com/a-/AOh14Gib-0tD7WjH3aGtX_5Rj6vIsFhVEXlrGvZoOgMH=s64",
      "userId": "16583475954751235795"
     },
     "user_tz": -360
    },
    "id": "0Z1LxhK-pttN",
    "outputId": "63863da0-e748-4e3b-bf3a-70b095507c47"
   },
   "outputs": [
    {
     "name": "stdout",
     "output_type": "stream",
     "text": [
      "One-hot encoding of 'a' has shape (27,)\n",
      "One-hot encoding of 'the_dutch_publishing_group_rudolph_years_old_and_former_chairman_of_consolidated_gold_fields_plc_was' has shape (100, 27, 1)\n",
      "Before encoding train_set.inputs[0]: 'the_dutch_publishing_group_rudolph_years_old_and_former_chairman_of_consolidated_gold_fields_plc_was'\n",
      "After encoding train_set.inputs[0]: 'the_dutch_publishing_group_rudolph_years_old_and_former_chairman_of_consolidated_gold_fields_plc_was'\n"
     ]
    }
   ],
   "source": [
    "def one_hot_encode(idx, vocab_size):\n",
    "    one_hot = np.zeros(vocab_size)\n",
    "    one_hot[idx] = 1.0\n",
    "    return one_hot\n",
    "\n",
    "def one_hot_encode_sequence(sequence, vocab_size):\n",
    "    encoding = np.array([one_hot_encode(char2idx[char], vocab_size) for char in sequence])\n",
    "    encoding = encoding.reshape(encoding.shape[0], encoding.shape[1], 1)\n",
    "    return encoding\n",
    "\n",
    "any_char = one_hot_encode(char2idx['a'], vocab_size)\n",
    "print(f'One-hot encoding of \\'a\\' has shape {any_char.shape}')\n",
    "\n",
    "any_sequence = one_hot_encode_sequence(train_set.inputs[0], vocab_size)\n",
    "print(f'One-hot encoding of \\'{train_set.inputs[0]}\\' has shape {any_sequence.shape}')\n",
    "\n",
    "print(f'Before encoding train_set.inputs[0]: \\'{train_set.inputs[0]}\\'')\n",
    "\n",
    "for data in [train_set, test_set, valid_set]:\n",
    "  data.inputs = [one_hot_encode_sequence(input_sequence, vocab_size) for input_sequence in data.inputs]\n",
    "  data.targets = [one_hot_encode_sequence(target_sequence, vocab_size) for target_sequence in data.targets]\n",
    "\n",
    "decoded_sequence = ''.join([idx2char[np.argmax(char)] for char in train_set.inputs[0]])\n",
    "print(f'After encoding train_set.inputs[0]: \\'{decoded_sequence}\\'')"
   ]
  },
  {
   "cell_type": "markdown",
   "metadata": {
    "id": "jWoBgWjY2oe-"
   },
   "source": [
    "# **Functions**"
   ]
  },
  {
   "cell_type": "code",
   "execution_count": 45,
   "metadata": {
    "executionInfo": {
     "elapsed": 898,
     "status": "ok",
     "timestamp": 1607015155364,
     "user": {
      "displayName": "Marat Bekmyrza",
      "photoUrl": "https://lh3.googleusercontent.com/a-/AOh14Gib-0tD7WjH3aGtX_5Rj6vIsFhVEXlrGvZoOgMH=s64",
      "userId": "16583475954751235795"
     },
     "user_tz": -360
    },
    "id": "bEbUy3eL2_GO"
   },
   "outputs": [],
   "source": [
    "def softmax(x):\n",
    "    x = x + 1e-12\n",
    "    return np.exp(x) / np.sum(np.exp(x))"
   ]
  },
  {
   "cell_type": "code",
   "execution_count": 46,
   "metadata": {
    "executionInfo": {
     "elapsed": 894,
     "status": "ok",
     "timestamp": 1607015155365,
     "user": {
      "displayName": "Marat Bekmyrza",
      "photoUrl": "https://lh3.googleusercontent.com/a-/AOh14Gib-0tD7WjH3aGtX_5Rj6vIsFhVEXlrGvZoOgMH=s64",
      "userId": "16583475954751235795"
     },
     "user_tz": -360
    },
    "id": "KngpP16e5pFy"
   },
   "outputs": [],
   "source": [
    "def init_orthogonal(rows, cols):\n",
    "    param = np.random.randn(rows, cols)\n",
    "    \n",
    "    if rows < cols: \n",
    "      param = param.T\n",
    "    q, r = np.linalg.qr(param) # Compute QR factorization\n",
    "    \n",
    "    # Make Q uniform according to https://arxiv.org/pdf/math-ph/0609050.pdf\n",
    "    d = np.diag(r)\n",
    "    ph = np.sign(d)\n",
    "    q *= ph\n",
    "\n",
    "    if rows < cols: \n",
    "      q = q.T\n",
    "    return q"
   ]
  },
  {
   "cell_type": "code",
   "execution_count": 47,
   "metadata": {
    "executionInfo": {
     "elapsed": 892,
     "status": "ok",
     "timestamp": 1607015155366,
     "user": {
      "displayName": "Marat Bekmyrza",
      "photoUrl": "https://lh3.googleusercontent.com/a-/AOh14Gib-0tD7WjH3aGtX_5Rj6vIsFhVEXlrGvZoOgMH=s64",
      "userId": "16583475954751235795"
     },
     "user_tz": -360
    },
    "id": "NTLLDG7R86ZJ"
   },
   "outputs": [],
   "source": [
    "def find_loss(outputs, targets):\n",
    "    loss = 0.0\n",
    "    for t in reversed(range(len(outputs))):\n",
    "        loss += -np.log(outputs[t][np.argmax(targets[t])])\n",
    "    return loss"
   ]
  },
  {
   "cell_type": "code",
   "execution_count": 48,
   "metadata": {
    "executionInfo": {
     "elapsed": 888,
     "status": "ok",
     "timestamp": 1607015155367,
     "user": {
      "displayName": "Marat Bekmyrza",
      "photoUrl": "https://lh3.googleusercontent.com/a-/AOh14Gib-0tD7WjH3aGtX_5Rj6vIsFhVEXlrGvZoOgMH=s64",
      "userId": "16583475954751235795"
     },
     "user_tz": -360
    },
    "id": "eHOWWWIv9oVC"
   },
   "outputs": [],
   "source": [
    "def find_bpc(outputs, targets):\n",
    "    bpc = 0.0\n",
    "    for t in reversed(range(len(outputs))):\n",
    "        bpc += -np.log2(outputs[t][np.argmax(targets[t])])\n",
    "    bpc /= len(outputs)\n",
    "    return bpc"
   ]
  },
  {
   "cell_type": "code",
   "execution_count": 49,
   "metadata": {
    "executionInfo": {
     "elapsed": 884,
     "status": "ok",
     "timestamp": 1607015155367,
     "user": {
      "displayName": "Marat Bekmyrza",
      "photoUrl": "https://lh3.googleusercontent.com/a-/AOh14Gib-0tD7WjH3aGtX_5Rj6vIsFhVEXlrGvZoOgMH=s64",
      "userId": "16583475954751235795"
     },
     "user_tz": -360
    },
    "id": "JqSQ0EdQ30n8"
   },
   "outputs": [],
   "source": [
    "def gradient_clip(grads, max_norm):\n",
    "    total_norm = 0\n",
    "    for grad in grads:\n",
    "        total_norm += np.linalg.norm(grad)\n",
    "    total_norm = np.sqrt(total_norm)\n",
    "\n",
    "    if total_norm > max_norm:\n",
    "        for grad in grads:\n",
    "            grad *= max_norm / total_norm\n",
    "    return grads"
   ]
  },
  {
   "cell_type": "code",
   "execution_count": 50,
   "metadata": {
    "executionInfo": {
     "elapsed": 881,
     "status": "ok",
     "timestamp": 1607015155368,
     "user": {
      "displayName": "Marat Bekmyrza",
      "photoUrl": "https://lh3.googleusercontent.com/a-/AOh14Gib-0tD7WjH3aGtX_5Rj6vIsFhVEXlrGvZoOgMH=s64",
      "userId": "16583475954751235795"
     },
     "user_tz": -360
    },
    "id": "fJlHPo2t5fN8"
   },
   "outputs": [],
   "source": [
    "def update_parameters(params, grads, lr):\n",
    "    for param, grad in zip(params, grads):\n",
    "        param -= lr * grad\n",
    "    return params"
   ]
  },
  {
   "cell_type": "markdown",
   "metadata": {
    "id": "ezr0OqIfvv6A"
   },
   "source": [
    "# **Vanilla RNN**"
   ]
  },
  {
   "cell_type": "code",
   "execution_count": 51,
   "metadata": {
    "executionInfo": {
     "elapsed": 1183,
     "status": "ok",
     "timestamp": 1607015165199,
     "user": {
      "displayName": "Marat Bekmyrza",
      "photoUrl": "https://lh3.googleusercontent.com/a-/AOh14Gib-0tD7WjH3aGtX_5Rj6vIsFhVEXlrGvZoOgMH=s64",
      "userId": "16583475954751235795"
     },
     "user_tz": -360
    },
    "id": "qJTKQeswhWB-"
   },
   "outputs": [],
   "source": [
    "class RNN():\n",
    "    def __init__(self, hidden_size, vocab_size):\n",
    "        V = init_orthogonal(hidden_size, hidden_size) # W_hh\n",
    "        U = init_orthogonal(hidden_size, vocab_size)  # W_hx\n",
    "        W = init_orthogonal(vocab_size, hidden_size)  # W_hy\n",
    "        b_hidden = np.zeros((hidden_size, 1))         # b_h\n",
    "        b_out = np.zeros((vocab_size, 1))             # b_y\n",
    "        self.params = V, U, W, b_hidden, b_out\n",
    "    \n",
    "    def forward(self, inputs, hidden_state):\n",
    "        V, U, W, b_hidden, b_out = self.params\n",
    "        outputs, hidden_states = [], []\n",
    "        for t in range(len(inputs)):\n",
    "            hidden_state = np.tanh(np.dot(U, inputs[t]) + np.dot(V, hidden_state) + b_hidden)\n",
    "            hidden_states.append(hidden_state.copy())\n",
    "            out = softmax(np.dot(W, hidden_state) + b_out)\n",
    "            outputs.append(out.copy())\n",
    "        return outputs, hidden_states\n",
    "\n",
    "    def backward(self, inputs, outputs, hidden_states, targets, gradient_clip_norm):\n",
    "        V, U, W, b_hidden, b_out = self.params\n",
    "        d_V, d_U, d_W = np.zeros_like(V), np.zeros_like(U), np.zeros_like(W)\n",
    "        d_b_hidden, d_b_out = np.zeros_like(b_hidden), np.zeros_like(b_out)\n",
    "\n",
    "        d_h_next = np.zeros_like(hidden_states[0])\n",
    "        loss = 0.0\n",
    "        \n",
    "        # BPTT Loop\n",
    "        for t in reversed(range(len(outputs))):\n",
    "            loss += -np.log(outputs[t][np.argmax(targets[t])])\n",
    "\n",
    "            d_o = outputs[t].copy()\n",
    "            d_o[np.argmax(targets[t])] -= 1\n",
    "            d_W += np.dot(d_o, hidden_states[t].T)\n",
    "            d_b_out += d_o\n",
    "            d_h = np.dot(W.T, d_o) + d_h_next\n",
    "            d_f = (1 - hidden_states[t]**2) * d_h\n",
    "            d_b_hidden += d_f\n",
    "            d_U += np.dot(d_f, inputs[t].T)\n",
    "            d_V += np.dot(d_f, hidden_states[t-1].T)\n",
    "            d_h_next = np.dot(V.T, d_f)\n",
    "\n",
    "        grads = d_V, d_U, d_W, d_b_hidden, d_b_out\n",
    "        grads = gradient_clip(grads, gradient_clip_norm)\n",
    "        return loss, grads\n",
    "\n",
    "    def train(self, train_set, valid_set, hidden_state, num_epochs, learning_rate):\n",
    "        training_loss, validation_loss = [], []\n",
    "        for i in range(num_epochs + 1):\n",
    "            epoch_training_loss = 0\n",
    "            epoch_validation_loss = 0\n",
    "            \n",
    "            for inputs, targets in train_set:\n",
    "                outputs, hidden_states = self.forward(inputs, hidden_state.copy())\n",
    "                loss, grads = self.backward(inputs, outputs, hidden_states, targets, gradient_clip_norm)\n",
    "                self.params = update_parameters(self.params, grads, learning_rate)\n",
    "                epoch_training_loss += loss\n",
    "\n",
    "            for inputs, targets in valid_set:\n",
    "                outputs, _ = self.forward(inputs, hidden_state.copy())\n",
    "                loss = find_loss(outputs, targets)\n",
    "                epoch_validation_loss += loss\n",
    "                    \n",
    "            training_loss.append(epoch_training_loss/len(train_set))\n",
    "            validation_loss.append(epoch_validation_loss/len(valid_set))\n",
    "\n",
    "            if i % 10 == 0:\n",
    "                print(f'Epoch {i}, training loss: {training_loss[-1]}, validation loss: {validation_loss[-1]}')\n",
    "        return training_loss, validation_loss\n",
    "\n",
    "    def test(self, test_set, hidden_state):\n",
    "        test_loss, test_bpc = 0, 0\n",
    "\n",
    "        for inputs, targets in test_set:\n",
    "            outputs, _ = self.forward(inputs, hidden_state)\n",
    "            loss = find_loss(outputs, targets)\n",
    "            bpc = find_bpc(outputs, targets)\n",
    "            test_loss += loss\n",
    "            test_bpc += bpc\n",
    "\n",
    "        test_loss /= len(test_set)\n",
    "        test_bpc /= len(test_set)\n",
    "        print(\"Test loss: \", test_loss)\n",
    "        print(\"Test BPC: \", test_bpc)\n",
    "        return test_loss, test_bpc"
   ]
  },
  {
   "cell_type": "code",
   "execution_count": 52,
   "metadata": {
    "colab": {
     "base_uri": "https://localhost:8080/",
     "height": 500
    },
    "executionInfo": {
     "elapsed": 209729,
     "status": "ok",
     "timestamp": 1607015373753,
     "user": {
      "displayName": "Marat Bekmyrza",
      "photoUrl": "https://lh3.googleusercontent.com/a-/AOh14Gib-0tD7WjH3aGtX_5Rj6vIsFhVEXlrGvZoOgMH=s64",
      "userId": "16583475954751235795"
     },
     "user_tz": -360
    },
    "id": "LOXqLfQVgEG4",
    "outputId": "3f12e741-87a3-4046-de09-e8436c6fa18d"
   },
   "outputs": [
    {
     "name": "stdout",
     "output_type": "stream",
     "text": [
      "Epoch 0, training loss: [319.58715957], validation loss: [307.81263166]\n",
      "Epoch 10, training loss: [276.17020473], validation loss: [275.10801261]\n",
      "Epoch 20, training loss: [264.14476335], validation loss: [263.05561878]\n",
      "Epoch 30, training loss: [256.32188526], validation loss: [255.30672339]\n",
      "Epoch 40, training loss: [250.02317902], validation loss: [248.90947301]\n",
      "Epoch 50, training loss: [245.01988946], validation loss: [243.91817207]\n",
      "Epoch 60, training loss: [241.42361988], validation loss: [240.53173514]\n",
      "Epoch 70, training loss: [238.82085022], validation loss: [238.28304855]\n",
      "Epoch 80, training loss: [236.80881984], validation loss: [236.69763687]\n",
      "Epoch 90, training loss: [235.14940866], validation loss: [235.49798987]\n",
      "Epoch 100, training loss: [233.72567971], validation loss: [234.54203184]\n",
      "Test loss:  [242.04985545]\n",
      "Test BPC:  [3.49204126]\n"
     ]
    },
    {
     "data": {
      "image/png": "[encoded data removed]",
      "text/plain": [
       "<Figure size 432x288 with 1 Axes>"
      ]
     },
     "metadata": {
      "needs_background": "light"
     },
     "output_type": "display_data"
    }
   ],
   "source": [
    "### Train Vanilla RNN ###\n",
    "\n",
    "import matplotlib.pyplot as plt\n",
    "%matplotlib inline\n",
    "\n",
    "# Hyperparameters\n",
    "hidden_size = 10\n",
    "gradient_clip_norm = 0.1\n",
    "learning_rate = 0.01\n",
    "num_epochs = 100\n",
    "\n",
    "rnn_model = RNN(hidden_size, vocab_size)\n",
    "hidden_state = np.zeros((hidden_size, 1))  # Initial hidden_state\n",
    "train_loss, valid_loss = rnn_model.train(train_set, valid_set, hidden_state, num_epochs, learning_rate)\n",
    "test_loss, test_bpc = rnn_model.test(test_set, hidden_state)\n",
    "\n",
    "# Plot training and validation loss\n",
    "epoch = np.arange(len(train_loss))\n",
    "plt.figure()\n",
    "plt.plot(epoch, train_loss, 'r', label='Training loss',)\n",
    "plt.plot(epoch, valid_loss, 'b', label='Validation loss')\n",
    "plt.legend()\n",
    "plt.xlabel('Epoch'), plt.ylabel('NLL')\n",
    "plt.show()"
   ]
  },
  {
   "cell_type": "markdown",
   "metadata": {
    "id": "NJO2OE2lmjJQ"
   },
   "source": [
    "# **HORNN**"
   ]
  },
  {
   "cell_type": "code",
   "execution_count": 53,
   "metadata": {
    "executionInfo": {
     "elapsed": 1659,
     "status": "ok",
     "timestamp": 1607006795236,
     "user": {
      "displayName": "Marat Bekmyrza",
      "photoUrl": "https://lh3.googleusercontent.com/a-/AOh14Gib-0tD7WjH3aGtX_5Rj6vIsFhVEXlrGvZoOgMH=s64",
      "userId": "16583475954751235795"
     },
     "user_tz": -360
    },
    "id": "3xboIKgPlUHJ"
   },
   "outputs": [],
   "source": [
    "class HORNN():\n",
    "    def __init__(self, hidden_size, vocab_size, order):\n",
    "        V = []\n",
    "        for _ in range(order):\n",
    "            V.append(init_orthogonal(hidden_size, hidden_size))\n",
    "        U = init_orthogonal(hidden_size, vocab_size)\n",
    "        W = init_orthogonal(vocab_size, hidden_size)\n",
    "        b_hidden = np.zeros((hidden_size, 1))\n",
    "        b_out = np.zeros((vocab_size, 1))\n",
    "\n",
    "        self.params = tuple(V) + (U, W, b_hidden, b_out)\n",
    "        self.order = order\n",
    "    \n",
    "    def forward(self, inputs, hidden_states_list):\n",
    "        V = []\n",
    "        for i in range(self.order):\n",
    "            V.append(self.params[i])\n",
    "        U, W, b_hidden, b_out = self.params[self.order:]\n",
    "\n",
    "        outputs, hidden_states = [], []\n",
    "        for t in range(len(inputs)):\n",
    "            s = np.zeros_like(hidden_states_list[0])\n",
    "            for i in range(self.order):\n",
    "                s += np.dot(V[i], hidden_states_list[i])\n",
    "            hidden_state = np.tanh(np.dot(U, inputs[t]) + s + b_hidden)\n",
    "            \n",
    "            # history window\n",
    "            hidden_states_list.pop()                            # remove the oldest hidden_state\n",
    "            hidden_states_list.insert(0, hidden_state.copy())   # place the new one at the beginning\n",
    "            \n",
    "            out = softmax(np.dot(W, hidden_state) + b_out)\n",
    "            outputs.append(out.copy())\n",
    "            hidden_states.append(hidden_state.copy())\n",
    "        return outputs, hidden_states\n",
    "\n",
    "    def backward(self, inputs, outputs, hidden_states, targets, gradient_clip_norm):\n",
    "        V = []\n",
    "        for i in range(self.order):\n",
    "            V.append(self.params[i])\n",
    "        U, W, b_hidden, b_out = self.params[self.order:]\n",
    "\n",
    "        # Derivatives\n",
    "        d_V = []\n",
    "        for i in range(self.order):\n",
    "            d_V.append(np.zeros_like(V[i]))\n",
    "        d_U, d_W = np.zeros_like(U), np.zeros_like(W)\n",
    "        d_b_hidden, d_b_out = np.zeros_like(b_hidden), np.zeros_like(b_out)\n",
    "        \n",
    "        # for updated equation\n",
    "        arrayOfM = [0]*self.order\n",
    "        arrayOfs = [0]*self.order\n",
    "        \n",
    "        d_h_next = np.zeros_like(hidden_states[0])\n",
    "        loss = 0.0\n",
    "        \n",
    "        # BPTT Loop\n",
    "        for t in reversed(range(len(outputs))):\n",
    "            loss += -np.log(outputs[t][np.argmax(targets[t])])\n",
    "\n",
    "            d_o = outputs[t].copy()\n",
    "            d_o[np.argmax(targets[t])] -= 1\n",
    "            d_W += np.dot(d_o, hidden_states[t].T)\n",
    "            d_b_out += d_o\n",
    "            \n",
    "            # HORNN update\n",
    "            #########################\n",
    "            M = arrayOfM[0]\n",
    "            for i in range(self.order-1):\n",
    "                M = M * arrayOfs[i] + arrayOfM[i+1]\n",
    "            \n",
    "            s = arrayOfs[-1]\n",
    "            l = np.dot(W.T, d_o)\n",
    "\n",
    "            M = M * s + l\n",
    "            arrayOfM = arrayOfM[1:]\n",
    "            arrayOfM.append(M)\n",
    "\n",
    "            d_f = (1 - hidden_states[t]**2)\n",
    "            r = d_f * M\n",
    "            for i in range(self.order):\n",
    "                d_V[i] += np.dot(r, hidden_states[t-1-i].T)\n",
    "\n",
    "            d_b_hidden += d_f * l\n",
    "            d_U += np.dot(r, inputs[t].T)\n",
    "            \n",
    "            s = np.dot(V[0].T, d_f)\n",
    "            arrayOfs = arrayOfs[1:]\n",
    "            arrayOfs.append(s)\n",
    "            #########################\n",
    "\n",
    "        grads = tuple(d_V) + (d_U, d_W, d_b_hidden, d_b_out)  \n",
    "        grads = gradient_clip(grads, gradient_clip_norm)\n",
    "        return loss, grads\n",
    "    \n",
    "    def train(self, train_set, valid_set, hidden_states_list, num_epochs, learning_rate):\n",
    "        training_loss, validation_loss = [], []\n",
    "        for i in range(num_epochs+1):\n",
    "            epoch_training_loss = 0\n",
    "            epoch_validation_loss = 0\n",
    "\n",
    "            for inputs, targets in train_set:\n",
    "                outputs, hidden_states = self.forward(inputs, hidden_states_list.copy())\n",
    "                loss, grads = self.backward(inputs, outputs, hidden_states, targets, gradient_clip_norm)\n",
    "                self.params = update_parameters(self.params, grads, learning_rate)\n",
    "                epoch_training_loss += loss\n",
    "\n",
    "            for inputs, targets in valid_set:\n",
    "                outputs, _ = self.forward(inputs, hidden_states_list.copy())\n",
    "                loss = find_loss(outputs, targets)\n",
    "                epoch_validation_loss += loss\n",
    "\n",
    "            training_loss.append(epoch_training_loss/len(train_set))\n",
    "            validation_loss.append(epoch_validation_loss/len(valid_set))\n",
    "\n",
    "            if i % 10 == 0:\n",
    "                print(f'Epoch {i}, training loss: {training_loss[-1]}, validation loss: {validation_loss[-1]}')\n",
    "        \n",
    "        return training_loss, validation_loss\n",
    "\n",
    "    def test(self, test_set, hidden_states_list):\n",
    "        test_loss = 0\n",
    "        test_bpc = 0\n",
    "\n",
    "        for inputs, targets in test_set:\n",
    "            outputs, _ = self.forward(inputs, hidden_states_list.copy())\n",
    "            loss = find_loss(outputs, targets)\n",
    "            bpc = find_bpc(outputs, targets)\n",
    "            test_loss += loss\n",
    "            test_bpc += bpc\n",
    "\n",
    "        test_loss /= len(test_set)\n",
    "        test_bpc /= len(test_set)\n",
    "        print(\"Test loss: \", test_loss)\n",
    "        print(\"Test BPC: \", test_bpc)\n",
    "\n",
    "        return test_loss, test_bpc"
   ]
  },
  {
   "cell_type": "code",
   "execution_count": 56,
   "metadata": {
    "colab": {
     "base_uri": "https://localhost:8080/"
    },
    "id": "eAn1Q2DImsgW",
    "outputId": "2f21e4f3-a928-45cb-bfc1-b707223ef6f7"
   },
   "outputs": [
    {
     "name": "stdout",
     "output_type": "stream",
     "text": [
      "Epoch 0, training loss: [337.02537661], validation loss: [332.2007313]\n",
      "Epoch 10, training loss: [291.63720524], validation loss: [289.71855772]\n",
      "Epoch 20, training loss: [285.82329418], validation loss: [285.84115545]\n",
      "Epoch 30, training loss: [284.25874324], validation loss: [284.52154456]\n",
      "Epoch 40, training loss: [281.73742321], validation loss: [281.38283989]\n",
      "Epoch 50, training loss: [277.3007589], validation loss: [276.94886145]\n",
      "Epoch 60, training loss: [272.06088674], validation loss: [271.64003141]\n",
      "Epoch 70, training loss: [267.36247374], validation loss: [267.245365]\n",
      "Epoch 80, training loss: [263.71110773], validation loss: [263.70546528]\n",
      "Epoch 90, training loss: [264.07477269], validation loss: [262.81370042]\n",
      "Epoch 100, training loss: [259.92482531], validation loss: [258.52085151]\n",
      "Test loss:  [264.25907048]\n",
      "Test BPC:  [3.8124525]\n"
     ]
    },
    {
     "data": {
      "image/png": "[encoded data removed]",
      "text/plain": [
       "<Figure size 432x288 with 1 Axes>"
      ]
     },
     "metadata": {
      "needs_background": "light"
     },
     "output_type": "display_data"
    }
   ],
   "source": [
    "### Train Vanilla HORNN ###\n",
    "\n",
    "import matplotlib.pyplot as plt\n",
    "%matplotlib inline\n",
    "\n",
    "# Hyperparameters\n",
    "order = 5\n",
    "hidden_size = 10\n",
    "gradient_clip_norm = 0.1\n",
    "learning_rate = 0.01\n",
    "num_epochs = 100\n",
    "# Model\n",
    "hornn_model = HORNN(hidden_size, vocab_size, order)\n",
    "hidden_states_list = [np.zeros((hidden_size, 1))] * order # Initial hidden_states\n",
    "train_loss, valid_loss = hornn_model.train(train_set, valid_set, hidden_states_list, num_epochs, learning_rate)\n",
    "test_loss, test_bpc = hornn_model.test(test_set, hidden_states_list)\n",
    "\n",
    "# Plot training and validation loss\n",
    "epoch = np.arange(len(train_loss))\n",
    "plt.figure()\n",
    "plt.plot(epoch, train_loss, 'r', label='Training loss',)\n",
    "plt.plot(epoch, valid_loss, 'b', label='Validation loss')\n",
    "plt.legend()\n",
    "plt.xlabel('Epoch'), plt.ylabel('NLL')\n",
    "plt.show()"
   ]
  },
  {
   "cell_type": "code",
   "execution_count": null,
   "metadata": {},
   "outputs": [],
   "source": []
  }
 ],
 "metadata": {
  "colab": {
   "authorship_tag": "ABX9TyMk2PoAipHlt1aq+b47FnJT",
   "collapsed_sections": [
    "lkP5rcMDv6QA",
    "jWoBgWjY2oe-"
   ],
   "name": "hornn_ptb.ipynb",
   "provenance": [],
   "toc_visible": true
  },
  "kernelspec": {
   "display_name": "Python 3",
   "language": "python",
   "name": "python3"
  },
  "language_info": {
   "codemirror_mode": {
    "name": "ipython",
    "version": 3
   },
   "file_extension": ".py",
   "mimetype": "text/x-python",
   "name": "python",
   "nbconvert_exporter": "python",
   "pygments_lexer": "ipython3",
   "version": "3.7.2"
  }
 },
 "nbformat": 4,
 "nbformat_minor": 1
}
