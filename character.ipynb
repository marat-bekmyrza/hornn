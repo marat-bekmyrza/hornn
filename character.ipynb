{
 "cells": [
  {
   "cell_type": "markdown",
   "metadata": {
    "id": "QZ-yEkskUZMV"
   },
   "source": [
    "# **Imports**"
   ]
  },
  {
   "cell_type": "code",
   "execution_count": 1,
   "metadata": {
    "executionInfo": {
     "elapsed": 1914,
     "status": "ok",
     "timestamp": 1619545029822,
     "user": {
      "displayName": "Marat Bekmyrza",
      "photoUrl": "https://lh3.googleusercontent.com/a-/AOh14Gib-0tD7WjH3aGtX_5Rj6vIsFhVEXlrGvZoOgMH=s64",
      "userId": "16583475954751235795"
     },
     "user_tz": -360
    },
    "id": "HSp5JhAZsfcl"
   },
   "outputs": [],
   "source": [
    "import re\n",
    "import numpy as np\n",
    "from matplotlib import pyplot as plt"
   ]
  },
  {
   "cell_type": "markdown",
   "metadata": {
    "id": "C_qLZ9HetCrt"
   },
   "source": [
    "# **Data Processing**"
   ]
  },
  {
   "cell_type": "code",
   "execution_count": 3,
   "metadata": {
    "executionInfo": {
     "elapsed": 12372,
     "status": "ok",
     "timestamp": 1619545056813,
     "user": {
      "displayName": "Marat Bekmyrza",
      "photoUrl": "https://lh3.googleusercontent.com/a-/AOh14Gib-0tD7WjH3aGtX_5Rj6vIsFhVEXlrGvZoOgMH=s64",
      "userId": "16583475954751235795"
     },
     "user_tz": -360
    },
    "id": "Dbj0235OtH8Y"
   },
   "outputs": [],
   "source": [
    "# loading dataset\n",
    "train_data = open('data/character/train.txt', 'r').read()\n",
    "test_data = open('data/character/test.txt', 'r').read()\n",
    "valid_data = open('data/character/valid.txt', 'r').read()"
   ]
  },
  {
   "cell_type": "code",
   "execution_count": 4,
   "metadata": {
    "executionInfo": {
     "elapsed": 12370,
     "status": "ok",
     "timestamp": 1619545056814,
     "user": {
      "displayName": "Marat Bekmyrza",
      "photoUrl": "https://lh3.googleusercontent.com/a-/AOh14Gib-0tD7WjH3aGtX_5Rj6vIsFhVEXlrGvZoOgMH=s64",
      "userId": "16583475954751235795"
     },
     "user_tz": -360
    },
    "id": "WCxR-zGwtQfv"
   },
   "outputs": [],
   "source": [
    "# clean data by removing unnecessary substrings\n",
    "def clean_data(datax):\n",
    "  datax = datax.replace('< u n k >', '').replace('\\n', '_').replace(' ', '')\n",
    "  datax = re.sub(r'[^a-z_]', '', datax)\n",
    "  datax = re.sub('_{2,}', '_', datax)\n",
    "  return datax\n",
    "\n",
    "train_data = clean_data(train_data)\n",
    "test_data = clean_data(test_data)\n",
    "valid_data = clean_data(valid_data)"
   ]
  },
  {
   "cell_type": "code",
   "execution_count": 5,
   "metadata": {
    "colab": {
     "base_uri": "https://localhost:8080/"
    },
    "executionInfo": {
     "elapsed": 12361,
     "status": "ok",
     "timestamp": 1619545056814,
     "user": {
      "displayName": "Marat Bekmyrza",
      "photoUrl": "https://lh3.googleusercontent.com/a-/AOh14Gib-0tD7WjH3aGtX_5Rj6vIsFhVEXlrGvZoOgMH=s64",
      "userId": "16583475954751235795"
     },
     "user_tz": -360
    },
    "id": "e48AfubWtUXW",
    "outputId": "0d7da180-a97a-4827-8aaf-b0ca584e7189"
   },
   "outputs": [
    {
     "name": "stdout",
     "output_type": "stream",
     "text": [
      "Number of unique characters is 27\n"
     ]
    }
   ],
   "source": [
    "vocab_chars = list(set(train_data))\n",
    "vocab_size = len(vocab_chars)\n",
    "char2idx = { ch:i for i,ch in enumerate(vocab_chars) }\n",
    "idx2char = { i:ch for i,ch in enumerate(vocab_chars) }\n",
    "print(f'Number of unique characters is {vocab_size}')"
   ]
  },
  {
   "cell_type": "code",
   "execution_count": 6,
   "metadata": {
    "executionInfo": {
     "elapsed": 12361,
     "status": "ok",
     "timestamp": 1619545056815,
     "user": {
      "displayName": "Marat Bekmyrza",
      "photoUrl": "https://lh3.googleusercontent.com/a-/AOh14Gib-0tD7WjH3aGtX_5Rj6vIsFhVEXlrGvZoOgMH=s64",
      "userId": "16583475954751235795"
     },
     "user_tz": -360
    },
    "id": "JFsSIk0Oyu4_"
   },
   "outputs": [],
   "source": [
    "def encode_sequence(sequence, inp_size):\n",
    "    seq_encoding = {}\n",
    "    for i in range(len(sequence)):\n",
    "        one_hot = np.zeros((inp_size,1))\n",
    "        one_hot[char2idx[sequence[i]]] = 1.0\n",
    "        seq_encoding[i] = one_hot\n",
    "    return seq_encoding"
   ]
  },
  {
   "cell_type": "code",
   "execution_count": 7,
   "metadata": {
    "executionInfo": {
     "elapsed": 12359,
     "status": "ok",
     "timestamp": 1619545056815,
     "user": {
      "displayName": "Marat Bekmyrza",
      "photoUrl": "https://lh3.googleusercontent.com/a-/AOh14Gib-0tD7WjH3aGtX_5Rj6vIsFhVEXlrGvZoOgMH=s64",
      "userId": "16583475954751235795"
     },
     "user_tz": -360
    },
    "id": "VB_2BXNV8kEd"
   },
   "outputs": [],
   "source": [
    "def data_generator(datax, inp_size=27, seq_len=100, batch_size=128):\n",
    "    \"\"\"\n",
    "    generates 1 batch of inputs\n",
    "    1 batch = 128 sequences\n",
    "    1 sequence = 50 time points / samples\n",
    "    1 sample = 27 feature values\n",
    "    inputs shape: (128, 50, 27) or (batch_size, seq_len, num_features)\n",
    "    targets shape: (128, 50, 27), 1 target value for each sample, many-to-many architecture\n",
    "    \"\"\"\n",
    "    inputs, targets = {}, {}\n",
    "    seq_len += 1 # because input = [0:seq_len-1), target = [1:seq_len)\n",
    "    start = 0 # where to start drawing inputs, incremented by batch size * seq_len\n",
    "    while True:\n",
    "        if start + batch_size * seq_len > len(datax):\n",
    "            start = 0\n",
    "        stop = start + batch_size * seq_len\n",
    "        indices = np.arange(start, stop, seq_len)\n",
    "        for i in range(len(indices)):\n",
    "            sequence = datax[indices[i]:indices[i]+seq_len]\n",
    "            inputs[i] = encode_sequence(sequence[:-1], inp_size)\n",
    "            targets[i] = encode_sequence(sequence[1:], inp_size)\n",
    "        start += batch_size * seq_len\n",
    "        yield inputs, targets"
   ]
  },
  {
   "cell_type": "code",
   "execution_count": 9,
   "metadata": {
    "executionInfo": {
     "elapsed": 12358,
     "status": "ok",
     "timestamp": 1619545056816,
     "user": {
      "displayName": "Marat Bekmyrza",
      "photoUrl": "https://lh3.googleusercontent.com/a-/AOh14Gib-0tD7WjH3aGtX_5Rj6vIsFhVEXlrGvZoOgMH=s64",
      "userId": "16583475954751235795"
     },
     "user_tz": -360
    },
    "id": "yGx62ebzNqLH"
   },
   "outputs": [],
   "source": [
    "# train_gen = data_generator(train_data, vocab_size, seq_len, batch_size)\n",
    "# test_gen = data_generator(test_data, vocab_size, seq_len, batch_size)\n",
    "# val_gen =  data_generator(valid_data, vocab_size, seq_len, batch_size)\n",
    "\n",
    "# train_steps = len(train_data)//((seq_len+1)*batch_size)\n",
    "# test_steps = len(test_data)//((seq_len+1)*batch_size)\n",
    "# val_steps = len(valid_data)//((seq_len+1)*batch_size)\n",
    "\n",
    "# print(f'Number of batches for train: {train_steps}')\n",
    "# print(f'Number of batches for test: {test_steps}')\n",
    "# print(f'Number of batches for validation: {val_steps}')"
   ]
  },
  {
   "cell_type": "markdown",
   "metadata": {
    "id": "ljhvNakDw2rL"
   },
   "source": [
    "# **Functions**"
   ]
  },
  {
   "cell_type": "code",
   "execution_count": 10,
   "metadata": {
    "executionInfo": {
     "elapsed": 11321,
     "status": "ok",
     "timestamp": 1619545056816,
     "user": {
      "displayName": "Marat Bekmyrza",
      "photoUrl": "https://lh3.googleusercontent.com/a-/AOh14Gib-0tD7WjH3aGtX_5Rj6vIsFhVEXlrGvZoOgMH=s64",
      "userId": "16583475954751235795"
     },
     "user_tz": -360
    },
    "id": "MQwoWcvzwUdd"
   },
   "outputs": [],
   "source": [
    "def softmax(x):\n",
    "    return np.exp(x) / np.sum(np.exp(x))"
   ]
  },
  {
   "cell_type": "code",
   "execution_count": 11,
   "metadata": {
    "executionInfo": {
     "elapsed": 11319,
     "status": "ok",
     "timestamp": 1619545056817,
     "user": {
      "displayName": "Marat Bekmyrza",
      "photoUrl": "https://lh3.googleusercontent.com/a-/AOh14Gib-0tD7WjH3aGtX_5Rj6vIsFhVEXlrGvZoOgMH=s64",
      "userId": "16583475954751235795"
     },
     "user_tz": -360
    },
    "id": "mE6xzHfCw0co"
   },
   "outputs": [],
   "source": [
    "def gradient_clip(grads, max_norm, order=1):\n",
    "    total_norm = 0.0\n",
    "    if order > 1:\n",
    "        for i in range(order):\n",
    "            total_norm += np.linalg.norm(grads[0][-i-1])\n",
    "    else:\n",
    "        total_norm += np.linalg.norm(grads[0])\n",
    "    for i in range(1, len(grads[1:])):\n",
    "        total_norm += np.linalg.norm(grads[i])\n",
    "    \n",
    "    total_norm = np.sqrt(total_norm)\n",
    "    if total_norm > max_norm:\n",
    "        if order > 1:\n",
    "            for i in range(order):\n",
    "                grads[0][-i-1] *= max_norm / total_norm\n",
    "        else:\n",
    "            grads[0] *= max_norm / total_norm\n",
    "        for i in range(1, len(grads[1:])):\n",
    "            grads[i] *= max_norm / total_norm\n",
    "    \"\"\"\n",
    "    # andrej\n",
    "    for i in range(len(grads)):\n",
    "        np.clip(grads[i], -5, 5, out=grads[i]) # clip to mitigate exploding gradients\n",
    "    \"\"\"\n",
    "    return grads"
   ]
  },
  {
   "cell_type": "code",
   "execution_count": 12,
   "metadata": {
    "executionInfo": {
     "elapsed": 11318,
     "status": "ok",
     "timestamp": 1619545056817,
     "user": {
      "displayName": "Marat Bekmyrza",
      "photoUrl": "https://lh3.googleusercontent.com/a-/AOh14Gib-0tD7WjH3aGtX_5Rj6vIsFhVEXlrGvZoOgMH=s64",
      "userId": "16583475954751235795"
     },
     "user_tz": -360
    },
    "id": "M46mvuZN35Ps"
   },
   "outputs": [],
   "source": [
    "def find_loss(outputs, targets):\n",
    "    loss = 0.0\n",
    "    for n in range(len(outputs)):\n",
    "        for t in range(len(outputs[n])):\n",
    "            loss += -np.log(outputs[n][t][np.argmax(targets[n][t])])\n",
    "    loss /= len(outputs)\n",
    "    return loss"
   ]
  },
  {
   "cell_type": "code",
   "execution_count": 13,
   "metadata": {
    "executionInfo": {
     "elapsed": 11316,
     "status": "ok",
     "timestamp": 1619545056817,
     "user": {
      "displayName": "Marat Bekmyrza",
      "photoUrl": "https://lh3.googleusercontent.com/a-/AOh14Gib-0tD7WjH3aGtX_5Rj6vIsFhVEXlrGvZoOgMH=s64",
      "userId": "16583475954751235795"
     },
     "user_tz": -360
    },
    "id": "PhIncIQrDKs_"
   },
   "outputs": [],
   "source": [
    "def find_acc(outputs, targets):\n",
    "    acc = 0.0\n",
    "    for n in range(len(outputs)):\n",
    "        for t in range(len(outputs[n])):\n",
    "            acc += np.argmax(targets[n][t]) == np.argmax(outputs[n][t])\n",
    "    acc /= len(outputs[0])\n",
    "    acc /= len(outputs)\n",
    "    return acc"
   ]
  },
  {
   "cell_type": "code",
   "execution_count": 14,
   "metadata": {
    "executionInfo": {
     "elapsed": 11316,
     "status": "ok",
     "timestamp": 1619545056818,
     "user": {
      "displayName": "Marat Bekmyrza",
      "photoUrl": "https://lh3.googleusercontent.com/a-/AOh14Gib-0tD7WjH3aGtX_5Rj6vIsFhVEXlrGvZoOgMH=s64",
      "userId": "16583475954751235795"
     },
     "user_tz": -360
    },
    "id": "cPOGKtpm3757"
   },
   "outputs": [],
   "source": [
    "def update_parameters(params, grads, lr, order=0):\n",
    "    if order > 1:\n",
    "        for i in range(order):\n",
    "            params[0][-i-1] -= grads[0][-i-1] * lr\n",
    "    else:\n",
    "        params[0] -= grads[0] * lr\n",
    "    for i in range(1, len(params[1:])):\n",
    "        params[i] -= grads[i] * lr\n",
    "    return params"
   ]
  },
  {
   "cell_type": "markdown",
   "metadata": {
    "id": "Nu3EhNJD4yaX"
   },
   "source": [
    "# **Vanilla RNN**"
   ]
  },
  {
   "cell_type": "code",
   "execution_count": 15,
   "metadata": {
    "executionInfo": {
     "elapsed": 9575,
     "status": "ok",
     "timestamp": 1619545056819,
     "user": {
      "displayName": "Marat Bekmyrza",
      "photoUrl": "https://lh3.googleusercontent.com/a-/AOh14Gib-0tD7WjH3aGtX_5Rj6vIsFhVEXlrGvZoOgMH=s64",
      "userId": "16583475954751235795"
     },
     "user_tz": -360
    },
    "id": "rvpckTHO38z-"
   },
   "outputs": [],
   "source": [
    "class RNN():\n",
    "    def __init__(self, hidden_size, input_size, out_size):\n",
    "        V = np.random.randn(hidden_size, hidden_size)*0.1 # W_hh\n",
    "        U = np.random.randn(hidden_size, input_size)*0.1  # W_hx\n",
    "        W = np.random.randn(out_size, hidden_size)*0.1    # W_hy\n",
    "        b_hidden = np.zeros((hidden_size, 1))              # b_h\n",
    "        b_out = np.zeros((out_size, 1))                    # b_y\n",
    "        self.params = [V, U, W, b_hidden, b_out]\n",
    "        self.best = [V, U, W, b_hidden, b_out]\n",
    "    \n",
    "    def forward(self, inputs, hidden_state, best=False):\n",
    "        if best: \n",
    "            V, U, W, b_hidden, b_out = self.best    \n",
    "        else: \n",
    "            V, U, W, b_hidden, b_out = self.params\n",
    "        outputs, hidden_states = {}, {}\n",
    "        for n in range(len(inputs)):\n",
    "            outputs[n], hidden_states[n] = {}, {}\n",
    "            hidden_states[n][-1] = np.copy(hidden_state)\n",
    "            for t in range(len(inputs[n])):\n",
    "                hidden_states[n][t] = np.tanh(np.dot(U, inputs[n][t]) + np.dot(V, hidden_states[n][t-1]) + b_hidden)\n",
    "                outputs[n][t] = softmax(np.copy(np.dot(W, hidden_states[n][t]) + b_out))\n",
    "        return outputs, hidden_states\n",
    "\n",
    "    def backward(self, inputs, outputs, hidden_states, targets, clip_norm):\n",
    "        V, U, W, b_hidden, b_out = self.params\n",
    "        dV, dU, dW = np.zeros_like(V), np.zeros_like(U), np.zeros_like(W)\n",
    "        db_hidden, db_out = np.zeros_like(b_hidden), np.zeros_like(b_out)\n",
    "\n",
    "        dh_next = np.zeros_like(hidden_states[0][0])\n",
    "        loss = 0.0\n",
    "        N = len(outputs)\n",
    "        for n in range(N):\n",
    "            for t in reversed(range(len(inputs[n]))):\n",
    "                loss += -np.log(outputs[n][t][np.argmax(targets[n][t])])\n",
    "                do = np.copy(outputs[n][t])\n",
    "                do[np.argmax(targets[n][t])] -= 1\n",
    "                dW += np.dot(do, hidden_states[n][t].T)\n",
    "                db_out += do\n",
    "                dh = np.dot(W.T, do) + dh_next\n",
    "                df = (1 - hidden_states[n][t] * hidden_states[n][t]) * dh\n",
    "                db_hidden += df\n",
    "                dU += np.dot(df, inputs[n][t].T)\n",
    "                dV += np.dot(df, hidden_states[n][t-1].T)\n",
    "                dh_next = np.dot(V.T, df)\n",
    "        loss /= N\n",
    "        dV, dU, dW, db_hidden, db_out = dV/N, dU/N, dW/N, db_hidden/N, db_out/N\n",
    "        grads = [dV, dU, dW, db_hidden, db_out]\n",
    "        grads = gradient_clip(grads, clip_norm)\n",
    "        return loss, grads\n",
    "\n",
    "    def train(self, train_set, valid_set, hidden_state, num_epochs, lr, clip_norm, train_steps=100, val_steps=100):\n",
    "        training_loss, validation_loss = [], []\n",
    "        for epoch in range(num_epochs):\n",
    "            epoch_training_loss = 0.0\n",
    "            epoch_validation_loss = 0.0\n",
    "            min_valid_loss = 1e6\n",
    "\n",
    "            for train_step in range(train_steps):\n",
    "                inputs, targets = next(train_set)\n",
    "                outputs, hidden_states = self.forward(inputs, hidden_state)\n",
    "                loss, grads = self.backward(inputs, outputs, hidden_states, targets, clip_norm)\n",
    "                self.params = update_parameters(self.params, grads, lr)\n",
    "                epoch_training_loss += loss\n",
    "\n",
    "            for val_step in range(val_steps):\n",
    "                inputs, targets = next(valid_set)\n",
    "                outputs, _ = self.forward(inputs, hidden_state)\n",
    "                loss = find_loss(outputs, targets)\n",
    "                if loss < min_valid_loss:\n",
    "                    self.best = self.params.copy()\n",
    "                    min_valid_loss = loss\n",
    "                epoch_validation_loss += loss\n",
    "                    \n",
    "            training_loss.append(epoch_training_loss/train_steps)\n",
    "            validation_loss.append(epoch_validation_loss/val_steps)\n",
    "\n",
    "            if epoch % 10 == 0:\n",
    "                print(f'Epoch {epoch}, training loss: {training_loss[-1]}, validation loss: {validation_loss[-1]}')\n",
    "        return training_loss, validation_loss\n",
    "\n",
    "    def test(self, test_set, hidden_state, test_steps=100):\n",
    "        test_loss, test_acc = 0.0, 0.0\n",
    "        for test_step in range(test_steps):\n",
    "            inputs, targets = next(test_set)\n",
    "            outputs, _ = self.forward(inputs, hidden_state, best=True)\n",
    "            test_loss += find_loss(outputs, targets)\n",
    "            test_acc += find_acc(outputs, targets)\n",
    "        test_loss /= test_steps\n",
    "        test_acc /= test_steps\n",
    "        print(\"Test loss: \", test_loss)\n",
    "        print(\"Test acc: \", test_acc)\n",
    "        return test_loss, test_acc"
   ]
  },
  {
   "cell_type": "markdown",
   "metadata": {
    "id": "CQ_U7CXaM4Iu"
   },
   "source": [
    "## Train Vanilla RNN"
   ]
  },
  {
   "cell_type": "code",
   "execution_count": 18,
   "metadata": {
    "executionInfo": {
     "elapsed": 1435,
     "status": "ok",
     "timestamp": 1619545117596,
     "user": {
      "displayName": "Marat Bekmyrza",
      "photoUrl": "https://lh3.googleusercontent.com/a-/AOh14Gib-0tD7WjH3aGtX_5Rj6vIsFhVEXlrGvZoOgMH=s64",
      "userId": "16583475954751235795"
     },
     "user_tz": -360
    },
    "id": "55DgftIiNA00"
   },
   "outputs": [],
   "source": [
    "### Train Vanilla RNN ###\n",
    "# Hyperparameters\n",
    "hidden_size = 64\n",
    "gradient_clip_norm = 1.0\n",
    "learning_rate = 0.01\n",
    "num_epochs = 30\n",
    "batch_size = 64\n",
    "num_exp = 2 # number of experiments"
   ]
  },
  {
   "cell_type": "code",
   "execution_count": 19,
   "metadata": {
    "colab": {
     "base_uri": "https://localhost:8080/",
     "height": 824
    },
    "executionInfo": {
     "elapsed": 753380,
     "status": "error",
     "timestamp": 1619545869764,
     "user": {
      "displayName": "Marat Bekmyrza",
      "photoUrl": "https://lh3.googleusercontent.com/a-/AOh14Gib-0tD7WjH3aGtX_5Rj6vIsFhVEXlrGvZoOgMH=s64",
      "userId": "16583475954751235795"
     },
     "user_tz": -360
    },
    "id": "d38wpH73-wzL",
    "outputId": "96f4b179-c741-4430-d8e2-568bc849b103"
   },
   "outputs": [
    {
     "name": "stdout",
     "output_type": "stream",
     "text": [
      "RNN Experiment: 0; seq_len: 5\n",
      "Epoch 0, training loss: [14.72228218], validation loss: [14.27087866]\n",
      "Epoch 10, training loss: [11.92575116], validation loss: [11.97578592]\n",
      "Epoch 20, training loss: [14.1912248], validation loss: [14.19690433]\n",
      "Test loss:  [14.0552346]\n",
      "Test acc:  0.19250000000000003\n",
      "RNN Experiment: 1; seq_len: 5\n",
      "Epoch 0, training loss: [14.76695949], validation loss: [14.26304455]\n",
      "Epoch 10, training loss: [13.77750741], validation loss: [13.82448307]\n"
     ]
    },
    {
     "ename": "KeyboardInterrupt",
     "evalue": "ignored",
     "output_type": "error",
     "traceback": [
      "\u001b[0;31m---------------------------------------------------------------------------\u001b[0m",
      "\u001b[0;31mKeyboardInterrupt\u001b[0m                         Traceback (most recent call last)",
      "\u001b[0;32m<ipython-input-19-14a040d2b697>\u001b[0m in \u001b[0;36m<module>\u001b[0;34m()\u001b[0m\n\u001b[1;32m     20\u001b[0m                                                 \u001b[0mhidden_state\u001b[0m\u001b[0;34m=\u001b[0m\u001b[0mhidden_state\u001b[0m\u001b[0;34m,\u001b[0m \u001b[0mnum_epochs\u001b[0m\u001b[0;34m=\u001b[0m\u001b[0mnum_epochs\u001b[0m\u001b[0;34m,\u001b[0m\u001b[0;34m\u001b[0m\u001b[0;34m\u001b[0m\u001b[0m\n\u001b[1;32m     21\u001b[0m                                                 \u001b[0mlr\u001b[0m\u001b[0;34m=\u001b[0m\u001b[0mlearning_rate\u001b[0m\u001b[0;34m,\u001b[0m \u001b[0mclip_norm\u001b[0m\u001b[0;34m=\u001b[0m\u001b[0mgradient_clip_norm\u001b[0m\u001b[0;34m,\u001b[0m\u001b[0;34m\u001b[0m\u001b[0;34m\u001b[0m\u001b[0m\n\u001b[0;32m---> 22\u001b[0;31m                                                 train_steps=train_steps, val_steps=val_steps)\n\u001b[0m\u001b[1;32m     23\u001b[0m         \u001b[0mtest_loss\u001b[0m\u001b[0;34m,\u001b[0m \u001b[0mtest_acc\u001b[0m \u001b[0;34m=\u001b[0m \u001b[0mrnn_model\u001b[0m\u001b[0;34m.\u001b[0m\u001b[0mtest\u001b[0m\u001b[0;34m(\u001b[0m\u001b[0mtest_set\u001b[0m\u001b[0;34m=\u001b[0m\u001b[0mtest_gen\u001b[0m\u001b[0;34m,\u001b[0m \u001b[0mhidden_state\u001b[0m\u001b[0;34m=\u001b[0m\u001b[0mhidden_state\u001b[0m\u001b[0;34m,\u001b[0m \u001b[0mtest_steps\u001b[0m\u001b[0;34m=\u001b[0m\u001b[0mtest_steps\u001b[0m\u001b[0;34m)\u001b[0m\u001b[0;34m\u001b[0m\u001b[0;34m\u001b[0m\u001b[0m\n\u001b[1;32m     24\u001b[0m         \u001b[0mtest_loss_results\u001b[0m\u001b[0;34m.\u001b[0m\u001b[0mappend\u001b[0m\u001b[0;34m(\u001b[0m\u001b[0mtest_loss\u001b[0m\u001b[0;34m)\u001b[0m\u001b[0;34m\u001b[0m\u001b[0;34m\u001b[0m\u001b[0m\n",
      "\u001b[0;32m<ipython-input-15-9ac446475ea0>\u001b[0m in \u001b[0;36mtrain\u001b[0;34m(self, train_set, valid_set, hidden_state, num_epochs, lr, clip_norm, train_steps, val_steps)\u001b[0m\n\u001b[1;32m     60\u001b[0m                 \u001b[0minputs\u001b[0m\u001b[0;34m,\u001b[0m \u001b[0mtargets\u001b[0m \u001b[0;34m=\u001b[0m \u001b[0mnext\u001b[0m\u001b[0;34m(\u001b[0m\u001b[0mtrain_set\u001b[0m\u001b[0;34m)\u001b[0m\u001b[0;34m\u001b[0m\u001b[0;34m\u001b[0m\u001b[0m\n\u001b[1;32m     61\u001b[0m                 \u001b[0moutputs\u001b[0m\u001b[0;34m,\u001b[0m \u001b[0mhidden_states\u001b[0m \u001b[0;34m=\u001b[0m \u001b[0mself\u001b[0m\u001b[0;34m.\u001b[0m\u001b[0mforward\u001b[0m\u001b[0;34m(\u001b[0m\u001b[0minputs\u001b[0m\u001b[0;34m,\u001b[0m \u001b[0mhidden_state\u001b[0m\u001b[0;34m)\u001b[0m\u001b[0;34m\u001b[0m\u001b[0;34m\u001b[0m\u001b[0m\n\u001b[0;32m---> 62\u001b[0;31m                 \u001b[0mloss\u001b[0m\u001b[0;34m,\u001b[0m \u001b[0mgrads\u001b[0m \u001b[0;34m=\u001b[0m \u001b[0mself\u001b[0m\u001b[0;34m.\u001b[0m\u001b[0mbackward\u001b[0m\u001b[0;34m(\u001b[0m\u001b[0minputs\u001b[0m\u001b[0;34m,\u001b[0m \u001b[0moutputs\u001b[0m\u001b[0;34m,\u001b[0m \u001b[0mhidden_states\u001b[0m\u001b[0;34m,\u001b[0m \u001b[0mtargets\u001b[0m\u001b[0;34m,\u001b[0m \u001b[0mclip_norm\u001b[0m\u001b[0;34m)\u001b[0m\u001b[0;34m\u001b[0m\u001b[0;34m\u001b[0m\u001b[0m\n\u001b[0m\u001b[1;32m     63\u001b[0m                 \u001b[0mself\u001b[0m\u001b[0;34m.\u001b[0m\u001b[0mparams\u001b[0m \u001b[0;34m=\u001b[0m \u001b[0mupdate_parameters\u001b[0m\u001b[0;34m(\u001b[0m\u001b[0mself\u001b[0m\u001b[0;34m.\u001b[0m\u001b[0mparams\u001b[0m\u001b[0;34m,\u001b[0m \u001b[0mgrads\u001b[0m\u001b[0;34m,\u001b[0m \u001b[0mlr\u001b[0m\u001b[0;34m)\u001b[0m\u001b[0;34m\u001b[0m\u001b[0;34m\u001b[0m\u001b[0m\n\u001b[1;32m     64\u001b[0m                 \u001b[0mepoch_training_loss\u001b[0m \u001b[0;34m+=\u001b[0m \u001b[0mloss\u001b[0m\u001b[0;34m\u001b[0m\u001b[0;34m\u001b[0m\u001b[0m\n",
      "\u001b[0;32m<ipython-input-15-9ac446475ea0>\u001b[0m in \u001b[0;36mbackward\u001b[0;34m(self, inputs, outputs, hidden_states, targets, clip_norm)\u001b[0m\n\u001b[1;32m     36\u001b[0m                 \u001b[0mdo\u001b[0m \u001b[0;34m=\u001b[0m \u001b[0mnp\u001b[0m\u001b[0;34m.\u001b[0m\u001b[0mcopy\u001b[0m\u001b[0;34m(\u001b[0m\u001b[0moutputs\u001b[0m\u001b[0;34m[\u001b[0m\u001b[0mn\u001b[0m\u001b[0;34m]\u001b[0m\u001b[0;34m[\u001b[0m\u001b[0mt\u001b[0m\u001b[0;34m]\u001b[0m\u001b[0;34m)\u001b[0m\u001b[0;34m\u001b[0m\u001b[0;34m\u001b[0m\u001b[0m\n\u001b[1;32m     37\u001b[0m                 \u001b[0mdo\u001b[0m\u001b[0;34m[\u001b[0m\u001b[0mnp\u001b[0m\u001b[0;34m.\u001b[0m\u001b[0margmax\u001b[0m\u001b[0;34m(\u001b[0m\u001b[0mtargets\u001b[0m\u001b[0;34m[\u001b[0m\u001b[0mn\u001b[0m\u001b[0;34m]\u001b[0m\u001b[0;34m[\u001b[0m\u001b[0mt\u001b[0m\u001b[0;34m]\u001b[0m\u001b[0;34m)\u001b[0m\u001b[0;34m]\u001b[0m \u001b[0;34m-=\u001b[0m \u001b[0;36m1\u001b[0m\u001b[0;34m\u001b[0m\u001b[0;34m\u001b[0m\u001b[0m\n\u001b[0;32m---> 38\u001b[0;31m                 \u001b[0mdW\u001b[0m \u001b[0;34m+=\u001b[0m \u001b[0mnp\u001b[0m\u001b[0;34m.\u001b[0m\u001b[0mdot\u001b[0m\u001b[0;34m(\u001b[0m\u001b[0mdo\u001b[0m\u001b[0;34m,\u001b[0m \u001b[0mhidden_states\u001b[0m\u001b[0;34m[\u001b[0m\u001b[0mn\u001b[0m\u001b[0;34m]\u001b[0m\u001b[0;34m[\u001b[0m\u001b[0mt\u001b[0m\u001b[0;34m]\u001b[0m\u001b[0;34m.\u001b[0m\u001b[0mT\u001b[0m\u001b[0;34m)\u001b[0m\u001b[0;34m\u001b[0m\u001b[0;34m\u001b[0m\u001b[0m\n\u001b[0m\u001b[1;32m     39\u001b[0m                 \u001b[0mdb_out\u001b[0m \u001b[0;34m+=\u001b[0m \u001b[0mdo\u001b[0m\u001b[0;34m\u001b[0m\u001b[0;34m\u001b[0m\u001b[0m\n\u001b[1;32m     40\u001b[0m                 \u001b[0mdh\u001b[0m \u001b[0;34m=\u001b[0m \u001b[0mnp\u001b[0m\u001b[0;34m.\u001b[0m\u001b[0mdot\u001b[0m\u001b[0;34m(\u001b[0m\u001b[0mW\u001b[0m\u001b[0;34m.\u001b[0m\u001b[0mT\u001b[0m\u001b[0;34m,\u001b[0m \u001b[0mdo\u001b[0m\u001b[0;34m)\u001b[0m \u001b[0;34m+\u001b[0m \u001b[0mdh_next\u001b[0m\u001b[0;34m\u001b[0m\u001b[0;34m\u001b[0m\u001b[0m\n",
      "\u001b[0;32m<__array_function__ internals>\u001b[0m in \u001b[0;36mdot\u001b[0;34m(*args, **kwargs)\u001b[0m\n",
      "\u001b[0;31mKeyboardInterrupt\u001b[0m: "
     ]
    },
    {
     "data": {
      "image/png": "[encoded data removed]",
      "text/plain": [
       "<Figure size 432x288 with 1 Axes>"
      ]
     },
     "metadata": {
      "needs_background": "light",
      "tags": []
     },
     "output_type": "display_data"
    }
   ],
   "source": [
    "seq_lens = [5, 10, 100]\n",
    "rnn_test_results = {}\n",
    "\n",
    "for seq_len in seq_lens:\n",
    "    train_gen = data_generator(train_data, vocab_size, seq_len, batch_size)\n",
    "    test_gen = data_generator(test_data, vocab_size, seq_len, batch_size)\n",
    "    val_gen =  data_generator(valid_data, vocab_size, seq_len, batch_size)\n",
    "\n",
    "    train_steps = len(train_data)//((seq_len+1)*batch_size)\n",
    "    test_steps = len(test_data)//((seq_len+1)*batch_size)\n",
    "    val_steps = len(valid_data)//((seq_len+1)*batch_size)\n",
    "\n",
    "    rnn_test_results[seq_len] = {}\n",
    "    test_loss_results, test_acc_results = [], []\n",
    "    for n in range(num_exp):\n",
    "        print(f'RNN Experiment: {n}; seq_len: {seq_len}')\n",
    "        rnn_model = RNN(hidden_size=hidden_size, input_size=vocab_size, out_size=vocab_size)\n",
    "        hidden_state = np.zeros((hidden_size, 1))  # Initial hidden_state\n",
    "        train_loss, valid_loss = rnn_model.train(train_set=train_gen, valid_set=val_gen, \n",
    "                                                hidden_state=hidden_state, num_epochs=num_epochs, \n",
    "                                                lr=learning_rate, clip_norm=gradient_clip_norm, \n",
    "                                                train_steps=train_steps, val_steps=val_steps)\n",
    "        test_loss, test_acc = rnn_model.test(test_set=test_gen, hidden_state=hidden_state, test_steps=test_steps)\n",
    "        test_loss_results.append(test_loss)\n",
    "        test_acc_results.append(test_acc)\n",
    "        # Plot training and validation loss\n",
    "        epoch = np.arange(len(train_loss))\n",
    "        plt.figure()\n",
    "        plt.plot(epoch, train_loss, 'r', label='Training loss',)\n",
    "        plt.plot(epoch, valid_loss, 'b', label='Validation loss')\n",
    "        plt.legend()\n",
    "        plt.xlabel('Epoch'), plt.ylabel('Loss')\n",
    "        plt.savefig(f'char_{seq_len}_exp_{n}_rnn.png')\n",
    "    \n",
    "    print(f'Average char test loss: seq_len: {seq_len}, {np.average(test_loss_results)}')\n",
    "    print(f'Average char test acc: seq_len: {seq_len}, {np.average(test_acc_results)}')\n",
    "    rnn_test_results[seq_len]['loss'] = np.average(test_loss_results)\n",
    "    rnn_test_results[seq_len]['acc'] = np.average(test_acc_results)\n",
    "    rnn_test_results[seq_len]['all_loss'] = test_loss_results.copy()\n",
    "    rnn_test_results[seq_len]['all_acc'] = test_acc_results.copy()"
   ]
  },
  {
   "cell_type": "markdown",
   "metadata": {
    "id": "G2A5-p3-Tx2I"
   },
   "source": [
    "# **HORNN**"
   ]
  },
  {
   "cell_type": "code",
   "execution_count": null,
   "metadata": {
    "id": "5FLAQfGWTZhm"
   },
   "outputs": [],
   "source": [
    "class HORNN():\n",
    "    def __init__(self, hidden_size, input_size, out_size, order):\n",
    "        self.order = order\n",
    "        V = {}\n",
    "        for i in range(self.order):\n",
    "            V[-i-1] = np.random.randn(hidden_size, hidden_size)*0.1 # W_hh\n",
    "        U = np.random.randn(hidden_size, input_size)*0.1            # W_hx\n",
    "        W = np.random.randn(out_size, hidden_size)*0.1              # W_hy\n",
    "        b_hidden = np.zeros((hidden_size, 1))                        # b_h\n",
    "        b_out = np.zeros((out_size, 1))                              # b_y\n",
    "        self.params = [V, U, W, b_hidden, b_out]\n",
    "        self.best = [V, U, W, b_hidden, b_out]\n",
    "    \n",
    "    def forward(self, inputs, hidden_state, best=False):\n",
    "        if best: \n",
    "            V, U, W, b_hidden, b_out = self.best    \n",
    "        else: \n",
    "            V, U, W, b_hidden, b_out = self.params\n",
    "        outputs, hidden_states = {}, {}\n",
    "        for n in range(len(inputs)):\n",
    "            outputs[n], hidden_states[n] = {}, {}\n",
    "            for i in range(self.order): # for the history window\n",
    "                hidden_states[n][-i-1] = np.copy(hidden_state)\n",
    "            for t in range(len(inputs[n])):\n",
    "                s = np.zeros_like(hidden_state)\n",
    "                for i in range(self.order): # order = 3: -1, -2, -3; \n",
    "                    s += np.dot(V[-i-1], hidden_states[n][t-i-1])\n",
    "                hidden_states[n][t] = np.tanh(np.dot(U, inputs[n][t]) + s + b_hidden)\n",
    "                outputs[n][t] = softmax(np.copy(np.dot(W, hidden_states[n][t]) + b_out))\n",
    "        return outputs, hidden_states\n",
    "\n",
    "    def backward(self, inputs, outputs, hidden_states, targets, clip_norm):\n",
    "        V, U, W, b_hidden, b_out = self.params\n",
    "        dV = {}\n",
    "        for i in range(self.order):\n",
    "            dV[-i-1] = np.zeros_like(V[-i-1])\n",
    "        dU, dW = np.zeros_like(U), np.zeros_like(W)\n",
    "        db_hidden, db_out = np.zeros_like(b_hidden), np.zeros_like(b_out)\n",
    "\n",
    "        loss = 0.0\n",
    "        N, T = len(inputs), len(inputs[0])\n",
    "        for n in range(N):\n",
    "            arrayOfM, arrayOfs = {}, {}\n",
    "            for i in range(self.order):\n",
    "                arrayOfM[i], arrayOfs[i] = 0.0, 0.0\n",
    "            for t in reversed(range(len(inputs[n]))):\n",
    "                loss += -np.log(outputs[n][t][np.argmax(targets[n][t])])\n",
    "                do = np.copy(outputs[n][t])\n",
    "                do[np.argmax(targets[n][t])] -= 1\n",
    "                dW += np.dot(do, hidden_states[n][t].T)\n",
    "                db_out += do\n",
    "                # HORNN update\n",
    "                #########################\n",
    "                M = arrayOfM[0]\n",
    "                for i in range(self.order-1):\n",
    "                    M = M * arrayOfs[i] + arrayOfM[i+1]\n",
    "                \n",
    "                l = np.dot(W.T, do)\n",
    "                M = M * arrayOfs[self.order-1] + l\n",
    "\n",
    "                for i in range(self.order-1):\n",
    "                    arrayOfM[i] = arrayOfM[i+1]\n",
    "                arrayOfM[self.order-1] = M\n",
    "\n",
    "                df = (1 - hidden_states[n][t] * hidden_states[n][t])\n",
    "                r = df * M\n",
    "                for i in range(self.order):\n",
    "                    dV[-i-1] += np.dot(r, hidden_states[n][t-i-1].T)\n",
    "                db_hidden += r\n",
    "                dU += np.dot(r, inputs[n][t].T)\n",
    "\n",
    "                for i in range(self.order-1):                   \n",
    "                    arrayOfs[i] = arrayOfs[i+1] \n",
    "                arrayOfs[self.order-1] = np.dot(V[-1].T, df)\n",
    "                #########################\n",
    "        loss /= N\n",
    "        for i in range(self.order):\n",
    "            dV[-i-1] /= N\n",
    "        dU, dW, db_hidden, db_out = dU/N, dW/N, db_hidden/N, db_out/N\n",
    "        grads = [dV, dU, dW, db_hidden, db_out]\n",
    "        grads = gradient_clip(grads, clip_norm, self.order)\n",
    "        return loss, grads\n",
    "    \n",
    "    def train(self, train_set, valid_set, hidden_state, num_epochs, lr, clip_norm, train_steps=100, val_steps=100):\n",
    "        training_loss, validation_loss = [], []\n",
    "        for epoch in range(num_epochs):\n",
    "            epoch_training_loss = 0.0\n",
    "            epoch_validation_loss = 0.0\n",
    "            min_valid_loss = 1e6\n",
    "\n",
    "            for train_step in range(train_steps):\n",
    "                inputs, targets = next(train_set)\n",
    "                outputs, hidden_states = self.forward(inputs, hidden_state)\n",
    "                loss, grads = self.backward(inputs, outputs, hidden_states, targets, clip_norm)\n",
    "                self.params = update_parameters(self.params, grads, lr, self.order)\n",
    "                epoch_training_loss += loss\n",
    "\n",
    "            for val_step in range(val_steps):\n",
    "                inputs, targets = next(valid_set)\n",
    "                outputs, _ = self.forward(inputs, hidden_state)\n",
    "                loss = find_loss(outputs, targets)\n",
    "                if loss < min_valid_loss:\n",
    "                    self.best = self.params.copy()\n",
    "                epoch_validation_loss += loss\n",
    "                    \n",
    "            training_loss.append(epoch_training_loss/train_steps)\n",
    "            validation_loss.append(epoch_validation_loss/val_steps)\n",
    "\n",
    "            if epoch % 10 == 0:\n",
    "                print(f'Epoch {epoch}, training loss: {training_loss[-1]}, validation loss: {validation_loss[-1]}')\n",
    "        return training_loss, validation_loss\n",
    "\n",
    "    def test(self, test_set, hidden_state, test_steps=100):\n",
    "        test_loss, test_acc = 0.0, 0.0\n",
    "        for test_step in range(test_steps):\n",
    "            inputs, targets = next(test_set)\n",
    "            outputs, _ = self.forward(inputs, hidden_state, best=True)\n",
    "            test_loss += find_loss(outputs, targets)\n",
    "            test_acc += find_acc(outputs, targets)\n",
    "        test_loss /= test_steps\n",
    "        test_acc /= test_steps\n",
    "        print(\"Test loss: \", test_loss)\n",
    "        print(\"Test acc: \", test_acc)\n",
    "        return test_loss, test_acc"
   ]
  },
  {
   "cell_type": "markdown",
   "metadata": {
    "id": "bQUoH4p9S8vN"
   },
   "source": [
    "## Train HORNN"
   ]
  },
  {
   "cell_type": "code",
   "execution_count": null,
   "metadata": {
    "id": "vLMwg5tLS8RL"
   },
   "outputs": [],
   "source": [
    "### Train HORNN ###\n",
    "# Hyperparameters\n",
    "hidden_size = 16\n",
    "gradient_clip_norm = 0.1\n",
    "learning_rate = 0.1\n",
    "num_epochs = 50\n",
    "num_exp = 3\n",
    "batch_size = 64\n",
    "orders = [5]\n",
    "seq_lens = [100]"
   ]
  },
  {
   "cell_type": "code",
   "execution_count": null,
   "metadata": {
    "colab": {
     "base_uri": "https://localhost:8080/",
     "height": 1000
    },
    "executionInfo": {
     "elapsed": 3975322,
     "status": "ok",
     "timestamp": 1619529721846,
     "user": {
      "displayName": "Marat Bekmyrza",
      "photoUrl": "https://lh3.googleusercontent.com/a-/AOh14Gib-0tD7WjH3aGtX_5Rj6vIsFhVEXlrGvZoOgMH=s64",
      "userId": "16583475954751235795"
     },
     "user_tz": -360
    },
    "id": "wM3-0UMC30bR",
    "outputId": "2c0ad87b-b87e-4339-e111-a84215c12386"
   },
   "outputs": [
    {
     "name": "stdout",
     "output_type": "stream",
     "text": [
      "HORNN 5 Experiment: 0; seq_len: 100\n",
      "Epoch 0, training loss: [306.47235855], validation loss: [291.61451421]\n",
      "Epoch 10, training loss: [271.07648473], validation loss: [270.4638058]\n",
      "Epoch 20, training loss: [255.98504457], validation loss: [255.94218309]\n",
      "Epoch 30, training loss: [248.56198264], validation loss: [248.62106754]\n",
      "Epoch 40, training loss: [255.87429775], validation loss: [259.05118467]\n",
      "Test loss:  [247.39746792]\n",
      "Test acc:  0.28973958333333333\n",
      "HORNN 5 Experiment: 1; seq_len: 100\n",
      "Epoch 0, training loss: [312.86853412], validation loss: [294.00125589]\n",
      "Epoch 10, training loss: [269.82619669], validation loss: [269.44602944]\n",
      "Epoch 20, training loss: [256.63048877], validation loss: [256.58482919]\n",
      "Epoch 30, training loss: [248.05661091], validation loss: [248.91181699]\n",
      "Epoch 40, training loss: [243.60464683], validation loss: [244.3215981]\n",
      "Test loss:  [239.99378579]\n",
      "Test acc:  0.29541666666666666\n",
      "HORNN 5 Experiment: 2; seq_len: 100\n",
      "Epoch 0, training loss: [313.39408984], validation loss: [293.94862218]\n",
      "Epoch 10, training loss: [269.63056971], validation loss: [268.98550194]\n",
      "Epoch 20, training loss: [255.93607549], validation loss: [255.36905923]\n",
      "Epoch 30, training loss: [249.23600418], validation loss: [249.21334053]\n",
      "Epoch 40, training loss: [245.62945735], validation loss: [245.79469378]\n",
      "Test loss:  [241.77103268]\n",
      "Test acc:  0.29229166666666667\n",
      "Seq_len: 100; HORNN-5 average char test loss: 243.0540954649241\n",
      "Seq_len: 100; HORNN-5 average char test acc: 0.29248263888888887\n"
     ]
    },
    {
     "data": {
      "image/png": "[encoded data removed]",
      "text/plain": [
       "<Figure size 432x288 with 1 Axes>"
      ]
     },
     "metadata": {
      "needs_background": "light",
      "tags": []
     },
     "output_type": "display_data"
    },
    {
     "data": {
      "image/png": "[encoded data removed]",
      "text/plain": [
       "<Figure size 432x288 with 1 Axes>"
      ]
     },
     "metadata": {
      "needs_background": "light",
      "tags": []
     },
     "output_type": "display_data"
    },
    {
     "data": {
      "image/png": "[encoded data removed]",
      "text/plain": [
       "<Figure size 432x288 with 1 Axes>"
      ]
     },
     "metadata": {
      "needs_background": "light",
      "tags": []
     },
     "output_type": "display_data"
    }
   ],
   "source": [
    "hornn_test_results = {}\n",
    "for seq_len in seq_lens:\n",
    "    train_gen = data_generator(train_data, vocab_size, seq_len, batch_size)\n",
    "    test_gen = data_generator(test_data, vocab_size, seq_len, batch_size)\n",
    "    val_gen =  data_generator(valid_data, vocab_size, seq_len, batch_size)\n",
    "\n",
    "    train_steps = len(train_data)//((seq_len+1)*batch_size)\n",
    "    test_steps = len(test_data)//((seq_len+1)*batch_size)\n",
    "    val_steps = len(valid_data)//((seq_len+1)*batch_size)\n",
    "\n",
    "    hornn_test_results[seq_len] = {}\n",
    "    for order in orders:\n",
    "        hornn_test_results[seq_len][order] = {}\n",
    "        test_loss_results, test_acc_results = [], []\n",
    "        for n in range(num_exp):\n",
    "            print(f'HORNN {order} Experiment: {n}; seq_len: {seq_len}')\n",
    "            hornn_model = HORNN(hidden_size, input_size=vocab_size, out_size=vocab_size, order=order)\n",
    "            hidden_state = np.zeros((hidden_size, 1))  # Initial hidden_state\n",
    "            hornn_train_loss, hornn_valid_loss = hornn_model.train(train_set=train_gen, valid_set=val_gen, \n",
    "                                                    hidden_state=hidden_state, num_epochs=num_epochs, \n",
    "                                                    lr=learning_rate, clip_norm=gradient_clip_norm, \n",
    "                                                    train_steps=train_steps, val_steps=val_steps)\n",
    "            hornn_test_loss, hornn_test_acc = hornn_model.test(test_set=test_gen, hidden_state=hidden_state, test_steps=test_steps)\n",
    "            test_loss_results.append(hornn_test_loss)\n",
    "            test_acc_results.append(hornn_test_acc)\n",
    "            # Plot training and validation loss\n",
    "            epoch = np.arange(len(hornn_train_loss))\n",
    "            plt.figure()\n",
    "            plt.plot(epoch, hornn_train_loss, 'r', label='Training loss',)\n",
    "            plt.plot(epoch, hornn_valid_loss, 'b', label='Validation loss')\n",
    "            plt.legend()\n",
    "            plt.xlabel('Epoch'), plt.ylabel('Loss')\n",
    "            plt.savefig(f'char_{seq_len}__hornn{order}_exp_{n}.png')\n",
    "        \n",
    "        print(f'Seq_len: {seq_len}; HORNN-{order} average char test loss: {np.average(test_loss_results)}')\n",
    "        print(f'Seq_len: {seq_len}; HORNN-{order} average char test acc: {np.average(test_acc_results)}')\n",
    "        hornn_test_results[seq_len][order]['loss'] = np.average(test_loss_results)\n",
    "        hornn_test_results[seq_len][order]['acc'] = np.average(test_acc_results)\n",
    "        hornn_test_results[seq_len][order]['all_loss'] = test_loss_results.copy()\n",
    "        hornn_test_results[seq_len][order]['all_acc'] = test_acc_results.copy()"
   ]
  },
  {
   "cell_type": "code",
   "execution_count": null,
   "metadata": {
    "id": "4KcU92giZNof"
   },
   "outputs": [],
   "source": []
  }
 ],
 "metadata": {
  "colab": {
   "authorship_tag": "ABX9TyO0ht/dtaThdLkiJru1b2GL",
   "collapsed_sections": [
    "QZ-yEkskUZMV",
    "C_qLZ9HetCrt",
    "ljhvNakDw2rL"
   ],
   "name": "character.ipynb",
   "provenance": [],
   "toc_visible": true
  },
  "kernelspec": {
   "display_name": "Python 3",
   "language": "python",
   "name": "python3"
  },
  "language_info": {
   "codemirror_mode": {
    "name": "ipython",
    "version": 3
   },
   "file_extension": ".py",
   "mimetype": "text/x-python",
   "name": "python",
   "nbconvert_exporter": "python",
   "pygments_lexer": "ipython3",
   "version": "3.7.2"
  }
 },
 "nbformat": 4,
 "nbformat_minor": 1
}
