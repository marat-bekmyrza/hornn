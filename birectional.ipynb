{
 "cells": [
  {
   "cell_type": "markdown",
   "metadata": {
    "id": "QZ-yEkskUZMV"
   },
   "source": [
    "# **Imports**"
   ]
  },
  {
   "cell_type": "code",
   "execution_count": 4,
   "metadata": {
    "executionInfo": {
     "elapsed": 1215,
     "status": "ok",
     "timestamp": 1619545471107,
     "user": {
      "displayName": "Marat Bekmyrza",
      "photoUrl": "https://lh3.googleusercontent.com/a-/AOh14Gib-0tD7WjH3aGtX_5Rj6vIsFhVEXlrGvZoOgMH=s64",
      "userId": "16583475954751235795"
     },
     "user_tz": -360
    },
    "id": "HSp5JhAZsfcl"
   },
   "outputs": [],
   "source": [
    "import re\n",
    "import numpy as np\n",
    "from matplotlib import pyplot as plt"
   ]
  },
  {
   "cell_type": "markdown",
   "metadata": {
    "id": "C_qLZ9HetCrt"
   },
   "source": [
    "# **Data Processing**"
   ]
  },
  {
   "cell_type": "code",
   "execution_count": 5,
   "metadata": {
    "executionInfo": {
     "elapsed": 3464,
     "status": "ok",
     "timestamp": 1619545498186,
     "user": {
      "displayName": "Marat Bekmyrza",
      "photoUrl": "https://lh3.googleusercontent.com/a-/AOh14Gib-0tD7WjH3aGtX_5Rj6vIsFhVEXlrGvZoOgMH=s64",
      "userId": "16583475954751235795"
     },
     "user_tz": -360
    },
    "id": "Dbj0235OtH8Y"
   },
   "outputs": [],
   "source": [
    "# loading dataset\n",
    "train_data = open('data/character/train.txt', 'r').read()\n",
    "test_data = open('data/character/test.txt', 'r').read()\n",
    "valid_data = open('data/character/valid.txt', 'r').read()"
   ]
  },
  {
   "cell_type": "code",
   "execution_count": 6,
   "metadata": {
    "executionInfo": {
     "elapsed": 3462,
     "status": "ok",
     "timestamp": 1619545498187,
     "user": {
      "displayName": "Marat Bekmyrza",
      "photoUrl": "https://lh3.googleusercontent.com/a-/AOh14Gib-0tD7WjH3aGtX_5Rj6vIsFhVEXlrGvZoOgMH=s64",
      "userId": "16583475954751235795"
     },
     "user_tz": -360
    },
    "id": "WCxR-zGwtQfv"
   },
   "outputs": [],
   "source": [
    "# clean data by removing unnecessary substrings\n",
    "def clean_data(datax):\n",
    "  datax = datax.replace('< u n k >', '').replace('\\n', '_').replace(' ', '')\n",
    "  datax = re.sub(r'[^a-z_]', '', datax)\n",
    "  datax = re.sub('_{2,}', '_', datax)\n",
    "  return datax\n",
    "\n",
    "train_data = clean_data(train_data)\n",
    "test_data = clean_data(test_data)\n",
    "valid_data = clean_data(valid_data)"
   ]
  },
  {
   "cell_type": "code",
   "execution_count": 7,
   "metadata": {
    "colab": {
     "base_uri": "https://localhost:8080/"
    },
    "executionInfo": {
     "elapsed": 3452,
     "status": "ok",
     "timestamp": 1619545498188,
     "user": {
      "displayName": "Marat Bekmyrza",
      "photoUrl": "https://lh3.googleusercontent.com/a-/AOh14Gib-0tD7WjH3aGtX_5Rj6vIsFhVEXlrGvZoOgMH=s64",
      "userId": "16583475954751235795"
     },
     "user_tz": -360
    },
    "id": "e48AfubWtUXW",
    "outputId": "ad728c3f-e41a-43c6-dca5-243ec631a259"
   },
   "outputs": [
    {
     "name": "stdout",
     "output_type": "stream",
     "text": [
      "Number of unique characters is 27\n"
     ]
    }
   ],
   "source": [
    "vocab_chars = list(set(train_data))\n",
    "vocab_size = len(vocab_chars)\n",
    "char2idx = { ch:i for i,ch in enumerate(vocab_chars) }\n",
    "idx2char = { i:ch for i,ch in enumerate(vocab_chars) }\n",
    "print(f'Number of unique characters is {vocab_size}')"
   ]
  },
  {
   "cell_type": "code",
   "execution_count": 7,
   "metadata": {
    "executionInfo": {
     "elapsed": 3454,
     "status": "ok",
     "timestamp": 1619545498191,
     "user": {
      "displayName": "Marat Bekmyrza",
      "photoUrl": "https://lh3.googleusercontent.com/a-/AOh14Gib-0tD7WjH3aGtX_5Rj6vIsFhVEXlrGvZoOgMH=s64",
      "userId": "16583475954751235795"
     },
     "user_tz": -360
    },
    "id": "JFsSIk0Oyu4_"
   },
   "outputs": [],
   "source": [
    "def encode_sequence(sequence, inp_size):\n",
    "    seq_encoding = {}\n",
    "    for i in range(len(sequence)):\n",
    "        one_hot = np.zeros((inp_size,1))\n",
    "        one_hot[char2idx[sequence[i]]] = 1.0\n",
    "        seq_encoding[i] = one_hot\n",
    "    return seq_encoding"
   ]
  },
  {
   "cell_type": "code",
   "execution_count": 8,
   "metadata": {
    "executionInfo": {
     "elapsed": 3453,
     "status": "ok",
     "timestamp": 1619545498192,
     "user": {
      "displayName": "Marat Bekmyrza",
      "photoUrl": "https://lh3.googleusercontent.com/a-/AOh14Gib-0tD7WjH3aGtX_5Rj6vIsFhVEXlrGvZoOgMH=s64",
      "userId": "16583475954751235795"
     },
     "user_tz": -360
    },
    "id": "VB_2BXNV8kEd"
   },
   "outputs": [],
   "source": [
    "def data_generator(datax, inp_size=27, seq_len=100, batch_size=128):\n",
    "    \"\"\"\n",
    "    generates 1 batch of inputs\n",
    "    1 batch = 128 sequences\n",
    "    1 sequence = 50 time points / samples\n",
    "    1 sample = 27 feature values\n",
    "    inputs shape: (128, 50, 27) or (batch_size, seq_len, num_features)\n",
    "    targets shape: (128, 50, 27), 1 target value for each sample, many-to-many architecture\n",
    "    \"\"\"\n",
    "    inputs, targets = {}, {}\n",
    "    seq_len += 1 # because input = [0:seq_len-1), target = [1:seq_len)\n",
    "    start = 0 # where to start drawing inputs, incremented by batch size * seq_len\n",
    "    while True:\n",
    "        if start + batch_size * seq_len > len(datax):\n",
    "            start = 0\n",
    "        stop = start + batch_size * seq_len\n",
    "        indices = np.arange(start, stop, seq_len)\n",
    "        for i in range(len(indices)):\n",
    "            sequence = datax[indices[i]:indices[i]+seq_len]\n",
    "            inputs[i] = encode_sequence(sequence[:-1], inp_size)\n",
    "            targets[i] = encode_sequence(sequence[1:], inp_size)\n",
    "        start += batch_size * seq_len\n",
    "        yield inputs, targets"
   ]
  },
  {
   "cell_type": "code",
   "execution_count": 9,
   "metadata": {
    "executionInfo": {
     "elapsed": 4028,
     "status": "ok",
     "timestamp": 1619545498768,
     "user": {
      "displayName": "Marat Bekmyrza",
      "photoUrl": "https://lh3.googleusercontent.com/a-/AOh14Gib-0tD7WjH3aGtX_5Rj6vIsFhVEXlrGvZoOgMH=s64",
      "userId": "16583475954751235795"
     },
     "user_tz": -360
    },
    "id": "yGx62ebzNqLH"
   },
   "outputs": [],
   "source": [
    "# train_gen = data_generator(train_data, vocab_size, seq_len, batch_size)\n",
    "# test_gen = data_generator(test_data, vocab_size, seq_len, batch_size)\n",
    "# val_gen =  data_generator(valid_data, vocab_size, seq_len, batch_size)\n",
    "\n",
    "# train_steps = len(train_data)//((seq_len+1)*batch_size)\n",
    "# test_steps = len(test_data)//((seq_len+1)*batch_size)\n",
    "# val_steps = len(valid_data)//((seq_len+1)*batch_size)\n",
    "\n",
    "# print(f'Number of batches for train: {train_steps}')\n",
    "# print(f'Number of batches for test: {test_steps}')\n",
    "# print(f'Number of batches for validation: {val_steps}')"
   ]
  },
  {
   "cell_type": "markdown",
   "metadata": {
    "id": "ljhvNakDw2rL"
   },
   "source": [
    "# **Functions**"
   ]
  },
  {
   "cell_type": "code",
   "execution_count": 29,
   "metadata": {
    "executionInfo": {
     "elapsed": 1079,
     "status": "ok",
     "timestamp": 1619545822351,
     "user": {
      "displayName": "Marat Bekmyrza",
      "photoUrl": "https://lh3.googleusercontent.com/a-/AOh14Gib-0tD7WjH3aGtX_5Rj6vIsFhVEXlrGvZoOgMH=s64",
      "userId": "16583475954751235795"
     },
     "user_tz": -360
    },
    "id": "MQwoWcvzwUdd"
   },
   "outputs": [],
   "source": [
    "def softmax(x):\n",
    "    return np.exp(x) / np.sum(np.exp(x))"
   ]
  },
  {
   "cell_type": "code",
   "execution_count": 30,
   "metadata": {
    "executionInfo": {
     "elapsed": 1528,
     "status": "ok",
     "timestamp": 1619545822805,
     "user": {
      "displayName": "Marat Bekmyrza",
      "photoUrl": "https://lh3.googleusercontent.com/a-/AOh14Gib-0tD7WjH3aGtX_5Rj6vIsFhVEXlrGvZoOgMH=s64",
      "userId": "16583475954751235795"
     },
     "user_tz": -360
    },
    "id": "mE6xzHfCw0co"
   },
   "outputs": [],
   "source": [
    "def gradient_clip(grads, max_norm, order=1):\n",
    "    total_norm = 0.0\n",
    "    if order > 1:\n",
    "        for i in grads[0].keys():\n",
    "            total_norm += np.linalg.norm(grads[0][i])\n",
    "    else:\n",
    "        total_norm += np.linalg.norm(grads[0])\n",
    "    for i in range(1, len(grads[1:])):\n",
    "        total_norm += np.linalg.norm(grads[i])\n",
    "    \n",
    "    total_norm = np.sqrt(total_norm)\n",
    "    if total_norm > max_norm:\n",
    "        if order > 1:\n",
    "            for i in grads[0].keys():\n",
    "                grads[0][i] *= max_norm / total_norm\n",
    "        else:\n",
    "            grads[0] *= max_norm / total_norm\n",
    "        for i in range(1, len(grads[1:])):\n",
    "            grads[i] *= max_norm / total_norm\n",
    "    \"\"\"\n",
    "    # andrej\n",
    "    for i in range(len(grads)):\n",
    "        np.clip(grads[i], -5, 5, out=grads[i]) # clip to mitigate exploding gradients\n",
    "    \"\"\"\n",
    "    return grads"
   ]
  },
  {
   "cell_type": "code",
   "execution_count": 31,
   "metadata": {
    "executionInfo": {
     "elapsed": 1525,
     "status": "ok",
     "timestamp": 1619545822806,
     "user": {
      "displayName": "Marat Bekmyrza",
      "photoUrl": "https://lh3.googleusercontent.com/a-/AOh14Gib-0tD7WjH3aGtX_5Rj6vIsFhVEXlrGvZoOgMH=s64",
      "userId": "16583475954751235795"
     },
     "user_tz": -360
    },
    "id": "M46mvuZN35Ps"
   },
   "outputs": [],
   "source": [
    "def find_loss(outputs, targets):\n",
    "    loss = 0.0\n",
    "    for n in range(len(outputs)):\n",
    "        for t in range(len(outputs[n])):\n",
    "            loss += -np.log(outputs[n][t][np.argmax(targets[n][t])])\n",
    "    loss /= len(outputs)\n",
    "    return loss"
   ]
  },
  {
   "cell_type": "code",
   "execution_count": 32,
   "metadata": {
    "executionInfo": {
     "elapsed": 1524,
     "status": "ok",
     "timestamp": 1619545822808,
     "user": {
      "displayName": "Marat Bekmyrza",
      "photoUrl": "https://lh3.googleusercontent.com/a-/AOh14Gib-0tD7WjH3aGtX_5Rj6vIsFhVEXlrGvZoOgMH=s64",
      "userId": "16583475954751235795"
     },
     "user_tz": -360
    },
    "id": "PhIncIQrDKs_"
   },
   "outputs": [],
   "source": [
    "def find_acc(outputs, targets):\n",
    "    acc = 0.0\n",
    "    for n in range(len(outputs)):\n",
    "        for t in range(len(outputs[n])):\n",
    "            acc += np.argmax(targets[n][t]) == np.argmax(outputs[n][t])\n",
    "    acc /= len(outputs[0])\n",
    "    acc /= len(outputs)\n",
    "    return acc"
   ]
  },
  {
   "cell_type": "code",
   "execution_count": 33,
   "metadata": {
    "executionInfo": {
     "elapsed": 1520,
     "status": "ok",
     "timestamp": 1619545822808,
     "user": {
      "displayName": "Marat Bekmyrza",
      "photoUrl": "https://lh3.googleusercontent.com/a-/AOh14Gib-0tD7WjH3aGtX_5Rj6vIsFhVEXlrGvZoOgMH=s64",
      "userId": "16583475954751235795"
     },
     "user_tz": -360
    },
    "id": "cPOGKtpm3757"
   },
   "outputs": [],
   "source": [
    "def update_parameters(params, grads, lr, order=0):\n",
    "    if order > 1:\n",
    "        for i in grads[0].keys():\n",
    "            params[0][i] -= grads[0][i] * lr\n",
    "    else:\n",
    "        params[0] -= grads[0] * lr\n",
    "    for i in range(1, len(params[1:])):\n",
    "        params[i] -= grads[i] * lr\n",
    "    return params"
   ]
  },
  {
   "cell_type": "markdown",
   "metadata": {
    "id": "Nu3EhNJD4yaX"
   },
   "source": [
    "# **Bidirectional Vanilla RNN**"
   ]
  },
  {
   "cell_type": "code",
   "execution_count": null,
   "metadata": {
    "id": "rvpckTHO38z-"
   },
   "outputs": [],
   "source": [
    "class RNN():\n",
    "    def __init__(self, hidden_size, input_size, out_size):\n",
    "        Vf = np.random.randn(hidden_size, hidden_size)*0.1   # W_hh\n",
    "        Uf = np.random.randn(hidden_size, input_size)*0.1    # W_hx\n",
    "        b_hiddenf = np.zeros((hidden_size, 1))               # b_h\n",
    "        self.params_f = [Vf, Uf, b_hiddenf]\n",
    "        self.best_f = [Vf, Uf, b_hiddenf]\n",
    "\n",
    "        Vb = np.random.randn(hidden_size, hidden_size)*0.1   # W_hh\n",
    "        Ub = np.random.randn(hidden_size, input_size)*0.1    # W_hx\n",
    "        b_hiddenb = np.zeros((hidden_size, 1))               # b_h\n",
    "        self.params_b = [Vb, Ub, b_hiddenb]\n",
    "        self.best_b = [Vb, Ub, b_hiddenb]\n",
    "\n",
    "        Wf = np.random.randn(out_size, hidden_size)*0.1     # W_hy\n",
    "        Wb = np.random.randn(out_size, hidden_size)*0.1     # W_hy\n",
    "        b_out = np.zeros((out_size, 1))                     # b_y\n",
    "        self.params_y = [Wf, Wb, b_out]\n",
    "        self.best_y = [Wf, Wb, b_out]\n",
    "    \n",
    "    def forward(self, inputs, hidden_state, best=False):\n",
    "        if best: \n",
    "            Vf, Uf, b_hiddenf = self.best_f\n",
    "            Vb, Ub, b_hiddenb = self.best_b\n",
    "            Wf, Wb, b_out = self.best_y\n",
    "        else: \n",
    "            Vf, Uf, b_hiddenf = self.params_f\n",
    "            Vb, Ub, b_hiddenb = self.params_b\n",
    "            Wf, Wb, b_out = self.params_y\n",
    "        hidden_states_f, hidden_states_b = {}, {} # only for ht\n",
    "        N, T = len(inputs), len(inputs[0])\n",
    "        for n in range(N):\n",
    "            hidden_states_f[n], hidden_states_b[n] = {}, {}\n",
    "            hidden_states_f[n][-1], hidden_states_b[n][T] = np.copy(hidden_state), np.copy(hidden_state)\n",
    "            for t in range(T):  #[0, 1, 2, ..., T-1]\n",
    "                hidden_states_f[n][t] = np.tanh(np.dot(Uf, inputs[n][t]) + np.dot(Vf, hidden_states_f[n][t-1]) + b_hiddenf)\n",
    "                hidden_states_b[n][T-t-1] = np.tanh(np.dot(Ub, inputs[n][T-t-1]) + np.dot(Vb, hidden_states_b[n][T-t]) + b_hiddenb)\n",
    "        outputs = {} # yt\n",
    "        for n in range(N):\n",
    "            outputs[n] = {}\n",
    "            for t in range(T):\n",
    "                # output combines positive and reversed states\n",
    "                outputs[n][t] = softmax(np.copy(np.dot(Wf, hidden_states_f[n][t]) + np.dot(Wb, hidden_states_b[n][t]) + b_out))\n",
    "        return outputs, hidden_states_f, hidden_states_b\n",
    "\n",
    "    def backward(self, inputs, outputs, hidden_states_f, hidden_states_b, targets, clip_norm):\n",
    "        Vf, Uf, b_hiddenf = self.params_f\n",
    "        Vb, Ub, b_hiddenb = self.params_b\n",
    "        Wf, Wb, b_out = self.params_y\n",
    "        \n",
    "        dVf, dUf, db_hiddenf  = np.zeros_like(Vf), np.zeros_like(Uf), np.zeros_like(b_hiddenf)\n",
    "        dVb, dUb, db_hiddenb = np.zeros_like(Vb), np.zeros_like(Ub), np.zeros_like(b_hiddenb)\n",
    "        dWf, dWb, db_out = np.zeros_like(Wf), np.zeros_like(Wb), np.zeros_like(b_out)\n",
    "\n",
    "        loss = 0.0\n",
    "        N, T = len(inputs), len(inputs[0])\n",
    "        dh_next_f, dh_next_b = np.zeros_like(hidden_states_f[0][0]), np.zeros_like(hidden_states_b[0][0])\n",
    "        for n in range(N):\n",
    "            for t in reversed(range(T)): # [T-1, T-2, ..., 3, 2, 1, 0]\n",
    "                loss += -np.log(outputs[n][t][np.argmax(targets[n][t])])\n",
    "                \n",
    "                # positive\n",
    "                dof = np.copy(outputs[n][t])\n",
    "                dof[np.argmax(targets[n][t])] -= 1\n",
    "                dWf += np.dot(dof, hidden_states_f[n][t].T)\n",
    "                db_out += dof\n",
    "\n",
    "                dhf = np.dot(Wf.T, dof) + dh_next_f\n",
    "                dff = (1 - hidden_states_f[n][t] * hidden_states_f[n][t]) * dhf\n",
    "                db_hiddenf += dff\n",
    "                dUf += np.dot(dff, inputs[n][t].T)\n",
    "                dVf += np.dot(dff, hidden_states_f[n][t-1].T)\n",
    "                dh_nextf = np.dot(Vf.T, dff)\n",
    "                \n",
    "                # reversed\n",
    "                dob = np.copy(outputs[n][T-t-1])\n",
    "                dob[np.argmax(targets[n][T-t-1])] -= 1\n",
    "                dWb += np.dot(dob, hidden_states_b[n][T-t-1].T)\n",
    "\n",
    "                dhb = np.dot(Wb.T, dob) + dh_next_b\n",
    "                dfb = (1 - hidden_states_b[n][T-t-1] * hidden_states_b[n][T-t-1]) * dhb\n",
    "                db_hiddenb += dfb\n",
    "                dUb += np.dot(dfb, inputs[n][T-t-1].T)\n",
    "                dVb += np.dot(dfb, hidden_states_b[n][T-t].T)\n",
    "                dh_nextb = np.dot(Vb.T, dfb)\n",
    "        \n",
    "        loss /= N\n",
    "        dVf, dUf, db_hiddenf = dVf/N, dUf/N, db_hiddenf/N\n",
    "        dVb, dUb, db_hiddenb = dVb/N, dUb/N, db_hiddenb/N\n",
    "        dWf, dWb, db_out = dWf/N, dWb/N, db_out/N\n",
    "        \n",
    "        grads_f = [dVf, dUf, db_hiddenf]\n",
    "        grads_b = [dVb, dUb, db_hiddenb]\n",
    "        grads_y = [dWf, dWb, db_out]\n",
    "        grads_f = gradient_clip(grads_f, clip_norm)\n",
    "        grads_b = gradient_clip(grads_b, clip_norm)\n",
    "        grads_y = gradient_clip(grads_y, clip_norm)\n",
    "        return loss, grads_f, grads_b, grads_y\n",
    "\n",
    "    def train(self, train_set, valid_set, hidden_state, num_epochs, lr, clip_norm, train_steps=100, val_steps=100):\n",
    "        training_loss, validation_loss = [], []\n",
    "        for epoch in range(num_epochs):\n",
    "            epoch_training_loss = 0.0\n",
    "            epoch_validation_loss = 0.0\n",
    "            min_valid_loss = 1e6\n",
    "\n",
    "            for train_step in range(train_steps):\n",
    "                inputs, targets = next(train_set)\n",
    "                outputs, hidden_states_f, hidden_states_b = self.forward(inputs, hidden_state)\n",
    "                loss, grads_f, grads_b, grads_y = self.backward(inputs, outputs, hidden_states_f, hidden_states_b, targets, clip_norm)\n",
    "                self.params_f = update_parameters(self.params_f, grads_f, lr)\n",
    "                self.params_b = update_parameters(self.params_b, grads_b, lr)\n",
    "                self.params_y = update_parameters(self.params_y, grads_y, lr)\n",
    "                epoch_training_loss += loss\n",
    "\n",
    "            for val_step in range(val_steps):\n",
    "                inputs, targets = next(valid_set)\n",
    "                outputs, _, _ = self.forward(inputs, hidden_state)\n",
    "                loss = find_loss(outputs, targets)\n",
    "                if loss < min_valid_loss:\n",
    "                    self.best_f = self.params_f.copy()\n",
    "                    self.best_b = self.params_b.copy()\n",
    "                    self.best_y = self.params_y.copy()\n",
    "                    min_valid_loss = loss\n",
    "                epoch_validation_loss += loss\n",
    "                    \n",
    "            training_loss.append(epoch_training_loss/train_steps)\n",
    "            validation_loss.append(epoch_validation_loss/val_steps)\n",
    "\n",
    "            if epoch % 2 == 0:\n",
    "                print(f'Epoch {epoch}, training loss: {training_loss[-1]}, validation loss: {validation_loss[-1]}')\n",
    "        return training_loss, validation_loss\n",
    "\n",
    "    def test(self, test_set, hidden_state, test_steps=100):\n",
    "        test_loss, test_acc = 0.0, 0.0\n",
    "        for test_step in range(test_steps):\n",
    "            inputs, targets = next(test_set)\n",
    "            outputs, _, _ = self.forward(inputs, hidden_state, best=True)\n",
    "            test_loss += find_loss(outputs, targets)\n",
    "            test_acc += find_acc(outputs, targets)\n",
    "        test_loss /= test_steps\n",
    "        test_acc /= test_steps\n",
    "        print(\"Test loss: \", test_loss)\n",
    "        print(\"Test acc: \", test_acc)\n",
    "        return test_loss, test_acc"
   ]
  },
  {
   "cell_type": "markdown",
   "metadata": {
    "id": "CQ_U7CXaM4Iu"
   },
   "source": [
    "## Train Vanilla RNN"
   ]
  },
  {
   "cell_type": "code",
   "execution_count": null,
   "metadata": {
    "id": "55DgftIiNA00"
   },
   "outputs": [],
   "source": [
    "### Train Vanilla RNN ###\n",
    "# Hyperparameters\n",
    "hidden_size = 64\n",
    "gradient_clip_norm = 1.0\n",
    "learning_rate = 0.01\n",
    "num_epochs = 20\n",
    "batch_size = 64\n",
    "num_exp = 3 # number of experiments"
   ]
  },
  {
   "cell_type": "code",
   "execution_count": null,
   "metadata": {
    "colab": {
     "base_uri": "https://localhost:8080/"
    },
    "id": "d38wpH73-wzL",
    "outputId": "792bdcd0-b40a-4cf8-e864-b5d10a3db67d"
   },
   "outputs": [
    {
     "name": "stdout",
     "output_type": "stream",
     "text": [
      "RNN Experiment: 0; seq_len: 5\n",
      "Epoch 0, training loss: [12.26430427], validation loss: [8.54185206]\n",
      "Epoch 2, training loss: [4.97104339], validation loss: [4.50964231]\n",
      "Epoch 4, training loss: [3.65778064], validation loss: [3.52866282]\n",
      "Epoch 6, training loss: [3.14443067], validation loss: [3.09547475]\n",
      "Epoch 8, training loss: [2.89134517], validation loss: [2.87061597]\n",
      "Epoch 10, training loss: [2.74709268], validation loss: [2.73829247]\n",
      "Epoch 12, training loss: [2.65320803], validation loss: [2.65129187]\n",
      "Epoch 14, training loss: [2.58559588], validation loss: [2.58907793]\n",
      "Epoch 16, training loss: [2.53396189], validation loss: [2.54219429]\n",
      "Epoch 18, training loss: [2.49365967], validation loss: [2.5059103]\n",
      "Test loss:  [2.46119479]\n",
      "Test acc:  0.8551875\n",
      "RNN Experiment: 1; seq_len: 5\n",
      "Epoch 0, training loss: [12.17589418], validation loss: [8.31701981]\n",
      "Epoch 2, training loss: [4.93552012], validation loss: [4.50054955]\n"
     ]
    }
   ],
   "source": [
    "seq_lens = [5, 100]\n",
    "rnn_test_results = {}\n",
    "\n",
    "for seq_len in seq_lens:\n",
    "    train_gen = data_generator(train_data, vocab_size, seq_len, batch_size)\n",
    "    test_gen = data_generator(test_data, vocab_size, seq_len, batch_size)\n",
    "    val_gen =  data_generator(valid_data, vocab_size, seq_len, batch_size)\n",
    "\n",
    "    train_steps = len(train_data)//((seq_len+1)*batch_size)\n",
    "    test_steps = len(test_data)//((seq_len+1)*batch_size)\n",
    "    val_steps = len(valid_data)//((seq_len+1)*batch_size)\n",
    "\n",
    "    rnn_test_results[seq_len] = {}\n",
    "    test_loss_results, test_acc_results = [], []\n",
    "    for n in range(num_exp):\n",
    "        print(f'RNN Experiment: {n}; seq_len: {seq_len}')\n",
    "        rnn_model = RNN(hidden_size=hidden_size, input_size=vocab_size, out_size=vocab_size)\n",
    "        hidden_state = np.zeros((hidden_size, 1))  # Initial hidden_state\n",
    "        train_loss, valid_loss = rnn_model.train(train_set=train_gen, valid_set=val_gen, \n",
    "                                                hidden_state=hidden_state, num_epochs=num_epochs, \n",
    "                                                lr=learning_rate, clip_norm=gradient_clip_norm, \n",
    "                                                train_steps=train_steps, val_steps=val_steps)\n",
    "        test_loss, test_acc = rnn_model.test(test_set=test_gen, hidden_state=hidden_state, test_steps=test_steps)\n",
    "        test_loss_results.append(test_loss)\n",
    "        test_acc_results.append(test_acc)\n",
    "        # Plot training and validation loss\n",
    "        epoch = np.arange(len(train_loss))\n",
    "        plt.figure()\n",
    "        plt.plot(epoch, train_loss, 'r', label='Training loss',)\n",
    "        plt.plot(epoch, valid_loss, 'b', label='Validation loss')\n",
    "        plt.legend()\n",
    "        plt.xlabel('Epoch'), plt.ylabel('Loss')\n",
    "        plt.savefig(f'char_{seq_len}_exp_{n}_rnn.png')\n",
    "    \n",
    "    print(f'Average char test loss: seq_len: {seq_len}, {np.average(test_loss_results)}')\n",
    "    print(f'Average char test acc: seq_len: {seq_len}, {np.average(test_acc_results)}')\n",
    "    rnn_test_results[seq_len]['loss'] = np.average(test_loss_results)\n",
    "    rnn_test_results[seq_len]['acc'] = np.average(test_acc_results)\n",
    "    rnn_test_results[seq_len]['all_loss'] = test_loss_results.copy()\n",
    "    rnn_test_results[seq_len]['all_acc'] = test_acc_results.copy()"
   ]
  },
  {
   "cell_type": "markdown",
   "metadata": {
    "id": "G2A5-p3-Tx2I"
   },
   "source": [
    "# **Bidirectional HORNN**"
   ]
  },
  {
   "cell_type": "code",
   "execution_count": 47,
   "metadata": {
    "executionInfo": {
     "elapsed": 1676,
     "status": "ok",
     "timestamp": 1619556941775,
     "user": {
      "displayName": "Marat Bekmyrza",
      "photoUrl": "https://lh3.googleusercontent.com/a-/AOh14Gib-0tD7WjH3aGtX_5Rj6vIsFhVEXlrGvZoOgMH=s64",
      "userId": "16583475954751235795"
     },
     "user_tz": -360
    },
    "id": "5FLAQfGWTZhm"
   },
   "outputs": [],
   "source": [
    "class HORNN():\n",
    "    def __init__(self, hidden_size, input_size, out_size, order, seq_len):\n",
    "        self.order = order\n",
    "        Vf = {}\n",
    "        for i in range(self.order):\n",
    "            Vf[-i-1] = np.random.randn(hidden_size, hidden_size)*0.1 # W_hh\n",
    "        Uf = np.random.randn(hidden_size, input_size)*0.1    # W_hx\n",
    "        b_hiddenf = np.zeros((hidden_size, 1))               # b_h\n",
    "        self.params_f = [Vf, Uf, b_hiddenf]\n",
    "        self.best_f = [Vf, Uf, b_hiddenf]\n",
    "        \n",
    "        T = seq_len\n",
    "        Vb = {}\n",
    "        for i in range(self.order):\n",
    "            Vb[T+i] = np.random.randn(hidden_size, hidden_size)*0.1 # W_hh\n",
    "        Ub = np.random.randn(hidden_size, input_size)*0.1    # W_hx\n",
    "        b_hiddenb = np.zeros((hidden_size, 1))               # b_h\n",
    "        self.params_b = [Vb, Ub, b_hiddenb]\n",
    "        self.best_b = [Vb, Ub, b_hiddenb]\n",
    "\n",
    "        Wf = np.random.randn(out_size, hidden_size)*0.1     # W_hy\n",
    "        Wb = np.random.randn(out_size, hidden_size)*0.1     # W_hy\n",
    "        b_out = np.zeros((out_size, 1))                     # b_y\n",
    "        self.params_y = [Wf, Wb, b_out]\n",
    "        self.best_y = [Wf, Wb, b_out]\n",
    "    \n",
    "    def forward(self, inputs, hidden_state, best=False):\n",
    "        if best: \n",
    "            Vf, Uf, b_hiddenf = self.best_f\n",
    "            Vb, Ub, b_hiddenb = self.best_b\n",
    "            Wf, Wb, b_out = self.best_y\n",
    "        else: \n",
    "            Vf, Uf, b_hiddenf = self.params_f\n",
    "            Vb, Ub, b_hiddenb = self.params_b\n",
    "            Wf, Wb, b_out = self.params_y\n",
    "        hidden_states_f, hidden_states_b = {}, {} # only for ht\n",
    "        N, T = len(inputs), len(inputs[0])\n",
    "        for n in range(N):\n",
    "            hidden_states_f[n], hidden_states_b[n] = {}, {}\n",
    "            for i in range(self.order): # for the history window: -1, -2, -3; T, T+1, T+2\n",
    "                hidden_states_f[n][-i-1], hidden_states_b[n][T+i] = np.copy(hidden_state), np.copy(hidden_state)\n",
    "            for t in range(T):  #[0, 1, 2, ..., T-1]\n",
    "                sf = np.zeros_like(hidden_state)\n",
    "                for i in range(self.order): # order = 3: -1, -2, -3; \n",
    "                    sf += np.dot(Vf[-i-1], hidden_states_f[n][t-i-1])\n",
    "                hidden_states_f[n][t] = np.tanh(np.dot(Uf, inputs[n][t]) + sf + b_hiddenf)\n",
    "                \n",
    "                sb = np.zeros_like(hidden_state)\n",
    "                for i in range(self.order): # order = 3: T, T+1, T+2\n",
    "                    sb += np.dot(Vb[T+i], hidden_states_b[n][T-t+i])\n",
    "                hidden_states_b[n][T-t-1] = np.tanh(np.dot(Ub, inputs[n][T-t-1]) + sb + b_hiddenb)\n",
    "        outputs = {} # yt\n",
    "        for n in range(N):\n",
    "            outputs[n] = {}\n",
    "            for t in range(T):\n",
    "                # output combines positive and reversed states\n",
    "                outputs[n][t] = softmax(np.copy(np.dot(Wf, hidden_states_f[n][t]) + np.dot(Wb, hidden_states_b[n][t]) + b_out))\n",
    "        return outputs, hidden_states_f, hidden_states_b\n",
    "\n",
    "    def backward(self, inputs, outputs, hidden_states_f, hidden_states_b, targets, clip_norm):\n",
    "        N, T = len(inputs), len(inputs[0])\n",
    "        Vf, Uf, b_hiddenf = self.params_f\n",
    "        Vb, Ub, b_hiddenb = self.params_b\n",
    "        Wf, Wb, b_out = self.params_y\n",
    "        dVf, dVb = {}, {}\n",
    "        for i in range(self.order):\n",
    "            dVf[-i-1] = np.zeros_like(Vf[-i-1])\n",
    "            dVb[T+i] = np.zeros_like(Vb[T+i])\n",
    "        dUf, db_hiddenf  = np.zeros_like(Uf), np.zeros_like(b_hiddenf)\n",
    "        dUb, db_hiddenb = np.zeros_like(Ub), np.zeros_like(b_hiddenb)\n",
    "        dWf, dWb, db_out = np.zeros_like(Wf), np.zeros_like(Wb), np.zeros_like(b_out)\n",
    "\n",
    "        loss = 0.0\n",
    "        for n in range(N):\n",
    "            arrayOfM_f, arrayOfs_f = {}, {}\n",
    "            arrayOfM_b, arrayOfs_b = {}, {}\n",
    "            for i in range(self.order):\n",
    "                arrayOfM_f[i], arrayOfs_f[i] = 0.0, 0.0\n",
    "                arrayOfM_b[i], arrayOfs_b[i] = 0.0, 0.0 # ?\n",
    "            \n",
    "            for t in reversed(range(T)):\n",
    "                loss += -np.log(outputs[n][t][np.argmax(targets[n][t])])\n",
    "                # positive\n",
    "                dof = np.copy(outputs[n][t])\n",
    "                dof[np.argmax(targets[n][t])] -= 1\n",
    "                dWf += np.dot(dof, hidden_states_f[n][t].T)\n",
    "                db_out += dof\n",
    "                # reversed\n",
    "                dob = np.copy(outputs[n][T-t-1])\n",
    "                dob[np.argmax(targets[n][T-t-1])] -= 1\n",
    "                dWb += np.dot(dob, hidden_states_b[n][T-t-1].T)\n",
    "                \n",
    "                # HORNN update\n",
    "                #########################\n",
    "                # positive\n",
    "                #####\n",
    "                Mf = arrayOfM_f[0]\n",
    "                for i in range(self.order-1):\n",
    "                    Mf = Mf * arrayOfs_f[i] + arrayOfM_f[i+1]\n",
    "                \n",
    "                lf = np.dot(Wf.T, dof)\n",
    "                Mf = Mf * arrayOfs_f[self.order-1] + lf\n",
    "\n",
    "                for i in range(self.order-1):\n",
    "                    arrayOfM_f[i] = arrayOfM_f[i+1]\n",
    "                arrayOfM_f[self.order-1] = Mf\n",
    "\n",
    "                dff = (1 - hidden_states_f[n][t] * hidden_states_f[n][t])\n",
    "                rf = dff * Mf\n",
    "                for i in range(self.order):\n",
    "                    dVf[-i-1] += np.dot(rf, hidden_states_f[n][t-i-1].T)\n",
    "                db_hiddenf += rf\n",
    "                dUf += np.dot(rf, inputs[n][t].T)\n",
    "\n",
    "                for i in range(self.order-1):                   \n",
    "                    arrayOfs_f[i] = arrayOfs_f[i+1] \n",
    "                arrayOfs_f[self.order-1] = np.dot(Vf[-1].T, dff) # some questions here\n",
    "                #####\n",
    "                \n",
    "                # reversed\n",
    "                #####\n",
    "                Mb = arrayOfM_b[0]\n",
    "                for i in range(self.order-1):\n",
    "                    Mb = Mb * arrayOfs_b[i] + arrayOfM_b[i+1]\n",
    "                \n",
    "                lb = np.dot(Wb.T, dob)\n",
    "                Mb = Mb * arrayOfs_b[self.order-1] + lb\n",
    "\n",
    "                for i in range(self.order-1):\n",
    "                    arrayOfM_b[i] = arrayOfM_b[i+1]\n",
    "                arrayOfM_b[self.order-1] = Mb\n",
    "\n",
    "                dfb = (1 - hidden_states_b[n][T-t-1] * hidden_states_b[n][T-t-1])\n",
    "                rb = dfb * Mb\n",
    "                for i in range(self.order):\n",
    "                    dVb[T+i] += np.dot(rb, hidden_states_b[n][T-t+i].T)\n",
    "                db_hiddenb += rb\n",
    "                dUb += np.dot(rb, inputs[n][T-t-1].T)\n",
    "\n",
    "                for i in range(self.order-1):                   \n",
    "                    arrayOfs_b[i] = arrayOfs_b[i+1] \n",
    "                arrayOfs_b[self.order-1] = np.dot(Vb[T+1].T, dfb)\n",
    "                #####\n",
    "                #########################\n",
    "        \n",
    "        loss /= N\n",
    "        for i in range(self.order):\n",
    "            dVf[-i-1] /= N\n",
    "            dVb[T+i] /= N\n",
    "        dUf, db_hiddenf = dUf/N, db_hiddenf/N\n",
    "        dUb, db_hiddenb = dUb/N, db_hiddenb/N\n",
    "        dWf, dWb, db_out = dWf/N, dWb/N, db_out/N\n",
    "        \n",
    "        grads_f = [dVf, dUf, db_hiddenf]\n",
    "        grads_b = [dVb, dUb, db_hiddenb]\n",
    "        grads_y = [dWf, dWb, db_out]\n",
    "        grads_f = gradient_clip(grads_f, clip_norm, self.order)\n",
    "        grads_b = gradient_clip(grads_b, clip_norm, self.order)\n",
    "        grads_y = gradient_clip(grads_y, clip_norm)\n",
    "        return loss, grads_f, grads_b, grads_y\n",
    "    \n",
    "    def train(self, train_set, valid_set, hidden_state, num_epochs, lr, clip_norm, train_steps=100, val_steps=100):\n",
    "        training_loss, validation_loss = [], []\n",
    "        for epoch in range(num_epochs):\n",
    "            epoch_training_loss = 0.0\n",
    "            epoch_validation_loss = 0.0\n",
    "            min_valid_loss = 1e6\n",
    "\n",
    "            for train_step in range(train_steps):\n",
    "                inputs, targets = next(train_set)\n",
    "                outputs, hidden_states_f, hidden_states_b = self.forward(inputs, hidden_state)\n",
    "                loss, grads_f, grads_b, grads_y = self.backward(inputs, outputs, hidden_states_f, hidden_states_b, targets, clip_norm)\n",
    "                self.params_f = update_parameters(self.params_f, grads_f, lr, self.order)\n",
    "                self.params_b = update_parameters(self.params_b, grads_b, lr, self.order)\n",
    "                self.params_y = update_parameters(self.params_y, grads_y, lr)\n",
    "                epoch_training_loss += loss\n",
    "\n",
    "            for val_step in range(val_steps):\n",
    "                inputs, targets = next(valid_set)\n",
    "                outputs, _, _ = self.forward(inputs, hidden_state)\n",
    "                loss = find_loss(outputs, targets)\n",
    "                if loss < min_valid_loss:\n",
    "                    self.best_f = self.params_f.copy()\n",
    "                    self.best_b = self.params_b.copy()\n",
    "                    self.best_y = self.params_y.copy()\n",
    "                    min_valid_loss = loss\n",
    "                epoch_validation_loss += loss\n",
    "                    \n",
    "            training_loss.append(epoch_training_loss/train_steps)\n",
    "            validation_loss.append(epoch_validation_loss/val_steps)\n",
    "\n",
    "            if epoch % 2 == 0:\n",
    "                print(f'Epoch {epoch}, training loss: {training_loss[-1]}, validation loss: {validation_loss[-1]}')\n",
    "        return training_loss, validation_loss\n",
    "\n",
    "    def test(self, test_set, hidden_state, test_steps=100):\n",
    "        test_loss, test_acc = 0.0, 0.0\n",
    "        for test_step in range(test_steps):\n",
    "            inputs, targets = next(test_set)\n",
    "            outputs, _, _ = self.forward(inputs, hidden_state, best=True)\n",
    "            test_loss += find_loss(outputs, targets)\n",
    "            test_acc += find_acc(outputs, targets)\n",
    "        test_loss /= test_steps\n",
    "        test_acc /= test_steps\n",
    "        print(\"Test loss: \", test_loss)\n",
    "        print(\"Test acc: \", test_acc)\n",
    "        return test_loss, test_acc"
   ]
  },
  {
   "cell_type": "markdown",
   "metadata": {
    "id": "bQUoH4p9S8vN"
   },
   "source": [
    "## Train HORNN"
   ]
  },
  {
   "cell_type": "code",
   "execution_count": 48,
   "metadata": {
    "executionInfo": {
     "elapsed": 1407,
     "status": "ok",
     "timestamp": 1619556941776,
     "user": {
      "displayName": "Marat Bekmyrza",
      "photoUrl": "https://lh3.googleusercontent.com/a-/AOh14Gib-0tD7WjH3aGtX_5Rj6vIsFhVEXlrGvZoOgMH=s64",
      "userId": "16583475954751235795"
     },
     "user_tz": -360
    },
    "id": "vLMwg5tLS8RL"
   },
   "outputs": [],
   "source": [
    "### Train HORNN ###\n",
    "# Hyperparameters\n",
    "hidden_size = 16\n",
    "gradient_clip_norm = 1.0\n",
    "learning_rate = 0.01\n",
    "num_epochs = 30\n",
    "num_exp = 2\n",
    "batch_size = 64\n",
    "orders = [3]\n",
    "seq_lens = [100]"
   ]
  },
  {
   "cell_type": "code",
   "execution_count": 49,
   "metadata": {
    "colab": {
     "base_uri": "https://localhost:8080/",
     "height": 1000
    },
    "executionInfo": {
     "elapsed": 2601298,
     "status": "ok",
     "timestamp": 1619559543528,
     "user": {
      "displayName": "Marat Bekmyrza",
      "photoUrl": "https://lh3.googleusercontent.com/a-/AOh14Gib-0tD7WjH3aGtX_5Rj6vIsFhVEXlrGvZoOgMH=s64",
      "userId": "16583475954751235795"
     },
     "user_tz": -360
    },
    "id": "wM3-0UMC30bR",
    "outputId": "30087b72-61c8-4172-c03c-ec7822b857e0"
   },
   "outputs": [
    {
     "name": "stdout",
     "output_type": "stream",
     "text": [
      "HORNN 3 Experiment: 0; seq_len: 100\n",
      "Epoch 0, training loss: [305.21122894], validation loss: [286.34018347]\n",
      "Epoch 2, training loss: [255.27348389], validation loss: [242.64729699]\n",
      "Epoch 4, training loss: [208.78531178], validation loss: [197.03159375]\n",
      "Epoch 6, training loss: [167.82792878], validation loss: [160.33824237]\n",
      "Epoch 8, training loss: [141.91514083], validation loss: [138.03945436]\n",
      "Epoch 10, training loss: [123.13248311], validation loss: [119.61597065]\n",
      "Epoch 12, training loss: [111.84569231], validation loss: [108.10197727]\n",
      "Epoch 14, training loss: [156.24859301], validation loss: [139.46513079]\n",
      "Epoch 16, training loss: [106.73467111], validation loss: [102.417474]\n",
      "Epoch 18, training loss: [92.18040697], validation loss: [93.89021578]\n",
      "Epoch 20, training loss: [132.45214343], validation loss: [252.98139999]\n",
      "Epoch 22, training loss: [182.47879578], validation loss: [171.36045445]\n",
      "Epoch 24, training loss: [163.44307019], validation loss: [163.11097587]\n",
      "Epoch 26, training loss: [152.96916689], validation loss: [152.60867802]\n",
      "Epoch 28, training loss: [145.98636921], validation loss: [146.45258131]\n",
      "Test loss:  [158.09750612]\n",
      "Test acc:  0.5285416666666666\n",
      "HORNN 3 Experiment: 1; seq_len: 100\n",
      "Epoch 0, training loss: [305.89613001], validation loss: [281.80012826]\n",
      "Epoch 2, training loss: [256.68298089], validation loss: [257.63640821]\n",
      "Epoch 4, training loss: [250.61614683], validation loss: [258.8596722]\n",
      "Epoch 6, training loss: [239.12010127], validation loss: [238.25488983]\n",
      "Epoch 8, training loss: [211.67841861], validation loss: [205.72080337]\n",
      "Epoch 10, training loss: [183.49036777], validation loss: [176.510251]\n",
      "Epoch 12, training loss: [173.73154487], validation loss: [168.75630305]\n",
      "Epoch 14, training loss: [169.05467229], validation loss: [157.55715171]\n",
      "Epoch 16, training loss: [147.13478861], validation loss: [188.13845538]\n",
      "Epoch 18, training loss: [159.70692607], validation loss: [153.1377958]\n",
      "Epoch 20, training loss: [166.74254576], validation loss: [159.12735063]\n",
      "Epoch 22, training loss: [160.96402935], validation loss: [151.99738667]\n",
      "Epoch 24, training loss: [167.33145107], validation loss: [178.78501687]\n",
      "Epoch 26, training loss: [197.32918838], validation loss: [193.92841324]\n",
      "Epoch 28, training loss: [214.81170505], validation loss: [202.81184999]\n",
      "Test loss:  [186.32316797]\n",
      "Test acc:  0.4535416666666667\n",
      "Seq_len: 100; HORNN-3 average char test loss: 172.21033704821104\n",
      "Seq_len: 100; HORNN-3 average char test acc: 0.4910416666666666\n"
     ]
    },
    {
     "data": {
      "image/png": "[encoded data removed]",
      "text/plain": [
       "<Figure size 432x288 with 1 Axes>"
      ]
     },
     "metadata": {
      "needs_background": "light",
      "tags": []
     },
     "output_type": "display_data"
    },
    {
     "data": {
      "image/png": "[encoded data removed]",
      "text/plain": [
       "<Figure size 432x288 with 1 Axes>"
      ]
     },
     "metadata": {
      "needs_background": "light",
      "tags": []
     },
     "output_type": "display_data"
    }
   ],
   "source": [
    "hornn_test_results = {}\n",
    "for seq_len in seq_lens:\n",
    "    train_gen = data_generator(train_data, vocab_size, seq_len, batch_size)\n",
    "    test_gen = data_generator(test_data, vocab_size, seq_len, batch_size)\n",
    "    val_gen =  data_generator(valid_data, vocab_size, seq_len, batch_size)\n",
    "\n",
    "    train_steps = len(train_data)//((seq_len+1)*batch_size)\n",
    "    test_steps = len(test_data)//((seq_len+1)*batch_size)\n",
    "    val_steps = len(valid_data)//((seq_len+1)*batch_size)\n",
    "\n",
    "    hornn_test_results[seq_len] = {}\n",
    "    for order in orders:\n",
    "        hornn_test_results[seq_len][order] = {}\n",
    "        test_loss_results, test_acc_results = [], []\n",
    "        for n in range(num_exp):\n",
    "            print(f'HORNN {order} Experiment: {n}; seq_len: {seq_len}')\n",
    "            hornn_model = HORNN(hidden_size, input_size=vocab_size, out_size=vocab_size, order=order, seq_len=seq_len)\n",
    "            hidden_state = np.zeros((hidden_size, 1))  # Initial hidden_state\n",
    "            hornn_train_loss, hornn_valid_loss = hornn_model.train(train_set=train_gen, valid_set=val_gen, \n",
    "                                                    hidden_state=hidden_state, num_epochs=num_epochs, \n",
    "                                                    lr=learning_rate, clip_norm=gradient_clip_norm, \n",
    "                                                    train_steps=train_steps, val_steps=val_steps)\n",
    "            hornn_test_loss, hornn_test_acc = hornn_model.test(test_set=test_gen, hidden_state=hidden_state, test_steps=test_steps)\n",
    "            test_loss_results.append(hornn_test_loss)\n",
    "            test_acc_results.append(hornn_test_acc)\n",
    "            # Plot training and validation loss\n",
    "            epoch = np.arange(len(hornn_train_loss))\n",
    "            plt.figure()\n",
    "            plt.plot(epoch, hornn_train_loss, 'r', label='Training loss',)\n",
    "            plt.plot(epoch, hornn_valid_loss, 'b', label='Validation loss')\n",
    "            plt.legend()\n",
    "            plt.xlabel('Epoch'), plt.ylabel('Loss')\n",
    "            plt.savefig(f'char_{seq_len}__hornn{order}_exp_{n}.png')\n",
    "        \n",
    "        print(f'Seq_len: {seq_len}; HORNN-{order} average char test loss: {np.average(test_loss_results)}')\n",
    "        print(f'Seq_len: {seq_len}; HORNN-{order} average char test acc: {np.average(test_acc_results)}')\n",
    "        hornn_test_results[seq_len][order]['loss'] = np.average(test_loss_results)\n",
    "        hornn_test_results[seq_len][order]['acc'] = np.average(test_acc_results)\n",
    "        hornn_test_results[seq_len][order]['all_loss'] = test_loss_results.copy()\n",
    "        hornn_test_results[seq_len][order]['all_acc'] = test_acc_results.copy()"
   ]
  },
  {
   "cell_type": "code",
   "execution_count": 42,
   "metadata": {
    "executionInfo": {
     "elapsed": 3445590,
     "status": "ok",
     "timestamp": 1619556793266,
     "user": {
      "displayName": "Marat Bekmyrza",
      "photoUrl": "https://lh3.googleusercontent.com/a-/AOh14Gib-0tD7WjH3aGtX_5Rj6vIsFhVEXlrGvZoOgMH=s64",
      "userId": "16583475954751235795"
     },
     "user_tz": -360
    },
    "id": "4KcU92giZNof"
   },
   "outputs": [],
   "source": []
  }
 ],
 "metadata": {
  "colab": {
   "authorship_tag": "ABX9TyPruqxHRm1A0mkkytbejwQi",
   "collapsed_sections": [
    "C_qLZ9HetCrt",
    "ljhvNakDw2rL"
   ],
   "name": "bi-hornn.ipynb",
   "provenance": [],
   "toc_visible": true
  },
  "kernelspec": {
   "display_name": "Python 3",
   "language": "python",
   "name": "python3"
  },
  "language_info": {
   "codemirror_mode": {
    "name": "ipython",
    "version": 3
   },
   "file_extension": ".py",
   "mimetype": "text/x-python",
   "name": "python",
   "nbconvert_exporter": "python",
   "pygments_lexer": "ipython3",
   "version": "3.7.2"
  }
 },
 "nbformat": 4,
 "nbformat_minor": 1
}
